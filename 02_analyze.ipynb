{
 "cells": [
  {
   "cell_type": "markdown",
   "id": "f40828da-0c9d-4633-aabe-52af9911d0be",
   "metadata": {
    "tags": []
   },
   "source": [
    "## Setup"
   ]
  },
  {
   "cell_type": "code",
   "execution_count": 1,
   "id": "48737e58-e7b4-48a7-8f44-88e5183e13a4",
   "metadata": {},
   "outputs": [],
   "source": [
    "import warnings\n",
    "warnings.filterwarnings('ignore')"
   ]
  },
  {
   "cell_type": "code",
   "execution_count": 2,
   "id": "ab01c530-8d67-4536-a8a2-cf6a700d1c9d",
   "metadata": {},
   "outputs": [],
   "source": [
    "import pandas as pd\n",
    "import geopandas as gpd\n",
    "import altair as alt\n",
    "import altair_latimes as lat"
   ]
  },
  {
   "cell_type": "code",
   "execution_count": 3,
   "id": "5fff3bdf-2e1a-47c1-9a4b-b85c73a7f664",
   "metadata": {},
   "outputs": [
    {
     "data": {
      "text/plain": [
       "ThemeRegistry.enable('latimes')"
      ]
     },
     "execution_count": 3,
     "metadata": {},
     "output_type": "execute_result"
    }
   ],
   "source": [
    "alt.themes.register('latimes', lat.theme)\n",
    "alt.themes.enable('latimes')"
   ]
  },
  {
   "cell_type": "code",
   "execution_count": 4,
   "id": "5e64245a-59d0-48fa-8330-7119f5d730c3",
   "metadata": {},
   "outputs": [],
   "source": [
    "wells = pd.read_csv('./data/well_completion.csv') \n",
    "shortage = pd.read_csv('./data/shortages.csv') \n",
    "levels = pd.read_csv('./data/spring_water_levels.csv') "
   ]
  },
  {
   "cell_type": "code",
   "execution_count": 5,
   "id": "3680f0bf-af6e-4954-8cc0-1fd3fa2b4e28",
   "metadata": {},
   "outputs": [],
   "source": [
    "main_counties = [\"Fresno\", \"Kern\", \"Kings\", \"Madera\", \"Merced\", \"San Joaquin\", \"Stanislaus\", \"Tulare\"]"
   ]
  },
  {
   "cell_type": "markdown",
   "id": "8152dba3-ef32-417d-bde9-a239d507a5a9",
   "metadata": {},
   "source": [
    "## Wells drilled in 2021"
   ]
  },
  {
   "cell_type": "code",
   "execution_count": 6,
   "id": "ae5eac2c-c812-4c81-9222-7085c42a5931",
   "metadata": {},
   "outputs": [],
   "source": [
    "grouped_date_use = wells.groupby(['year_work_ended','use']).agg({\n",
    "    'wcr_no': ['count'],\n",
    "}).reset_index()\n",
    "grouped_date_use.columns = [\"date\",\"use\",\"count\"]"
   ]
  },
  {
   "cell_type": "code",
   "execution_count": 7,
   "id": "70414415-1d3b-40d0-8fb2-f4dcfa163f40",
   "metadata": {},
   "outputs": [],
   "source": [
    "grouped_date_use_pivot = grouped_date_use.pivot(index='date', columns='use', values='count').reset_index()"
   ]
  },
  {
   "cell_type": "code",
   "execution_count": 8,
   "id": "c0e5a8d3-df79-4f8e-abdb-2f8836217b75",
   "metadata": {},
   "outputs": [
    {
     "data": {
      "text/html": [
       "<div>\n",
       "<style scoped>\n",
       "    .dataframe tbody tr th:only-of-type {\n",
       "        vertical-align: middle;\n",
       "    }\n",
       "\n",
       "    .dataframe tbody tr th {\n",
       "        vertical-align: top;\n",
       "    }\n",
       "\n",
       "    .dataframe thead th {\n",
       "        text-align: right;\n",
       "    }\n",
       "</style>\n",
       "<table border=\"1\" class=\"dataframe\">\n",
       "  <thead>\n",
       "    <tr style=\"text-align: right;\">\n",
       "      <th>use</th>\n",
       "      <th>date</th>\n",
       "      <th>agriculture</th>\n",
       "      <th>domestic</th>\n",
       "      <th>public</th>\n",
       "    </tr>\n",
       "  </thead>\n",
       "  <tbody>\n",
       "    <tr>\n",
       "      <th>97</th>\n",
       "      <td>2021.0</td>\n",
       "      <td>619.0</td>\n",
       "      <td>671.0</td>\n",
       "      <td>12.0</td>\n",
       "    </tr>\n",
       "  </tbody>\n",
       "</table>\n",
       "</div>"
      ],
      "text/plain": [
       "use    date  agriculture  domestic  public\n",
       "97   2021.0        619.0     671.0    12.0"
      ]
     },
     "execution_count": 8,
     "metadata": {},
     "output_type": "execute_result"
    }
   ],
   "source": [
    "grouped_date_use_pivot.tail(1)"
   ]
  },
  {
   "cell_type": "markdown",
   "id": "9814ca3a-1927-4013-bbd3-5956e8b83e6c",
   "metadata": {},
   "source": [
    "## Total agriculture wells"
   ]
  },
  {
   "cell_type": "code",
   "execution_count": 9,
   "id": "74864db9-e229-4889-8183-3965c0155fb1",
   "metadata": {},
   "outputs": [
    {
     "data": {
      "text/plain": [
       "34362.0"
      ]
     },
     "execution_count": 9,
     "metadata": {},
     "output_type": "execute_result"
    }
   ],
   "source": [
    "grouped_date_use_pivot['agriculture'].sum()"
   ]
  },
  {
   "cell_type": "markdown",
   "id": "66aab7c1-37ef-4a6b-b0df-07d6527d117d",
   "metadata": {},
   "source": [
    "## Total domestic wells"
   ]
  },
  {
   "cell_type": "code",
   "execution_count": 10,
   "id": "681b6ee4-c535-4003-9ed9-c1e79b3ea992",
   "metadata": {},
   "outputs": [
    {
     "data": {
      "text/plain": [
       "59513.0"
      ]
     },
     "execution_count": 10,
     "metadata": {},
     "output_type": "execute_result"
    }
   ],
   "source": [
    "grouped_date_use_pivot['domestic'].sum()"
   ]
  },
  {
   "cell_type": "markdown",
   "id": "e26fc63c-0434-4017-a4c7-f98b8fe4cd11",
   "metadata": {},
   "source": [
    "## Well construction over time"
   ]
  },
  {
   "cell_type": "code",
   "execution_count": 11,
   "id": "d538f226-1f50-47b8-b79d-6337f1dcdac1",
   "metadata": {},
   "outputs": [
    {
     "data": {
      "text/html": [
       "\n",
       "<div id=\"altair-viz-c208ce16d8f644e9827d90f68654d2eb\"></div>\n",
       "<script type=\"text/javascript\">\n",
       "  (function(spec, embedOpt){\n",
       "    let outputDiv = document.currentScript.previousElementSibling;\n",
       "    if (outputDiv.id !== \"altair-viz-c208ce16d8f644e9827d90f68654d2eb\") {\n",
       "      outputDiv = document.getElementById(\"altair-viz-c208ce16d8f644e9827d90f68654d2eb\");\n",
       "    }\n",
       "    const paths = {\n",
       "      \"vega\": \"https://cdn.jsdelivr.net/npm//vega@5?noext\",\n",
       "      \"vega-lib\": \"https://cdn.jsdelivr.net/npm//vega-lib?noext\",\n",
       "      \"vega-lite\": \"https://cdn.jsdelivr.net/npm//vega-lite@4.8.1?noext\",\n",
       "      \"vega-embed\": \"https://cdn.jsdelivr.net/npm//vega-embed@6?noext\",\n",
       "    };\n",
       "\n",
       "    function loadScript(lib) {\n",
       "      return new Promise(function(resolve, reject) {\n",
       "        var s = document.createElement('script');\n",
       "        s.src = paths[lib];\n",
       "        s.async = true;\n",
       "        s.onload = () => resolve(paths[lib]);\n",
       "        s.onerror = () => reject(`Error loading script: ${paths[lib]}`);\n",
       "        document.getElementsByTagName(\"head\")[0].appendChild(s);\n",
       "      });\n",
       "    }\n",
       "\n",
       "    function showError(err) {\n",
       "      outputDiv.innerHTML = `<div class=\"error\" style=\"color:red;\">${err}</div>`;\n",
       "      throw err;\n",
       "    }\n",
       "\n",
       "    function displayChart(vegaEmbed) {\n",
       "      vegaEmbed(outputDiv, spec, embedOpt)\n",
       "        .catch(err => showError(`Javascript Error: ${err.message}<br>This usually means there's a typo in your chart specification. See the javascript console for the full traceback.`));\n",
       "    }\n",
       "\n",
       "    if(typeof define === \"function\" && define.amd) {\n",
       "      requirejs.config({paths});\n",
       "      require([\"vega-embed\"], displayChart, err => showError(`Error loading script: ${err.message}`));\n",
       "    } else if (typeof vegaEmbed === \"function\") {\n",
       "      displayChart(vegaEmbed);\n",
       "    } else {\n",
       "      loadScript(\"vega\")\n",
       "        .then(() => loadScript(\"vega-lite\"))\n",
       "        .then(() => loadScript(\"vega-embed\"))\n",
       "        .catch(showError)\n",
       "        .then(() => displayChart(vegaEmbed));\n",
       "    }\n",
       "  })({\"config\": {\"view\": {\"width\": 800, \"height\": 450}, \"background\": \"#ffffff\", \"title\": {\"anchor\": \"start\", \"font\": \"BentonGothic-Bold, sans\", \"fontColor\": \"#000000\", \"fontSize\": 22, \"fontWeight\": \"normal\"}, \"arc\": {\"fill\": \"#82c6df\"}, \"area\": {\"fill\": \"#82c6df\"}, \"line\": {\"stroke\": \"#82c6df\", \"strokeWidth\": 3}, \"path\": {\"stroke\": \"#82c6df\"}, \"rect\": {\"fill\": \"#82c6df\"}, \"shape\": {\"stroke\": \"#82c6df\"}, \"bar\": {\"fill\": \"#82c6df\"}, \"point\": {\"stroke\": \"#82c6df\"}, \"symbol\": {\"fill\": \"#82c6df\", \"size\": 30}, \"axis\": {\"titleFont\": \"BentonGothic-Bold, sans\", \"titleFontSize\": 14, \"titleFontWeight\": \"normal\", \"labelFont\": \"BentonGothic, sans\", \"labelFontSize\": 12, \"labelFontWeight\": \"normal\"}, \"axisX\": {\"labelAngle\": 0, \"labelPadding\": 4, \"tickSize\": 3}, \"axisY\": {\"labelBaseline\": \"middle\", \"maxExtent\": 45, \"minExtent\": 45, \"tickSize\": 2, \"titleAlign\": \"left\", \"titleAngle\": 0, \"titleX\": -45, \"titleY\": -11}, \"legend\": {\"titleFont\": \"BentonGothic-Bold, sans\", \"titleFontSize\": 14, \"titleFontWeight\": \"normal\", \"symbolType\": \"square\", \"labelFont\": \"BentonGothic, sans\", \"labelFontSize\": 13}, \"range\": {\"category\": [\"#3580b1\", \"#ec8431\", \"#ab7fb4\", \"#c89d29\", \"#adc839\", \"#829eb1\"], \"diverging\": [\"#e68a4f\", \"#f4bb6a\", \"#f9e39c\", \"#dadfe2\", \"#a6b7c6\", \"#849eae\"], \"heatmap\": [\"#fbf2c7\", \"#f9e39c\", \"#f8d36e\", \"#f4bb6a\", \"#e68a4f\", \"#d15a40\", \"#ab4232\"], \"ordinal\": [\"#fbf2c7\", \"#f9e39c\", \"#f8d36e\", \"#f4bb6a\", \"#e68a4f\", \"#d15a40\", \"#ab4232\"], \"ramp\": [\"#fbf2c7\", \"#f9e39c\", \"#f8d36e\", \"#f4bb6a\", \"#e68a4f\", \"#d15a40\", \"#ab4232\"]}}, \"layer\": [{\"data\": {\"name\": \"data-8d673063f9e375b0e36b21ee75781660\"}, \"mark\": {\"type\": \"rect\", \"color\": \"#EEE\"}, \"encoding\": {\"x\": {\"type\": \"temporal\", \"field\": \"start\"}, \"x2\": {\"field\": \"end\"}}}, {\"data\": {\"name\": \"data-eb7920116e4d284e3df1c4bdbac4ced2\"}, \"mark\": \"circle\", \"encoding\": {\"color\": {\"type\": \"nominal\", \"field\": \"use\"}, \"opacity\": {\"value\": 0}, \"tooltip\": [{\"type\": \"quantitative\", \"field\": \"date\"}, {\"type\": \"nominal\", \"field\": \"use\"}, {\"type\": \"quantitative\", \"field\": \"count\"}], \"x\": {\"type\": \"temporal\", \"axis\": {\"format\": \"%Y\", \"title\": \"Year\", \"values\": [0.995, 0.02]}, \"field\": \"date\"}, \"y\": {\"type\": \"quantitative\", \"field\": \"count\"}}, \"height\": 300, \"selection\": {\"selector001\": {\"type\": \"single\", \"on\": \"mouseover\", \"fields\": [\"use\"], \"nearest\": true, \"init\": {\"use\": \"agriculture\"}}}, \"width\": 600}, {\"data\": {\"name\": \"data-eb7920116e4d284e3df1c4bdbac4ced2\"}, \"mark\": \"line\", \"encoding\": {\"color\": {\"type\": \"nominal\", \"field\": \"use\"}, \"size\": {\"condition\": {\"value\": 1, \"selection\": {\"not\": \"selector001\"}}, \"value\": 3}, \"tooltip\": [{\"type\": \"quantitative\", \"field\": \"date\"}, {\"type\": \"nominal\", \"field\": \"use\"}, {\"type\": \"quantitative\", \"field\": \"count\"}], \"x\": {\"type\": \"temporal\", \"axis\": {\"format\": \"%Y\", \"title\": \"Year\", \"values\": [0.995, 0.02]}, \"field\": \"date\"}, \"y\": {\"type\": \"quantitative\", \"field\": \"count\"}}}, {\"data\": {\"name\": \"data-fc31ed7477c1557785b92e241be8b9ad\"}, \"mark\": {\"type\": \"rule\", \"color\": \"#000\"}, \"encoding\": {\"x\": {\"type\": \"temporal\", \"field\": \"date\"}}}], \"$schema\": \"https://vega.github.io/schema/vega-lite/v4.8.1.json\", \"datasets\": {\"data-8d673063f9e375b0e36b21ee75781660\": [{\"start\": 1976, \"end\": 1977}, {\"start\": 1987, \"end\": 1992}, {\"start\": 2001, \"end\": 2002}, {\"start\": 2007, \"end\": 2009}, {\"start\": 2012, \"end\": 2016}], \"data-eb7920116e4d284e3df1c4bdbac4ced2\": [{\"date\": 1960.0, \"use\": \"agriculture\", \"count\": 525}, {\"date\": 1960.0, \"use\": \"domestic\", \"count\": 534}, {\"date\": 1960.0, \"use\": \"public\", \"count\": 32}, {\"date\": 1961.0, \"use\": \"agriculture\", \"count\": 754}, {\"date\": 1961.0, \"use\": \"domestic\", \"count\": 855}, {\"date\": 1961.0, \"use\": \"public\", \"count\": 32}, {\"date\": 1962.0, \"use\": \"agriculture\", \"count\": 335}, {\"date\": 1962.0, \"use\": \"domestic\", \"count\": 439}, {\"date\": 1962.0, \"use\": \"public\", \"count\": 25}, {\"date\": 1963.0, \"use\": \"agriculture\", \"count\": 299}, {\"date\": 1963.0, \"use\": \"domestic\", \"count\": 294}, {\"date\": 1963.0, \"use\": \"public\", \"count\": 13}, {\"date\": 1964.0, \"use\": \"agriculture\", \"count\": 300}, {\"date\": 1964.0, \"use\": \"domestic\", \"count\": 386}, {\"date\": 1964.0, \"use\": \"public\", \"count\": 22}, {\"date\": 1965.0, \"use\": \"agriculture\", \"count\": 321}, {\"date\": 1965.0, \"use\": \"domestic\", \"count\": 357}, {\"date\": 1965.0, \"use\": \"public\", \"count\": 23}, {\"date\": 1966.0, \"use\": \"agriculture\", \"count\": 440}, {\"date\": 1966.0, \"use\": \"domestic\", \"count\": 666}, {\"date\": 1966.0, \"use\": \"public\", \"count\": 18}, {\"date\": 1967.0, \"use\": \"agriculture\", \"count\": 247}, {\"date\": 1967.0, \"use\": \"domestic\", \"count\": 426}, {\"date\": 1967.0, \"use\": \"public\", \"count\": 16}, {\"date\": 1968.0, \"use\": \"agriculture\", \"count\": 255}, {\"date\": 1968.0, \"use\": \"domestic\", \"count\": 419}, {\"date\": 1968.0, \"use\": \"public\", \"count\": 14}, {\"date\": 1969.0, \"use\": \"agriculture\", \"count\": 197}, {\"date\": 1969.0, \"use\": \"domestic\", \"count\": 380}, {\"date\": 1969.0, \"use\": \"public\", \"count\": 15}, {\"date\": 1970.0, \"use\": \"agriculture\", \"count\": 239}, {\"date\": 1970.0, \"use\": \"domestic\", \"count\": 419}, {\"date\": 1970.0, \"use\": \"public\", \"count\": 17}, {\"date\": 1971.0, \"use\": \"agriculture\", \"count\": 291}, {\"date\": 1971.0, \"use\": \"domestic\", \"count\": 583}, {\"date\": 1971.0, \"use\": \"public\", \"count\": 17}, {\"date\": 1972.0, \"use\": \"agriculture\", \"count\": 440}, {\"date\": 1972.0, \"use\": \"domestic\", \"count\": 816}, {\"date\": 1972.0, \"use\": \"public\", \"count\": 22}, {\"date\": 1973.0, \"use\": \"agriculture\", \"count\": 461}, {\"date\": 1973.0, \"use\": \"domestic\", \"count\": 754}, {\"date\": 1973.0, \"use\": \"public\", \"count\": 22}, {\"date\": 1974.0, \"use\": \"agriculture\", \"count\": 458}, {\"date\": 1974.0, \"use\": \"domestic\", \"count\": 781}, {\"date\": 1974.0, \"use\": \"public\", \"count\": 13}, {\"date\": 1975.0, \"use\": \"agriculture\", \"count\": 362}, {\"date\": 1975.0, \"use\": \"domestic\", \"count\": 781}, {\"date\": 1975.0, \"use\": \"public\", \"count\": 10}, {\"date\": 1976.0, \"use\": \"agriculture\", \"count\": 841}, {\"date\": 1976.0, \"use\": \"domestic\", \"count\": 1242}, {\"date\": 1976.0, \"use\": \"public\", \"count\": 28}, {\"date\": 1977.0, \"use\": \"agriculture\", \"count\": 2609}, {\"date\": 1977.0, \"use\": \"domestic\", \"count\": 2050}, {\"date\": 1977.0, \"use\": \"public\", \"count\": 19}, {\"date\": 1978.0, \"use\": \"agriculture\", \"count\": 1015}, {\"date\": 1978.0, \"use\": \"domestic\", \"count\": 2020}, {\"date\": 1978.0, \"use\": \"public\", \"count\": 41}, {\"date\": 1979.0, \"use\": \"agriculture\", \"count\": 564}, {\"date\": 1979.0, \"use\": \"domestic\", \"count\": 1527}, {\"date\": 1979.0, \"use\": \"public\", \"count\": 22}, {\"date\": 1980.0, \"use\": \"agriculture\", \"count\": 439}, {\"date\": 1980.0, \"use\": \"domestic\", \"count\": 1091}, {\"date\": 1980.0, \"use\": \"public\", \"count\": 14}, {\"date\": 1981.0, \"use\": \"agriculture\", \"count\": 402}, {\"date\": 1981.0, \"use\": \"domestic\", \"count\": 890}, {\"date\": 1981.0, \"use\": \"public\", \"count\": 17}, {\"date\": 1982.0, \"use\": \"agriculture\", \"count\": 207}, {\"date\": 1982.0, \"use\": \"domestic\", \"count\": 638}, {\"date\": 1982.0, \"use\": \"public\", \"count\": 15}, {\"date\": 1983.0, \"use\": \"agriculture\", \"count\": 123}, {\"date\": 1983.0, \"use\": \"domestic\", \"count\": 821}, {\"date\": 1983.0, \"use\": \"public\", \"count\": 8}, {\"date\": 1984.0, \"use\": \"agriculture\", \"count\": 196}, {\"date\": 1984.0, \"use\": \"domestic\", \"count\": 814}, {\"date\": 1984.0, \"use\": \"public\", \"count\": 25}, {\"date\": 1985.0, \"use\": \"agriculture\", \"count\": 171}, {\"date\": 1985.0, \"use\": \"domestic\", \"count\": 899}, {\"date\": 1985.0, \"use\": \"public\", \"count\": 39}, {\"date\": 1986.0, \"use\": \"agriculture\", \"count\": 124}, {\"date\": 1986.0, \"use\": \"domestic\", \"count\": 1062}, {\"date\": 1986.0, \"use\": \"public\", \"count\": 32}, {\"date\": 1987.0, \"use\": \"agriculture\", \"count\": 284}, {\"date\": 1987.0, \"use\": \"domestic\", \"count\": 1200}, {\"date\": 1987.0, \"use\": \"public\", \"count\": 24}, {\"date\": 1988.0, \"use\": \"agriculture\", \"count\": 427}, {\"date\": 1988.0, \"use\": \"domestic\", \"count\": 1357}, {\"date\": 1988.0, \"use\": \"public\", \"count\": 44}, {\"date\": 1989.0, \"use\": \"agriculture\", \"count\": 451}, {\"date\": 1989.0, \"use\": \"domestic\", \"count\": 1414}, {\"date\": 1989.0, \"use\": \"public\", \"count\": 31}, {\"date\": 1990.0, \"use\": \"agriculture\", \"count\": 656}, {\"date\": 1990.0, \"use\": \"domestic\", \"count\": 1718}, {\"date\": 1990.0, \"use\": \"public\", \"count\": 62}, {\"date\": 1991.0, \"use\": \"agriculture\", \"count\": 1065}, {\"date\": 1991.0, \"use\": \"domestic\", \"count\": 1804}, {\"date\": 1991.0, \"use\": \"public\", \"count\": 76}, {\"date\": 1992.0, \"use\": \"agriculture\", \"count\": 697}, {\"date\": 1992.0, \"use\": \"domestic\", \"count\": 1602}, {\"date\": 1992.0, \"use\": \"public\", \"count\": 77}, {\"date\": 1993.0, \"use\": \"agriculture\", \"count\": 426}, {\"date\": 1993.0, \"use\": \"domestic\", \"count\": 1101}, {\"date\": 1993.0, \"use\": \"public\", \"count\": 71}, {\"date\": 1994.0, \"use\": \"agriculture\", \"count\": 515}, {\"date\": 1994.0, \"use\": \"domestic\", \"count\": 1104}, {\"date\": 1994.0, \"use\": \"public\", \"count\": 66}, {\"date\": 1995.0, \"use\": \"agriculture\", \"count\": 309}, {\"date\": 1995.0, \"use\": \"domestic\", \"count\": 793}, {\"date\": 1995.0, \"use\": \"public\", \"count\": 54}, {\"date\": 1996.0, \"use\": \"agriculture\", \"count\": 283}, {\"date\": 1996.0, \"use\": \"domestic\", \"count\": 769}, {\"date\": 1996.0, \"use\": \"public\", \"count\": 47}, {\"date\": 1997.0, \"use\": \"agriculture\", \"count\": 234}, {\"date\": 1997.0, \"use\": \"domestic\", \"count\": 749}, {\"date\": 1997.0, \"use\": \"public\", \"count\": 50}, {\"date\": 1998.0, \"use\": \"agriculture\", \"count\": 211}, {\"date\": 1998.0, \"use\": \"domestic\", \"count\": 707}, {\"date\": 1998.0, \"use\": \"public\", \"count\": 43}, {\"date\": 1999.0, \"use\": \"agriculture\", \"count\": 233}, {\"date\": 1999.0, \"use\": \"domestic\", \"count\": 861}, {\"date\": 1999.0, \"use\": \"public\", \"count\": 52}, {\"date\": 2000.0, \"use\": \"agriculture\", \"count\": 296}, {\"date\": 2000.0, \"use\": \"domestic\", \"count\": 946}, {\"date\": 2000.0, \"use\": \"public\", \"count\": 56}, {\"date\": 2001.0, \"use\": \"agriculture\", \"count\": 296}, {\"date\": 2001.0, \"use\": \"domestic\", \"count\": 1101}, {\"date\": 2001.0, \"use\": \"public\", \"count\": 64}, {\"date\": 2002.0, \"use\": \"agriculture\", \"count\": 293}, {\"date\": 2002.0, \"use\": \"domestic\", \"count\": 1099}, {\"date\": 2002.0, \"use\": \"public\", \"count\": 43}, {\"date\": 2003.0, \"use\": \"agriculture\", \"count\": 291}, {\"date\": 2003.0, \"use\": \"domestic\", \"count\": 1244}, {\"date\": 2003.0, \"use\": \"public\", \"count\": 57}, {\"date\": 2004.0, \"use\": \"agriculture\", \"count\": 275}, {\"date\": 2004.0, \"use\": \"domestic\", \"count\": 1214}, {\"date\": 2004.0, \"use\": \"public\", \"count\": 85}, {\"date\": 2005.0, \"use\": \"agriculture\", \"count\": 355}, {\"date\": 2005.0, \"use\": \"domestic\", \"count\": 1377}, {\"date\": 2005.0, \"use\": \"public\", \"count\": 84}, {\"date\": 2006.0, \"use\": \"agriculture\", \"count\": 257}, {\"date\": 2006.0, \"use\": \"domestic\", \"count\": 958}, {\"date\": 2006.0, \"use\": \"public\", \"count\": 58}, {\"date\": 2007.0, \"use\": \"agriculture\", \"count\": 508}, {\"date\": 2007.0, \"use\": \"domestic\", \"count\": 1026}, {\"date\": 2007.0, \"use\": \"public\", \"count\": 50}, {\"date\": 2008.0, \"use\": \"agriculture\", \"count\": 602}, {\"date\": 2008.0, \"use\": \"domestic\", \"count\": 840}, {\"date\": 2008.0, \"use\": \"public\", \"count\": 27}, {\"date\": 2009.0, \"use\": \"agriculture\", \"count\": 537}, {\"date\": 2009.0, \"use\": \"domestic\", \"count\": 564}, {\"date\": 2009.0, \"use\": \"public\", \"count\": 28}, {\"date\": 2010.0, \"use\": \"agriculture\", \"count\": 306}, {\"date\": 2010.0, \"use\": \"domestic\", \"count\": 423}, {\"date\": 2010.0, \"use\": \"public\", \"count\": 25}, {\"date\": 2011.0, \"use\": \"agriculture\", \"count\": 313}, {\"date\": 2011.0, \"use\": \"domestic\", \"count\": 352}, {\"date\": 2011.0, \"use\": \"public\", \"count\": 21}, {\"date\": 2012.0, \"use\": \"agriculture\", \"count\": 480}, {\"date\": 2012.0, \"use\": \"domestic\", \"count\": 443}, {\"date\": 2012.0, \"use\": \"public\", \"count\": 22}, {\"date\": 2013.0, \"use\": \"agriculture\", \"count\": 649}, {\"date\": 2013.0, \"use\": \"domestic\", \"count\": 595}, {\"date\": 2013.0, \"use\": \"public\", \"count\": 17}, {\"date\": 2014.0, \"use\": \"agriculture\", \"count\": 1149}, {\"date\": 2014.0, \"use\": \"domestic\", \"count\": 697}, {\"date\": 2014.0, \"use\": \"public\", \"count\": 26}, {\"date\": 2015.0, \"use\": \"agriculture\", \"count\": 1970}, {\"date\": 2015.0, \"use\": \"domestic\", \"count\": 1181}, {\"date\": 2015.0, \"use\": \"public\", \"count\": 69}, {\"date\": 2016.0, \"use\": \"agriculture\", \"count\": 1425}, {\"date\": 2016.0, \"use\": \"domestic\", \"count\": 1491}, {\"date\": 2016.0, \"use\": \"public\", \"count\": 68}, {\"date\": 2017.0, \"use\": \"agriculture\", \"count\": 570}, {\"date\": 2017.0, \"use\": \"domestic\", \"count\": 642}, {\"date\": 2017.0, \"use\": \"public\", \"count\": 25}, {\"date\": 2018.0, \"use\": \"agriculture\", \"count\": 345}, {\"date\": 2018.0, \"use\": \"domestic\", \"count\": 472}, {\"date\": 2018.0, \"use\": \"public\", \"count\": 25}, {\"date\": 2019.0, \"use\": \"agriculture\", \"count\": 470}, {\"date\": 2019.0, \"use\": \"domestic\", \"count\": 682}, {\"date\": 2019.0, \"use\": \"public\", \"count\": 27}, {\"date\": 2020.0, \"use\": \"agriculture\", \"count\": 516}, {\"date\": 2020.0, \"use\": \"domestic\", \"count\": 843}, {\"date\": 2020.0, \"use\": \"public\", \"count\": 29}, {\"date\": 2021.0, \"use\": \"agriculture\", \"count\": 619}, {\"date\": 2021.0, \"use\": \"domestic\", \"count\": 671}, {\"date\": 2021.0, \"use\": \"public\", \"count\": 12}], \"data-fc31ed7477c1557785b92e241be8b9ad\": [{\"year\": 2014, \"title\": \"SGMA passed\"}]}}, {\"mode\": \"vega-lite\"});\n",
       "</script>"
      ],
      "text/plain": [
       "alt.LayerChart(...)"
      ]
     },
     "execution_count": 11,
     "metadata": {},
     "output_type": "execute_result"
    }
   ],
   "source": [
    "drought_years = [\n",
    "    {\"start\": 1976, \"end\": 1977},\n",
    "    {\"start\": 1987, \"end\": 1992},\n",
    "    {\"start\": 2001, \"end\": 2002},\n",
    "    {\"start\": 2007, \"end\": 2009},\n",
    "    {\"start\": 2012, \"end\": 2016},\n",
    "]\n",
    "\n",
    "drought_years = alt.pd.DataFrame(drought_years)\n",
    "\n",
    "sgma_year = [\n",
    "    {\"year\": 2014, \"title\": 'SGMA passed'}\n",
    "]\n",
    "sgma_year = alt.pd.DataFrame(sgma_year)\n",
    "\n",
    "highlight = alt.selection(type='single', \n",
    "                          on='mouseover',\n",
    "                          fields=['use'], \n",
    "                          nearest=True,\n",
    "                          init={'use':'agriculture'})\n",
    "\n",
    "base = alt.Chart(grouped_date_use[grouped_date_use['date'] >= 1960]).encode(\n",
    "    x=alt.X('date:T', axis=alt.Axis(values=[.995,.020], format='%Y', title='Year')),\n",
    "    y='count:Q',\n",
    "    color='use:N',\n",
    "    tooltip=['date', 'use', 'count']\n",
    ")\n",
    "\n",
    "points = base.mark_circle().encode(\n",
    "    opacity=alt.value(0)\n",
    ").add_selection(\n",
    "    highlight\n",
    ").properties(\n",
    "    width=600,\n",
    "    height=300\n",
    ")\n",
    "\n",
    "lines = base.mark_line().encode(\n",
    "    size=alt.condition(~highlight, alt.value(1), alt.value(3))\n",
    ")\n",
    "\n",
    "rect = alt.Chart(drought_years).mark_rect(color=\"#EEE\").encode(\n",
    "    x='start:T',\n",
    "    x2='end:T',\n",
    ")\n",
    "\n",
    "rules = alt.Chart(sgma_year).mark_rule(color=\"#000\").encode(\n",
    "    x='date:T',\n",
    ")\n",
    "\n",
    "rect + points + lines + rules"
   ]
  },
  {
   "cell_type": "markdown",
   "id": "99c2d7fb-07bd-4db7-992a-8558c8c71e0d",
   "metadata": {
    "tags": []
   },
   "source": [
    "## Agriculture well construction by county and year"
   ]
  },
  {
   "cell_type": "code",
   "execution_count": 12,
   "id": "27e5535c-0224-4606-8946-37d2a433e4cc",
   "metadata": {},
   "outputs": [],
   "source": [
    "grouped_year_county = wells[wells['use'] == 'agriculture'].groupby(by=['year_work_ended', 'county']).size().reset_index(name=\"count\")\n",
    "grouped_year_county.rename(columns={'year_work_ended':'year'}, inplace=True)\n",
    "grouped_year_county['year'] = grouped_year_county['year'].astype('int')"
   ]
  },
  {
   "cell_type": "code",
   "execution_count": 13,
   "id": "903e71d7-5219-4732-abe7-edaec4571ac5",
   "metadata": {},
   "outputs": [
    {
     "data": {
      "text/html": [
       "\n",
       "<div id=\"altair-viz-c4e67a54ab2440d7a642cc748367cb68\"></div>\n",
       "<script type=\"text/javascript\">\n",
       "  (function(spec, embedOpt){\n",
       "    let outputDiv = document.currentScript.previousElementSibling;\n",
       "    if (outputDiv.id !== \"altair-viz-c4e67a54ab2440d7a642cc748367cb68\") {\n",
       "      outputDiv = document.getElementById(\"altair-viz-c4e67a54ab2440d7a642cc748367cb68\");\n",
       "    }\n",
       "    const paths = {\n",
       "      \"vega\": \"https://cdn.jsdelivr.net/npm//vega@5?noext\",\n",
       "      \"vega-lib\": \"https://cdn.jsdelivr.net/npm//vega-lib?noext\",\n",
       "      \"vega-lite\": \"https://cdn.jsdelivr.net/npm//vega-lite@4.8.1?noext\",\n",
       "      \"vega-embed\": \"https://cdn.jsdelivr.net/npm//vega-embed@6?noext\",\n",
       "    };\n",
       "\n",
       "    function loadScript(lib) {\n",
       "      return new Promise(function(resolve, reject) {\n",
       "        var s = document.createElement('script');\n",
       "        s.src = paths[lib];\n",
       "        s.async = true;\n",
       "        s.onload = () => resolve(paths[lib]);\n",
       "        s.onerror = () => reject(`Error loading script: ${paths[lib]}`);\n",
       "        document.getElementsByTagName(\"head\")[0].appendChild(s);\n",
       "      });\n",
       "    }\n",
       "\n",
       "    function showError(err) {\n",
       "      outputDiv.innerHTML = `<div class=\"error\" style=\"color:red;\">${err}</div>`;\n",
       "      throw err;\n",
       "    }\n",
       "\n",
       "    function displayChart(vegaEmbed) {\n",
       "      vegaEmbed(outputDiv, spec, embedOpt)\n",
       "        .catch(err => showError(`Javascript Error: ${err.message}<br>This usually means there's a typo in your chart specification. See the javascript console for the full traceback.`));\n",
       "    }\n",
       "\n",
       "    if(typeof define === \"function\" && define.amd) {\n",
       "      requirejs.config({paths});\n",
       "      require([\"vega-embed\"], displayChart, err => showError(`Error loading script: ${err.message}`));\n",
       "    } else if (typeof vegaEmbed === \"function\") {\n",
       "      displayChart(vegaEmbed);\n",
       "    } else {\n",
       "      loadScript(\"vega\")\n",
       "        .then(() => loadScript(\"vega-lite\"))\n",
       "        .then(() => loadScript(\"vega-embed\"))\n",
       "        .catch(showError)\n",
       "        .then(() => displayChart(vegaEmbed));\n",
       "    }\n",
       "  })({\"config\": {\"view\": {\"width\": 800, \"height\": 450}, \"background\": \"#ffffff\", \"title\": {\"anchor\": \"start\", \"font\": \"BentonGothic-Bold, sans\", \"fontColor\": \"#000000\", \"fontSize\": 22, \"fontWeight\": \"normal\"}, \"arc\": {\"fill\": \"#82c6df\"}, \"area\": {\"fill\": \"#82c6df\"}, \"line\": {\"stroke\": \"#82c6df\", \"strokeWidth\": 3}, \"path\": {\"stroke\": \"#82c6df\"}, \"rect\": {\"fill\": \"#82c6df\"}, \"shape\": {\"stroke\": \"#82c6df\"}, \"bar\": {\"fill\": \"#82c6df\"}, \"point\": {\"stroke\": \"#82c6df\"}, \"symbol\": {\"fill\": \"#82c6df\", \"size\": 30}, \"axis\": {\"titleFont\": \"BentonGothic-Bold, sans\", \"titleFontSize\": 14, \"titleFontWeight\": \"normal\", \"labelFont\": \"BentonGothic, sans\", \"labelFontSize\": 12, \"labelFontWeight\": \"normal\"}, \"axisX\": {\"labelAngle\": 0, \"labelPadding\": 4, \"tickSize\": 3}, \"axisY\": {\"labelBaseline\": \"middle\", \"maxExtent\": 45, \"minExtent\": 45, \"tickSize\": 2, \"titleAlign\": \"left\", \"titleAngle\": 0, \"titleX\": -45, \"titleY\": -11}, \"legend\": {\"titleFont\": \"BentonGothic-Bold, sans\", \"titleFontSize\": 14, \"titleFontWeight\": \"normal\", \"symbolType\": \"square\", \"labelFont\": \"BentonGothic, sans\", \"labelFontSize\": 13}, \"range\": {\"category\": [\"#3580b1\", \"#ec8431\", \"#ab7fb4\", \"#c89d29\", \"#adc839\", \"#829eb1\"], \"diverging\": [\"#e68a4f\", \"#f4bb6a\", \"#f9e39c\", \"#dadfe2\", \"#a6b7c6\", \"#849eae\"], \"heatmap\": [\"#fbf2c7\", \"#f9e39c\", \"#f8d36e\", \"#f4bb6a\", \"#e68a4f\", \"#d15a40\", \"#ab4232\"], \"ordinal\": [\"#fbf2c7\", \"#f9e39c\", \"#f8d36e\", \"#f4bb6a\", \"#e68a4f\", \"#d15a40\", \"#ab4232\"], \"ramp\": [\"#fbf2c7\", \"#f9e39c\", \"#f8d36e\", \"#f4bb6a\", \"#e68a4f\", \"#d15a40\", \"#ab4232\"]}}, \"data\": {\"name\": \"data-00c0d38e7b08aa27ad05b2e8e424ba84\"}, \"facet\": {\"type\": \"nominal\", \"field\": \"county\"}, \"spec\": {\"mark\": \"line\", \"encoding\": {\"x\": {\"type\": \"ordinal\", \"field\": \"year\"}, \"y\": {\"type\": \"quantitative\", \"field\": \"count\"}}, \"height\": 160, \"width\": 160}, \"columns\": 4, \"$schema\": \"https://vega.github.io/schema/vega-lite/v4.8.1.json\", \"datasets\": {\"data-00c0d38e7b08aa27ad05b2e8e424ba84\": [{\"year\": 1980, \"county\": \"Fresno\", \"count\": 153}, {\"year\": 1980, \"county\": \"Kern\", \"count\": 42}, {\"year\": 1980, \"county\": \"Kings\", \"count\": 33}, {\"year\": 1980, \"county\": \"Madera\", \"count\": 45}, {\"year\": 1980, \"county\": \"Merced\", \"count\": 38}, {\"year\": 1980, \"county\": \"San Joaquin\", \"count\": 48}, {\"year\": 1980, \"county\": \"Stanislaus\", \"count\": 11}, {\"year\": 1980, \"county\": \"Tulare\", \"count\": 62}, {\"year\": 1981, \"county\": \"Fresno\", \"count\": 121}, {\"year\": 1981, \"county\": \"Kern\", \"count\": 44}, {\"year\": 1981, \"county\": \"Kings\", \"count\": 33}, {\"year\": 1981, \"county\": \"Madera\", \"count\": 56}, {\"year\": 1981, \"county\": \"Merced\", \"count\": 26}, {\"year\": 1981, \"county\": \"San Joaquin\", \"count\": 25}, {\"year\": 1981, \"county\": \"Stanislaus\", \"count\": 9}, {\"year\": 1981, \"county\": \"Tulare\", \"count\": 82}, {\"year\": 1982, \"county\": \"Fresno\", \"count\": 75}, {\"year\": 1982, \"county\": \"Kern\", \"count\": 15}, {\"year\": 1982, \"county\": \"Kings\", \"count\": 14}, {\"year\": 1982, \"county\": \"Madera\", \"count\": 25}, {\"year\": 1982, \"county\": \"Merced\", \"count\": 12}, {\"year\": 1982, \"county\": \"San Joaquin\", \"count\": 15}, {\"year\": 1982, \"county\": \"Stanislaus\", \"count\": 6}, {\"year\": 1982, \"county\": \"Tulare\", \"count\": 43}, {\"year\": 1983, \"county\": \"Fresno\", \"count\": 39}, {\"year\": 1983, \"county\": \"Kern\", \"count\": 8}, {\"year\": 1983, \"county\": \"Kings\", \"count\": 8}, {\"year\": 1983, \"county\": \"Madera\", \"count\": 14}, {\"year\": 1983, \"county\": \"Merced\", \"count\": 18}, {\"year\": 1983, \"county\": \"San Joaquin\", \"count\": 6}, {\"year\": 1983, \"county\": \"Stanislaus\", \"count\": 4}, {\"year\": 1983, \"county\": \"Tulare\", \"count\": 24}, {\"year\": 1984, \"county\": \"Fresno\", \"count\": 60}, {\"year\": 1984, \"county\": \"Kern\", \"count\": 20}, {\"year\": 1984, \"county\": \"Kings\", \"count\": 13}, {\"year\": 1984, \"county\": \"Madera\", \"count\": 16}, {\"year\": 1984, \"county\": \"Merced\", \"count\": 10}, {\"year\": 1984, \"county\": \"San Joaquin\", \"count\": 4}, {\"year\": 1984, \"county\": \"Stanislaus\", \"count\": 3}, {\"year\": 1984, \"county\": \"Tulare\", \"count\": 66}, {\"year\": 1985, \"county\": \"Fresno\", \"count\": 49}, {\"year\": 1985, \"county\": \"Kern\", \"count\": 8}, {\"year\": 1985, \"county\": \"Kings\", \"count\": 15}, {\"year\": 1985, \"county\": \"Madera\", \"count\": 16}, {\"year\": 1985, \"county\": \"Merced\", \"count\": 13}, {\"year\": 1985, \"county\": \"San Joaquin\", \"count\": 13}, {\"year\": 1985, \"county\": \"Stanislaus\", \"count\": 3}, {\"year\": 1985, \"county\": \"Tulare\", \"count\": 49}, {\"year\": 1986, \"county\": \"Fresno\", \"count\": 33}, {\"year\": 1986, \"county\": \"Kern\", \"count\": 9}, {\"year\": 1986, \"county\": \"Kings\", \"count\": 15}, {\"year\": 1986, \"county\": \"Madera\", \"count\": 7}, {\"year\": 1986, \"county\": \"Merced\", \"count\": 10}, {\"year\": 1986, \"county\": \"San Joaquin\", \"count\": 9}, {\"year\": 1986, \"county\": \"Stanislaus\", \"count\": 4}, {\"year\": 1986, \"county\": \"Tulare\", \"count\": 32}, {\"year\": 1987, \"county\": \"Fresno\", \"count\": 81}, {\"year\": 1987, \"county\": \"Kern\", \"count\": 20}, {\"year\": 1987, \"county\": \"Kings\", \"count\": 23}, {\"year\": 1987, \"county\": \"Madera\", \"count\": 22}, {\"year\": 1987, \"county\": \"Merced\", \"count\": 23}, {\"year\": 1987, \"county\": \"San Joaquin\", \"count\": 21}, {\"year\": 1987, \"county\": \"Stanislaus\", \"count\": 9}, {\"year\": 1987, \"county\": \"Tulare\", \"count\": 75}, {\"year\": 1988, \"county\": \"Fresno\", \"count\": 105}, {\"year\": 1988, \"county\": \"Kern\", \"count\": 42}, {\"year\": 1988, \"county\": \"Kings\", \"count\": 36}, {\"year\": 1988, \"county\": \"Madera\", \"count\": 32}, {\"year\": 1988, \"county\": \"Merced\", \"count\": 37}, {\"year\": 1988, \"county\": \"San Joaquin\", \"count\": 35}, {\"year\": 1988, \"county\": \"Stanislaus\", \"count\": 34}, {\"year\": 1988, \"county\": \"Tulare\", \"count\": 96}, {\"year\": 1989, \"county\": \"Fresno\", \"count\": 137}, {\"year\": 1989, \"county\": \"Kern\", \"count\": 21}, {\"year\": 1989, \"county\": \"Kings\", \"count\": 37}, {\"year\": 1989, \"county\": \"Madera\", \"count\": 29}, {\"year\": 1989, \"county\": \"Merced\", \"count\": 57}, {\"year\": 1989, \"county\": \"San Joaquin\", \"count\": 33}, {\"year\": 1989, \"county\": \"Stanislaus\", \"count\": 20}, {\"year\": 1989, \"county\": \"Tulare\", \"count\": 102}, {\"year\": 1990, \"county\": \"Fresno\", \"count\": 198}, {\"year\": 1990, \"county\": \"Kern\", \"count\": 55}, {\"year\": 1990, \"county\": \"Kings\", \"count\": 81}, {\"year\": 1990, \"county\": \"Madera\", \"count\": 44}, {\"year\": 1990, \"county\": \"Merced\", \"count\": 65}, {\"year\": 1990, \"county\": \"San Joaquin\", \"count\": 37}, {\"year\": 1990, \"county\": \"Stanislaus\", \"count\": 17}, {\"year\": 1990, \"county\": \"Tulare\", \"count\": 150}, {\"year\": 1991, \"county\": \"Fresno\", \"count\": 286}, {\"year\": 1991, \"county\": \"Kern\", \"count\": 92}, {\"year\": 1991, \"county\": \"Kings\", \"count\": 91}, {\"year\": 1991, \"county\": \"Madera\", \"count\": 43}, {\"year\": 1991, \"county\": \"Merced\", \"count\": 118}, {\"year\": 1991, \"county\": \"San Joaquin\", \"count\": 37}, {\"year\": 1991, \"county\": \"Stanislaus\", \"count\": 41}, {\"year\": 1991, \"county\": \"Tulare\", \"count\": 340}, {\"year\": 1992, \"county\": \"Fresno\", \"count\": 182}, {\"year\": 1992, \"county\": \"Kern\", \"count\": 34}, {\"year\": 1992, \"county\": \"Kings\", \"count\": 92}, {\"year\": 1992, \"county\": \"Madera\", \"count\": 48}, {\"year\": 1992, \"county\": \"Merced\", \"count\": 43}, {\"year\": 1992, \"county\": \"San Joaquin\", \"count\": 35}, {\"year\": 1992, \"county\": \"Stanislaus\", \"count\": 31}, {\"year\": 1992, \"county\": \"Tulare\", \"count\": 223}, {\"year\": 1993, \"county\": \"Fresno\", \"count\": 99}, {\"year\": 1993, \"county\": \"Kern\", \"count\": 30}, {\"year\": 1993, \"county\": \"Kings\", \"count\": 32}, {\"year\": 1993, \"county\": \"Madera\", \"count\": 28}, {\"year\": 1993, \"county\": \"Merced\", \"count\": 34}, {\"year\": 1993, \"county\": \"San Joaquin\", \"count\": 43}, {\"year\": 1993, \"county\": \"Stanislaus\", \"count\": 28}, {\"year\": 1993, \"county\": \"Tulare\", \"count\": 119}, {\"year\": 1994, \"county\": \"Fresno\", \"count\": 133}, {\"year\": 1994, \"county\": \"Kern\", \"count\": 50}, {\"year\": 1994, \"county\": \"Kings\", \"count\": 56}, {\"year\": 1994, \"county\": \"Madera\", \"count\": 39}, {\"year\": 1994, \"county\": \"Merced\", \"count\": 39}, {\"year\": 1994, \"county\": \"San Joaquin\", \"count\": 38}, {\"year\": 1994, \"county\": \"Stanislaus\", \"count\": 43}, {\"year\": 1994, \"county\": \"Tulare\", \"count\": 110}, {\"year\": 1995, \"county\": \"Fresno\", \"count\": 70}, {\"year\": 1995, \"county\": \"Kern\", \"count\": 29}, {\"year\": 1995, \"county\": \"Kings\", \"count\": 26}, {\"year\": 1995, \"county\": \"Madera\", \"count\": 30}, {\"year\": 1995, \"county\": \"Merced\", \"count\": 28}, {\"year\": 1995, \"county\": \"San Joaquin\", \"count\": 31}, {\"year\": 1995, \"county\": \"Stanislaus\", \"count\": 35}, {\"year\": 1995, \"county\": \"Tulare\", \"count\": 52}, {\"year\": 1996, \"county\": \"Fresno\", \"count\": 64}, {\"year\": 1996, \"county\": \"Kern\", \"count\": 26}, {\"year\": 1996, \"county\": \"Kings\", \"count\": 16}, {\"year\": 1996, \"county\": \"Madera\", \"count\": 20}, {\"year\": 1996, \"county\": \"Merced\", \"count\": 25}, {\"year\": 1996, \"county\": \"San Joaquin\", \"count\": 33}, {\"year\": 1996, \"county\": \"Stanislaus\", \"count\": 34}, {\"year\": 1996, \"county\": \"Tulare\", \"count\": 52}, {\"year\": 1997, \"county\": \"Fresno\", \"count\": 47}, {\"year\": 1997, \"county\": \"Kern\", \"count\": 16}, {\"year\": 1997, \"county\": \"Kings\", \"count\": 11}, {\"year\": 1997, \"county\": \"Madera\", \"count\": 29}, {\"year\": 1997, \"county\": \"Merced\", \"count\": 17}, {\"year\": 1997, \"county\": \"San Joaquin\", \"count\": 36}, {\"year\": 1997, \"county\": \"Stanislaus\", \"count\": 22}, {\"year\": 1997, \"county\": \"Tulare\", \"count\": 45}, {\"year\": 1998, \"county\": \"Fresno\", \"count\": 49}, {\"year\": 1998, \"county\": \"Kern\", \"count\": 13}, {\"year\": 1998, \"county\": \"Kings\", \"count\": 13}, {\"year\": 1998, \"county\": \"Madera\", \"count\": 23}, {\"year\": 1998, \"county\": \"Merced\", \"count\": 18}, {\"year\": 1998, \"county\": \"San Joaquin\", \"count\": 25}, {\"year\": 1998, \"county\": \"Stanislaus\", \"count\": 23}, {\"year\": 1998, \"county\": \"Tulare\", \"count\": 42}, {\"year\": 1999, \"county\": \"Fresno\", \"count\": 47}, {\"year\": 1999, \"county\": \"Kern\", \"count\": 23}, {\"year\": 1999, \"county\": \"Kings\", \"count\": 17}, {\"year\": 1999, \"county\": \"Madera\", \"count\": 24}, {\"year\": 1999, \"county\": \"Merced\", \"count\": 25}, {\"year\": 1999, \"county\": \"San Joaquin\", \"count\": 27}, {\"year\": 1999, \"county\": \"Stanislaus\", \"count\": 19}, {\"year\": 1999, \"county\": \"Tulare\", \"count\": 48}, {\"year\": 2000, \"county\": \"Fresno\", \"count\": 71}, {\"year\": 2000, \"county\": \"Kern\", \"count\": 61}, {\"year\": 2000, \"county\": \"Kings\", \"count\": 33}, {\"year\": 2000, \"county\": \"Madera\", \"count\": 19}, {\"year\": 2000, \"county\": \"Merced\", \"count\": 24}, {\"year\": 2000, \"county\": \"San Joaquin\", \"count\": 14}, {\"year\": 2000, \"county\": \"Stanislaus\", \"count\": 28}, {\"year\": 2000, \"county\": \"Tulare\", \"count\": 45}, {\"year\": 2001, \"county\": \"Fresno\", \"count\": 56}, {\"year\": 2001, \"county\": \"Kern\", \"count\": 47}, {\"year\": 2001, \"county\": \"Kings\", \"count\": 41}, {\"year\": 2001, \"county\": \"Madera\", \"count\": 17}, {\"year\": 2001, \"county\": \"Merced\", \"count\": 22}, {\"year\": 2001, \"county\": \"San Joaquin\", \"count\": 25}, {\"year\": 2001, \"county\": \"Stanislaus\", \"count\": 14}, {\"year\": 2001, \"county\": \"Tulare\", \"count\": 65}, {\"year\": 2002, \"county\": \"Fresno\", \"count\": 49}, {\"year\": 2002, \"county\": \"Kern\", \"count\": 25}, {\"year\": 2002, \"county\": \"Kings\", \"count\": 52}, {\"year\": 2002, \"county\": \"Madera\", \"count\": 18}, {\"year\": 2002, \"county\": \"Merced\", \"count\": 25}, {\"year\": 2002, \"county\": \"San Joaquin\", \"count\": 18}, {\"year\": 2002, \"county\": \"Stanislaus\", \"count\": 22}, {\"year\": 2002, \"county\": \"Tulare\", \"count\": 77}, {\"year\": 2003, \"county\": \"Fresno\", \"count\": 39}, {\"year\": 2003, \"county\": \"Kern\", \"count\": 25}, {\"year\": 2003, \"county\": \"Kings\", \"count\": 52}, {\"year\": 2003, \"county\": \"Madera\", \"count\": 30}, {\"year\": 2003, \"county\": \"Merced\", \"count\": 41}, {\"year\": 2003, \"county\": \"San Joaquin\", \"count\": 17}, {\"year\": 2003, \"county\": \"Stanislaus\", \"count\": 21}, {\"year\": 2003, \"county\": \"Tulare\", \"count\": 60}, {\"year\": 2004, \"county\": \"Fresno\", \"count\": 46}, {\"year\": 2004, \"county\": \"Kern\", \"count\": 35}, {\"year\": 2004, \"county\": \"Kings\", \"count\": 39}, {\"year\": 2004, \"county\": \"Madera\", \"count\": 29}, {\"year\": 2004, \"county\": \"Merced\", \"count\": 25}, {\"year\": 2004, \"county\": \"San Joaquin\", \"count\": 23}, {\"year\": 2004, \"county\": \"Stanislaus\", \"count\": 16}, {\"year\": 2004, \"county\": \"Tulare\", \"count\": 51}, {\"year\": 2005, \"county\": \"Fresno\", \"count\": 51}, {\"year\": 2005, \"county\": \"Kern\", \"count\": 29}, {\"year\": 2005, \"county\": \"Kings\", \"count\": 36}, {\"year\": 2005, \"county\": \"Madera\", \"count\": 51}, {\"year\": 2005, \"county\": \"Merced\", \"count\": 40}, {\"year\": 2005, \"county\": \"San Joaquin\", \"count\": 14}, {\"year\": 2005, \"county\": \"Stanislaus\", \"count\": 29}, {\"year\": 2005, \"county\": \"Tulare\", \"count\": 95}, {\"year\": 2006, \"county\": \"Fresno\", \"count\": 58}, {\"year\": 2006, \"county\": \"Kern\", \"count\": 39}, {\"year\": 2006, \"county\": \"Kings\", \"count\": 29}, {\"year\": 2006, \"county\": \"Madera\", \"count\": 32}, {\"year\": 2006, \"county\": \"Merced\", \"count\": 5}, {\"year\": 2006, \"county\": \"San Joaquin\", \"count\": 30}, {\"year\": 2006, \"county\": \"Stanislaus\", \"count\": 13}, {\"year\": 2006, \"county\": \"Tulare\", \"count\": 41}, {\"year\": 2007, \"county\": \"Fresno\", \"count\": 103}, {\"year\": 2007, \"county\": \"Kern\", \"count\": 36}, {\"year\": 2007, \"county\": \"Kings\", \"count\": 35}, {\"year\": 2007, \"county\": \"Madera\", \"count\": 38}, {\"year\": 2007, \"county\": \"Merced\", \"count\": 56}, {\"year\": 2007, \"county\": \"San Joaquin\", \"count\": 26}, {\"year\": 2007, \"county\": \"Stanislaus\", \"count\": 46}, {\"year\": 2007, \"county\": \"Tulare\", \"count\": 155}, {\"year\": 2008, \"county\": \"Fresno\", \"count\": 114}, {\"year\": 2008, \"county\": \"Kern\", \"count\": 62}, {\"year\": 2008, \"county\": \"Kings\", \"count\": 51}, {\"year\": 2008, \"county\": \"Madera\", \"count\": 59}, {\"year\": 2008, \"county\": \"Merced\", \"count\": 85}, {\"year\": 2008, \"county\": \"San Joaquin\", \"count\": 25}, {\"year\": 2008, \"county\": \"Stanislaus\", \"count\": 62}, {\"year\": 2008, \"county\": \"Tulare\", \"count\": 135}, {\"year\": 2009, \"county\": \"Fresno\", \"count\": 83}, {\"year\": 2009, \"county\": \"Kern\", \"count\": 46}, {\"year\": 2009, \"county\": \"Kings\", \"count\": 66}, {\"year\": 2009, \"county\": \"Madera\", \"count\": 49}, {\"year\": 2009, \"county\": \"Merced\", \"count\": 85}, {\"year\": 2009, \"county\": \"San Joaquin\", \"count\": 31}, {\"year\": 2009, \"county\": \"Stanislaus\", \"count\": 56}, {\"year\": 2009, \"county\": \"Tulare\", \"count\": 112}, {\"year\": 2010, \"county\": \"Fresno\", \"count\": 48}, {\"year\": 2010, \"county\": \"Kern\", \"count\": 25}, {\"year\": 2010, \"county\": \"Kings\", \"count\": 32}, {\"year\": 2010, \"county\": \"Madera\", \"count\": 33}, {\"year\": 2010, \"county\": \"Merced\", \"count\": 32}, {\"year\": 2010, \"county\": \"San Joaquin\", \"count\": 29}, {\"year\": 2010, \"county\": \"Stanislaus\", \"count\": 38}, {\"year\": 2010, \"county\": \"Tulare\", \"count\": 62}, {\"year\": 2011, \"county\": \"Fresno\", \"count\": 51}, {\"year\": 2011, \"county\": \"Kern\", \"count\": 25}, {\"year\": 2011, \"county\": \"Kings\", \"count\": 29}, {\"year\": 2011, \"county\": \"Madera\", \"count\": 42}, {\"year\": 2011, \"county\": \"Merced\", \"count\": 28}, {\"year\": 2011, \"county\": \"San Joaquin\", \"count\": 21}, {\"year\": 2011, \"county\": \"Stanislaus\", \"count\": 53}, {\"year\": 2011, \"county\": \"Tulare\", \"count\": 53}, {\"year\": 2012, \"county\": \"Fresno\", \"count\": 89}, {\"year\": 2012, \"county\": \"Kern\", \"count\": 40}, {\"year\": 2012, \"county\": \"Kings\", \"count\": 28}, {\"year\": 2012, \"county\": \"Madera\", \"count\": 44}, {\"year\": 2012, \"county\": \"Merced\", \"count\": 46}, {\"year\": 2012, \"county\": \"San Joaquin\", \"count\": 54}, {\"year\": 2012, \"county\": \"Stanislaus\", \"count\": 73}, {\"year\": 2012, \"county\": \"Tulare\", \"count\": 101}, {\"year\": 2013, \"county\": \"Fresno\", \"count\": 137}, {\"year\": 2013, \"county\": \"Kern\", \"count\": 59}, {\"year\": 2013, \"county\": \"Kings\", \"count\": 71}, {\"year\": 2013, \"county\": \"Madera\", \"count\": 49}, {\"year\": 2013, \"county\": \"Merced\", \"count\": 76}, {\"year\": 2013, \"county\": \"San Joaquin\", \"count\": 42}, {\"year\": 2013, \"county\": \"Stanislaus\", \"count\": 90}, {\"year\": 2013, \"county\": \"Tulare\", \"count\": 121}, {\"year\": 2014, \"county\": \"Fresno\", \"count\": 254}, {\"year\": 2014, \"county\": \"Kern\", \"count\": 99}, {\"year\": 2014, \"county\": \"Kings\", \"count\": 88}, {\"year\": 2014, \"county\": \"Madera\", \"count\": 95}, {\"year\": 2014, \"county\": \"Merced\", \"count\": 137}, {\"year\": 2014, \"county\": \"San Joaquin\", \"count\": 55}, {\"year\": 2014, \"county\": \"Stanislaus\", \"count\": 118}, {\"year\": 2014, \"county\": \"Tulare\", \"count\": 290}, {\"year\": 2015, \"county\": \"Fresno\", \"count\": 398}, {\"year\": 2015, \"county\": \"Kern\", \"count\": 168}, {\"year\": 2015, \"county\": \"Kings\", \"count\": 130}, {\"year\": 2015, \"county\": \"Madera\", \"count\": 116}, {\"year\": 2015, \"county\": \"Merced\", \"count\": 268}, {\"year\": 2015, \"county\": \"San Joaquin\", \"count\": 93}, {\"year\": 2015, \"county\": \"Stanislaus\", \"count\": 131}, {\"year\": 2015, \"county\": \"Tulare\", \"count\": 652}, {\"year\": 2016, \"county\": \"Fresno\", \"count\": 334}, {\"year\": 2016, \"county\": \"Kern\", \"count\": 177}, {\"year\": 2016, \"county\": \"Kings\", \"count\": 116}, {\"year\": 2016, \"county\": \"Madera\", \"count\": 91}, {\"year\": 2016, \"county\": \"Merced\", \"count\": 164}, {\"year\": 2016, \"county\": \"San Joaquin\", \"count\": 81}, {\"year\": 2016, \"county\": \"Stanislaus\", \"count\": 118}, {\"year\": 2016, \"county\": \"Tulare\", \"count\": 336}, {\"year\": 2017, \"county\": \"Fresno\", \"count\": 114}, {\"year\": 2017, \"county\": \"Kern\", \"count\": 69}, {\"year\": 2017, \"county\": \"Kings\", \"count\": 38}, {\"year\": 2017, \"county\": \"Madera\", \"count\": 55}, {\"year\": 2017, \"county\": \"Merced\", \"count\": 48}, {\"year\": 2017, \"county\": \"San Joaquin\", \"count\": 12}, {\"year\": 2017, \"county\": \"Stanislaus\", \"count\": 65}, {\"year\": 2017, \"county\": \"Tulare\", \"count\": 166}, {\"year\": 2018, \"county\": \"Fresno\", \"count\": 64}, {\"year\": 2018, \"county\": \"Kern\", \"count\": 48}, {\"year\": 2018, \"county\": \"Kings\", \"count\": 39}, {\"year\": 2018, \"county\": \"Madera\", \"count\": 33}, {\"year\": 2018, \"county\": \"Merced\", \"count\": 21}, {\"year\": 2018, \"county\": \"San Joaquin\", \"count\": 32}, {\"year\": 2018, \"county\": \"Stanislaus\", \"count\": 9}, {\"year\": 2018, \"county\": \"Tulare\", \"count\": 90}, {\"year\": 2019, \"county\": \"Fresno\", \"count\": 95}, {\"year\": 2019, \"county\": \"Kern\", \"count\": 58}, {\"year\": 2019, \"county\": \"Kings\", \"count\": 43}, {\"year\": 2019, \"county\": \"Madera\", \"count\": 32}, {\"year\": 2019, \"county\": \"Merced\", \"count\": 27}, {\"year\": 2019, \"county\": \"San Joaquin\", \"count\": 25}, {\"year\": 2019, \"county\": \"Stanislaus\", \"count\": 24}, {\"year\": 2019, \"county\": \"Tulare\", \"count\": 158}, {\"year\": 2020, \"county\": \"Fresno\", \"count\": 129}, {\"year\": 2020, \"county\": \"Kern\", \"count\": 33}, {\"year\": 2020, \"county\": \"Kings\", \"count\": 57}, {\"year\": 2020, \"county\": \"Madera\", \"count\": 32}, {\"year\": 2020, \"county\": \"Merced\", \"count\": 40}, {\"year\": 2020, \"county\": \"San Joaquin\", \"count\": 23}, {\"year\": 2020, \"county\": \"Stanislaus\", \"count\": 34}, {\"year\": 2020, \"county\": \"Tulare\", \"count\": 160}, {\"year\": 2021, \"county\": \"Fresno\", \"count\": 179}, {\"year\": 2021, \"county\": \"Kern\", \"count\": 60}, {\"year\": 2021, \"county\": \"Kings\", \"count\": 39}, {\"year\": 2021, \"county\": \"Madera\", \"count\": 35}, {\"year\": 2021, \"county\": \"Merced\", \"count\": 32}, {\"year\": 2021, \"county\": \"San Joaquin\", \"count\": 9}, {\"year\": 2021, \"county\": \"Stanislaus\", \"count\": 17}, {\"year\": 2021, \"county\": \"Tulare\", \"count\": 243}]}}, {\"mode\": \"vega-lite\"});\n",
       "</script>"
      ],
      "text/plain": [
       "alt.FacetChart(...)"
      ]
     },
     "execution_count": 13,
     "metadata": {},
     "output_type": "execute_result"
    }
   ],
   "source": [
    "alt.Chart(grouped_year_county[(grouped_year_county['year'] >= 1980) & \n",
    "                              (grouped_year_county['county'].isin(main_counties))]).mark_line().encode(\n",
    "    x='year:O',\n",
    "    y='count:Q',\n",
    ").properties(\n",
    "    width=160,\n",
    "    height=160\n",
    ").facet(\n",
    "    facet='county:N',\n",
    "    columns=4\n",
    ")"
   ]
  },
  {
   "cell_type": "markdown",
   "id": "8c54fe1b-e544-43bf-b68d-b574c5cb37d4",
   "metadata": {},
   "source": [
    "## 2021 agriculture well drilling by county"
   ]
  },
  {
   "cell_type": "code",
   "execution_count": 14,
   "id": "f0e070ba-0b92-4615-ac41-cb765be83eb9",
   "metadata": {},
   "outputs": [
    {
     "data": {
      "text/html": [
       "<div>\n",
       "<style scoped>\n",
       "    .dataframe tbody tr th:only-of-type {\n",
       "        vertical-align: middle;\n",
       "    }\n",
       "\n",
       "    .dataframe tbody tr th {\n",
       "        vertical-align: top;\n",
       "    }\n",
       "\n",
       "    .dataframe thead th {\n",
       "        text-align: right;\n",
       "    }\n",
       "</style>\n",
       "<table border=\"1\" class=\"dataframe\">\n",
       "  <thead>\n",
       "    <tr style=\"text-align: right;\">\n",
       "      <th></th>\n",
       "      <th>year</th>\n",
       "      <th>county</th>\n",
       "      <th>count</th>\n",
       "    </tr>\n",
       "  </thead>\n",
       "  <tbody>\n",
       "    <tr>\n",
       "      <th>772</th>\n",
       "      <td>2021</td>\n",
       "      <td>Fresno</td>\n",
       "      <td>179</td>\n",
       "    </tr>\n",
       "    <tr>\n",
       "      <th>773</th>\n",
       "      <td>2021</td>\n",
       "      <td>Kern</td>\n",
       "      <td>60</td>\n",
       "    </tr>\n",
       "    <tr>\n",
       "      <th>774</th>\n",
       "      <td>2021</td>\n",
       "      <td>Kings</td>\n",
       "      <td>39</td>\n",
       "    </tr>\n",
       "    <tr>\n",
       "      <th>775</th>\n",
       "      <td>2021</td>\n",
       "      <td>Madera</td>\n",
       "      <td>35</td>\n",
       "    </tr>\n",
       "    <tr>\n",
       "      <th>776</th>\n",
       "      <td>2021</td>\n",
       "      <td>Merced</td>\n",
       "      <td>32</td>\n",
       "    </tr>\n",
       "    <tr>\n",
       "      <th>778</th>\n",
       "      <td>2021</td>\n",
       "      <td>San Joaquin</td>\n",
       "      <td>9</td>\n",
       "    </tr>\n",
       "    <tr>\n",
       "      <th>779</th>\n",
       "      <td>2021</td>\n",
       "      <td>Stanislaus</td>\n",
       "      <td>17</td>\n",
       "    </tr>\n",
       "    <tr>\n",
       "      <th>780</th>\n",
       "      <td>2021</td>\n",
       "      <td>Tulare</td>\n",
       "      <td>243</td>\n",
       "    </tr>\n",
       "  </tbody>\n",
       "</table>\n",
       "</div>"
      ],
      "text/plain": [
       "     year       county  count\n",
       "772  2021       Fresno    179\n",
       "773  2021         Kern     60\n",
       "774  2021        Kings     39\n",
       "775  2021       Madera     35\n",
       "776  2021       Merced     32\n",
       "778  2021  San Joaquin      9\n",
       "779  2021   Stanislaus     17\n",
       "780  2021       Tulare    243"
      ]
     },
     "execution_count": 14,
     "metadata": {},
     "output_type": "execute_result"
    }
   ],
   "source": [
    "grouped_year_county[(grouped_year_county['county'].isin(main_counties)) & (grouped_year_county['year'] == 2021)]"
   ]
  },
  {
   "cell_type": "markdown",
   "id": "b2a6c579-96de-406c-9910-89bcba5c052f",
   "metadata": {},
   "source": [
    "## Percent of 2021 agriculture drilling in Tulare County"
   ]
  },
  {
   "cell_type": "code",
   "execution_count": 15,
   "id": "a5009726-87f2-4695-a36d-c16442463af4",
   "metadata": {},
   "outputs": [
    {
     "data": {
      "text/plain": [
       "0.3925686591276252"
      ]
     },
     "execution_count": 15,
     "metadata": {},
     "output_type": "execute_result"
    }
   ],
   "source": [
    "drilling_2021 = grouped_year_county[grouped_year_county['year'] == 2021]['count'].sum()\n",
    "drilling_2021_tulare = grouped_year_county[(grouped_year_county['year'] == 2021) & (grouped_year_county['county'] == 'Tulare')]['count'].sum()\n",
    "drilling_2021_tulare / drilling_2021"
   ]
  },
  {
   "cell_type": "markdown",
   "id": "938b1222-2733-4468-b493-650a88a76e19",
   "metadata": {
    "tags": []
   },
   "source": [
    "## Wells completed since 2014"
   ]
  },
  {
   "cell_type": "code",
   "execution_count": 16,
   "id": "7c50bea5-a538-4afc-a4e8-3e844c68fa10",
   "metadata": {},
   "outputs": [
    {
     "data": {
      "text/html": [
       "<div>\n",
       "<style scoped>\n",
       "    .dataframe tbody tr th:only-of-type {\n",
       "        vertical-align: middle;\n",
       "    }\n",
       "\n",
       "    .dataframe tbody tr th {\n",
       "        vertical-align: top;\n",
       "    }\n",
       "\n",
       "    .dataframe thead th {\n",
       "        text-align: right;\n",
       "    }\n",
       "</style>\n",
       "<table border=\"1\" class=\"dataframe\">\n",
       "  <thead>\n",
       "    <tr style=\"text-align: right;\">\n",
       "      <th></th>\n",
       "      <th>use</th>\n",
       "      <th>count</th>\n",
       "    </tr>\n",
       "  </thead>\n",
       "  <tbody>\n",
       "    <tr>\n",
       "      <th>0</th>\n",
       "      <td>agriculture</td>\n",
       "      <td>7064</td>\n",
       "    </tr>\n",
       "    <tr>\n",
       "      <th>1</th>\n",
       "      <td>domestic</td>\n",
       "      <td>6679</td>\n",
       "    </tr>\n",
       "    <tr>\n",
       "      <th>2</th>\n",
       "      <td>public</td>\n",
       "      <td>281</td>\n",
       "    </tr>\n",
       "  </tbody>\n",
       "</table>\n",
       "</div>"
      ],
      "text/plain": [
       "           use  count\n",
       "0  agriculture   7064\n",
       "1     domestic   6679\n",
       "2       public    281"
      ]
     },
     "execution_count": 16,
     "metadata": {},
     "output_type": "execute_result"
    }
   ],
   "source": [
    "grouped_use_2014 = wells[wells['year_work_ended'] >= 2014].groupby(['use']).agg({\n",
    "    'wcr_no': ['count'],\n",
    "}).reset_index()\n",
    "grouped_use_2014.columns = [\"use\",\"count\"]\n",
    "grouped_use_2014"
   ]
  },
  {
   "cell_type": "markdown",
   "id": "edc02e67-661d-4372-a7c7-8bb8097f059d",
   "metadata": {
    "tags": []
   },
   "source": [
    "## Wells completed since 2020"
   ]
  },
  {
   "cell_type": "code",
   "execution_count": 17,
   "id": "d233c75c-1d97-4ea6-8c1b-f584761c810e",
   "metadata": {},
   "outputs": [
    {
     "data": {
      "text/html": [
       "<div>\n",
       "<style scoped>\n",
       "    .dataframe tbody tr th:only-of-type {\n",
       "        vertical-align: middle;\n",
       "    }\n",
       "\n",
       "    .dataframe tbody tr th {\n",
       "        vertical-align: top;\n",
       "    }\n",
       "\n",
       "    .dataframe thead th {\n",
       "        text-align: right;\n",
       "    }\n",
       "</style>\n",
       "<table border=\"1\" class=\"dataframe\">\n",
       "  <thead>\n",
       "    <tr style=\"text-align: right;\">\n",
       "      <th></th>\n",
       "      <th>use</th>\n",
       "      <th>count</th>\n",
       "    </tr>\n",
       "  </thead>\n",
       "  <tbody>\n",
       "    <tr>\n",
       "      <th>0</th>\n",
       "      <td>agriculture</td>\n",
       "      <td>1135</td>\n",
       "    </tr>\n",
       "    <tr>\n",
       "      <th>1</th>\n",
       "      <td>domestic</td>\n",
       "      <td>1514</td>\n",
       "    </tr>\n",
       "    <tr>\n",
       "      <th>2</th>\n",
       "      <td>public</td>\n",
       "      <td>41</td>\n",
       "    </tr>\n",
       "  </tbody>\n",
       "</table>\n",
       "</div>"
      ],
      "text/plain": [
       "           use  count\n",
       "0  agriculture   1135\n",
       "1     domestic   1514\n",
       "2       public     41"
      ]
     },
     "execution_count": 17,
     "metadata": {},
     "output_type": "execute_result"
    }
   ],
   "source": [
    "grouped_use_2020 = wells[wells['year_work_ended'] >= 2020].groupby(['use']).agg({\n",
    "    'wcr_no': ['count'],\n",
    "}).reset_index()\n",
    "grouped_use_2020.columns = [\"use\",\"count\"]\n",
    "grouped_use_2020"
   ]
  },
  {
   "cell_type": "markdown",
   "id": "4c430b53-d554-4a90-92f2-24384e59f958",
   "metadata": {
    "tags": []
   },
   "source": [
    "## Overall water table changes from given start year"
   ]
  },
  {
   "cell_type": "code",
   "execution_count": 21,
   "id": "aeabcab6-2206-452a-bfcd-76f139df5e07",
   "metadata": {},
   "outputs": [
    {
     "data": {
      "text/html": [
       "<div>\n",
       "<style scoped>\n",
       "    .dataframe tbody tr th:only-of-type {\n",
       "        vertical-align: middle;\n",
       "    }\n",
       "\n",
       "    .dataframe tbody tr th {\n",
       "        vertical-align: top;\n",
       "    }\n",
       "\n",
       "    .dataframe thead th {\n",
       "        text-align: right;\n",
       "    }\n",
       "</style>\n",
       "<table border=\"1\" class=\"dataframe\">\n",
       "  <thead>\n",
       "    <tr style=\"text-align: right;\">\n",
       "      <th></th>\n",
       "      <th>site</th>\n",
       "      <th>MTRS</th>\n",
       "      <th>TownshipRange</th>\n",
       "      <th>county</th>\n",
       "      <th>year</th>\n",
       "      <th>gse_gwe</th>\n",
       "    </tr>\n",
       "  </thead>\n",
       "  <tbody>\n",
       "    <tr>\n",
       "      <th>5837</th>\n",
       "      <td>351255N1193249W001</td>\n",
       "      <td>MDM-T32S-R25E-19</td>\n",
       "      <td>T32S R25E</td>\n",
       "      <td>Kern</td>\n",
       "      <td>2007</td>\n",
       "      <td>89.0</td>\n",
       "    </tr>\n",
       "  </tbody>\n",
       "</table>\n",
       "</div>"
      ],
      "text/plain": [
       "                    site              MTRS TownshipRange county  year  gse_gwe\n",
       "5837  351255N1193249W001  MDM-T32S-R25E-19     T32S R25E   Kern  2007     89.0"
      ]
     },
     "execution_count": 21,
     "metadata": {},
     "output_type": "execute_result"
    }
   ],
   "source": [
    "levels.sample()"
   ]
  },
  {
   "cell_type": "code",
   "execution_count": 22,
   "id": "cc0844f2-52a9-4e1b-a323-fd32a5d8c788",
   "metadata": {},
   "outputs": [],
   "source": [
    "# Group wells that had multiple measurements each spring and get the average\n",
    "levels_group = levels.groupby(['site','county','year']).agg({\n",
    "    'gse_gwe': ['mean'],\n",
    "}).reset_index()\n",
    "levels_group.columns = ['site','county','year','gse_gwe']"
   ]
  },
  {
   "cell_type": "code",
   "execution_count": 23,
   "id": "c77d63f0-930e-45e5-889b-23f382c5a207",
   "metadata": {},
   "outputs": [],
   "source": [
    "def get_level_change_overall(start_year):\n",
    "    # Filter for the years that we are interested in\n",
    "    levels_group_trim = levels_group[levels_group['year'] >= start_year]\n",
    "    avg_change_year = levels_group_trim.groupby(['year']).agg({\n",
    "        'gse_gwe':['mean', 'count']\n",
    "    }).reset_index()\n",
    "    avg_change_year.columns = ['year','level','count']\n",
    "    start = avg_change_year[avg_change_year['year'] == start_year]['level'].iloc[0]\n",
    "    avg_change_year['start_level'] = start\n",
    "    avg_change_year['diff_start'] = avg_change_year['start_level'] - avg_change_year['level']\n",
    "    return avg_change_year"
   ]
  },
  {
   "cell_type": "code",
   "execution_count": 24,
   "id": "5e3ee4b4-1128-4693-b4d3-f4e692174147",
   "metadata": {
    "tags": []
   },
   "outputs": [
    {
     "data": {
      "text/html": [
       "<div>\n",
       "<style scoped>\n",
       "    .dataframe tbody tr th:only-of-type {\n",
       "        vertical-align: middle;\n",
       "    }\n",
       "\n",
       "    .dataframe tbody tr th {\n",
       "        vertical-align: top;\n",
       "    }\n",
       "\n",
       "    .dataframe thead th {\n",
       "        text-align: right;\n",
       "    }\n",
       "</style>\n",
       "<table border=\"1\" class=\"dataframe\">\n",
       "  <thead>\n",
       "    <tr style=\"text-align: right;\">\n",
       "      <th></th>\n",
       "      <th>year</th>\n",
       "      <th>level</th>\n",
       "      <th>count</th>\n",
       "      <th>start_level</th>\n",
       "      <th>diff_start</th>\n",
       "    </tr>\n",
       "  </thead>\n",
       "  <tbody>\n",
       "    <tr>\n",
       "      <th>71</th>\n",
       "      <td>2021</td>\n",
       "      <td>172.283911</td>\n",
       "      <td>1398</td>\n",
       "      <td>67.813887</td>\n",
       "      <td>-104.470024</td>\n",
       "    </tr>\n",
       "  </tbody>\n",
       "</table>\n",
       "</div>"
      ],
      "text/plain": [
       "    year       level  count  start_level  diff_start\n",
       "71  2021  172.283911   1398    67.813887 -104.470024"
      ]
     },
     "execution_count": 24,
     "metadata": {},
     "output_type": "execute_result"
    }
   ],
   "source": [
    "overall_level_change_1950 = get_level_change_overall(1950)\n",
    "overall_level_change_1950.tail(1)"
   ]
  },
  {
   "cell_type": "code",
   "execution_count": 25,
   "id": "de01f8fa-f084-4c7f-bc66-f87b8679ad85",
   "metadata": {},
   "outputs": [
    {
     "data": {
      "text/html": [
       "<div>\n",
       "<style scoped>\n",
       "    .dataframe tbody tr th:only-of-type {\n",
       "        vertical-align: middle;\n",
       "    }\n",
       "\n",
       "    .dataframe tbody tr th {\n",
       "        vertical-align: top;\n",
       "    }\n",
       "\n",
       "    .dataframe thead th {\n",
       "        text-align: right;\n",
       "    }\n",
       "</style>\n",
       "<table border=\"1\" class=\"dataframe\">\n",
       "  <thead>\n",
       "    <tr style=\"text-align: right;\">\n",
       "      <th></th>\n",
       "      <th>year</th>\n",
       "      <th>level</th>\n",
       "      <th>count</th>\n",
       "      <th>start_level</th>\n",
       "      <th>diff_start</th>\n",
       "    </tr>\n",
       "  </thead>\n",
       "  <tbody>\n",
       "    <tr>\n",
       "      <th>10</th>\n",
       "      <td>2021</td>\n",
       "      <td>172.283911</td>\n",
       "      <td>1398</td>\n",
       "      <td>128.768708</td>\n",
       "      <td>-43.515203</td>\n",
       "    </tr>\n",
       "  </tbody>\n",
       "</table>\n",
       "</div>"
      ],
      "text/plain": [
       "    year       level  count  start_level  diff_start\n",
       "10  2021  172.283911   1398   128.768708  -43.515203"
      ]
     },
     "execution_count": 25,
     "metadata": {},
     "output_type": "execute_result"
    }
   ],
   "source": [
    "overall_level_change_2011 = get_level_change_overall(2011)\n",
    "overall_level_change_2011.tail(1)"
   ]
  },
  {
   "cell_type": "code",
   "execution_count": 26,
   "id": "5143e4a0-3f68-4a35-a7a0-2956490f1bd2",
   "metadata": {},
   "outputs": [
    {
     "data": {
      "text/html": [
       "\n",
       "<div id=\"altair-viz-ea78c708b86745829957e69f33de990e\"></div>\n",
       "<script type=\"text/javascript\">\n",
       "  (function(spec, embedOpt){\n",
       "    let outputDiv = document.currentScript.previousElementSibling;\n",
       "    if (outputDiv.id !== \"altair-viz-ea78c708b86745829957e69f33de990e\") {\n",
       "      outputDiv = document.getElementById(\"altair-viz-ea78c708b86745829957e69f33de990e\");\n",
       "    }\n",
       "    const paths = {\n",
       "      \"vega\": \"https://cdn.jsdelivr.net/npm//vega@5?noext\",\n",
       "      \"vega-lib\": \"https://cdn.jsdelivr.net/npm//vega-lib?noext\",\n",
       "      \"vega-lite\": \"https://cdn.jsdelivr.net/npm//vega-lite@4.8.1?noext\",\n",
       "      \"vega-embed\": \"https://cdn.jsdelivr.net/npm//vega-embed@6?noext\",\n",
       "    };\n",
       "\n",
       "    function loadScript(lib) {\n",
       "      return new Promise(function(resolve, reject) {\n",
       "        var s = document.createElement('script');\n",
       "        s.src = paths[lib];\n",
       "        s.async = true;\n",
       "        s.onload = () => resolve(paths[lib]);\n",
       "        s.onerror = () => reject(`Error loading script: ${paths[lib]}`);\n",
       "        document.getElementsByTagName(\"head\")[0].appendChild(s);\n",
       "      });\n",
       "    }\n",
       "\n",
       "    function showError(err) {\n",
       "      outputDiv.innerHTML = `<div class=\"error\" style=\"color:red;\">${err}</div>`;\n",
       "      throw err;\n",
       "    }\n",
       "\n",
       "    function displayChart(vegaEmbed) {\n",
       "      vegaEmbed(outputDiv, spec, embedOpt)\n",
       "        .catch(err => showError(`Javascript Error: ${err.message}<br>This usually means there's a typo in your chart specification. See the javascript console for the full traceback.`));\n",
       "    }\n",
       "\n",
       "    if(typeof define === \"function\" && define.amd) {\n",
       "      requirejs.config({paths});\n",
       "      require([\"vega-embed\"], displayChart, err => showError(`Error loading script: ${err.message}`));\n",
       "    } else if (typeof vegaEmbed === \"function\") {\n",
       "      displayChart(vegaEmbed);\n",
       "    } else {\n",
       "      loadScript(\"vega\")\n",
       "        .then(() => loadScript(\"vega-lite\"))\n",
       "        .then(() => loadScript(\"vega-embed\"))\n",
       "        .catch(showError)\n",
       "        .then(() => displayChart(vegaEmbed));\n",
       "    }\n",
       "  })({\"config\": {\"view\": {\"width\": 800, \"height\": 450}, \"background\": \"#ffffff\", \"title\": {\"anchor\": \"start\", \"font\": \"BentonGothic-Bold, sans\", \"fontColor\": \"#000000\", \"fontSize\": 22, \"fontWeight\": \"normal\"}, \"arc\": {\"fill\": \"#82c6df\"}, \"area\": {\"fill\": \"#82c6df\"}, \"line\": {\"stroke\": \"#82c6df\", \"strokeWidth\": 3}, \"path\": {\"stroke\": \"#82c6df\"}, \"rect\": {\"fill\": \"#82c6df\"}, \"shape\": {\"stroke\": \"#82c6df\"}, \"bar\": {\"fill\": \"#82c6df\"}, \"point\": {\"stroke\": \"#82c6df\"}, \"symbol\": {\"fill\": \"#82c6df\", \"size\": 30}, \"axis\": {\"titleFont\": \"BentonGothic-Bold, sans\", \"titleFontSize\": 14, \"titleFontWeight\": \"normal\", \"labelFont\": \"BentonGothic, sans\", \"labelFontSize\": 12, \"labelFontWeight\": \"normal\"}, \"axisX\": {\"labelAngle\": 0, \"labelPadding\": 4, \"tickSize\": 3}, \"axisY\": {\"labelBaseline\": \"middle\", \"maxExtent\": 45, \"minExtent\": 45, \"tickSize\": 2, \"titleAlign\": \"left\", \"titleAngle\": 0, \"titleX\": -45, \"titleY\": -11}, \"legend\": {\"titleFont\": \"BentonGothic-Bold, sans\", \"titleFontSize\": 14, \"titleFontWeight\": \"normal\", \"symbolType\": \"square\", \"labelFont\": \"BentonGothic, sans\", \"labelFontSize\": 13}, \"range\": {\"category\": [\"#3580b1\", \"#ec8431\", \"#ab7fb4\", \"#c89d29\", \"#adc839\", \"#829eb1\"], \"diverging\": [\"#e68a4f\", \"#f4bb6a\", \"#f9e39c\", \"#dadfe2\", \"#a6b7c6\", \"#849eae\"], \"heatmap\": [\"#fbf2c7\", \"#f9e39c\", \"#f8d36e\", \"#f4bb6a\", \"#e68a4f\", \"#d15a40\", \"#ab4232\"], \"ordinal\": [\"#fbf2c7\", \"#f9e39c\", \"#f8d36e\", \"#f4bb6a\", \"#e68a4f\", \"#d15a40\", \"#ab4232\"], \"ramp\": [\"#fbf2c7\", \"#f9e39c\", \"#f8d36e\", \"#f4bb6a\", \"#e68a4f\", \"#d15a40\", \"#ab4232\"]}}, \"data\": {\"name\": \"data-6336134c884c7a49c719846ff78fef1d\"}, \"mark\": \"line\", \"encoding\": {\"tooltip\": [{\"type\": \"quantitative\", \"field\": \"year\"}, {\"type\": \"quantitative\", \"field\": \"diff_start\"}], \"x\": {\"type\": \"ordinal\", \"field\": \"year\"}, \"y\": {\"type\": \"quantitative\", \"field\": \"diff_start\"}}, \"$schema\": \"https://vega.github.io/schema/vega-lite/v4.8.1.json\", \"datasets\": {\"data-6336134c884c7a49c719846ff78fef1d\": [{\"year\": 1950, \"level\": 67.81388706140352, \"count\": 1368, \"start_level\": 67.81388706140352, \"diff_start\": 0.0}, {\"year\": 1951, \"level\": 75.02733086572074, \"count\": 1621, \"start_level\": 67.81388706140352, \"diff_start\": -7.213443804317222}, {\"year\": 1952, \"level\": 77.57851166948993, \"count\": 1771, \"start_level\": 67.81388706140352, \"diff_start\": -9.764624608086407}, {\"year\": 1953, \"level\": 77.87571065989849, \"count\": 1773, \"start_level\": 67.81388706140352, \"diff_start\": -10.061823598494968}, {\"year\": 1954, \"level\": 77.00853459747172, \"count\": 2004, \"start_level\": 67.81388706140352, \"diff_start\": -9.194647536068203}, {\"year\": 1955, \"level\": 76.97831369497555, \"count\": 2249, \"start_level\": 67.81388706140352, \"diff_start\": -9.164426633572035}, {\"year\": 1956, \"level\": 76.7608524049281, \"count\": 2913, \"start_level\": 67.81388706140352, \"diff_start\": -8.946965343524582}, {\"year\": 1957, \"level\": 85.75379460956643, \"count\": 3129, \"start_level\": 67.81388706140352, \"diff_start\": -17.939907548162907}, {\"year\": 1958, \"level\": 73.96414265780186, \"count\": 4061, \"start_level\": 67.81388706140352, \"diff_start\": -6.150255596398338}, {\"year\": 1959, \"level\": 64.22879497129921, \"count\": 4123, \"start_level\": 67.81388706140352, \"diff_start\": 3.585092090104311}, {\"year\": 1960, \"level\": 74.09005100303501, \"count\": 4503, \"start_level\": 67.81388706140352, \"diff_start\": -6.276163941631495}, {\"year\": 1961, \"level\": 84.63347258362157, \"count\": 4447, \"start_level\": 67.81388706140352, \"diff_start\": -16.81958552221805}, {\"year\": 1962, \"level\": 99.95751585335984, \"count\": 5249, \"start_level\": 67.81388706140352, \"diff_start\": -32.14362879195632}, {\"year\": 1963, \"level\": 82.00799750962192, \"count\": 5048, \"start_level\": 67.81388706140352, \"diff_start\": -14.194110448218396}, {\"year\": 1964, \"level\": 85.12990785881435, \"count\": 5128, \"start_level\": 67.81388706140352, \"diff_start\": -17.31602079741083}, {\"year\": 1965, \"level\": 81.44071812080536, \"count\": 5215, \"start_level\": 67.81388706140352, \"diff_start\": -13.626831059401837}, {\"year\": 1966, \"level\": 83.19469918074758, \"count\": 5208, \"start_level\": 67.81388706140352, \"diff_start\": -15.380812119344057}, {\"year\": 1967, \"level\": 88.94588334916112, \"count\": 5265, \"start_level\": 67.81388706140352, \"diff_start\": -21.1319962877576}, {\"year\": 1968, \"level\": 82.87875957022453, \"count\": 5181, \"start_level\": 67.81388706140352, \"diff_start\": -15.064872508821011}, {\"year\": 1969, \"level\": 85.70750523745261, \"count\": 5187, \"start_level\": 67.81388706140352, \"diff_start\": -17.893618176049088}, {\"year\": 1970, \"level\": 75.05386940953926, \"count\": 4934, \"start_level\": 67.81388706140352, \"diff_start\": -7.23998234813574}, {\"year\": 1971, \"level\": 86.76849155908639, \"count\": 5035, \"start_level\": 67.81388706140352, \"diff_start\": -18.954604497682865}, {\"year\": 1972, \"level\": 108.47278747369724, \"count\": 5386, \"start_level\": 67.81388706140352, \"diff_start\": -40.65890041229372}, {\"year\": 1973, \"level\": 110.79714078557467, \"count\": 5287, \"start_level\": 67.81388706140352, \"diff_start\": -42.98325372417115}, {\"year\": 1974, \"level\": 102.8700939813936, \"count\": 5267, \"start_level\": 67.81388706140352, \"diff_start\": -35.056206919990075}, {\"year\": 1975, \"level\": 93.56021221532092, \"count\": 4830, \"start_level\": 67.81388706140352, \"diff_start\": -25.746325153917397}, {\"year\": 1976, \"level\": 96.25520685579197, \"count\": 4230, \"start_level\": 67.81388706140352, \"diff_start\": -28.44131979438845}, {\"year\": 1977, \"level\": 99.9562342226047, \"count\": 4648, \"start_level\": 67.81388706140352, \"diff_start\": -32.14234716120119}, {\"year\": 1978, \"level\": 106.26709545115585, \"count\": 4470, \"start_level\": 67.81388706140352, \"diff_start\": -38.453208389752334}, {\"year\": 1979, \"level\": 106.90610398565715, \"count\": 4834, \"start_level\": 67.81388706140352, \"diff_start\": -39.092216924253634}, {\"year\": 1980, \"level\": 110.50780352223533, \"count\": 5082, \"start_level\": 67.81388706140352, \"diff_start\": -42.693916460831815}, {\"year\": 1981, \"level\": 96.3587562677131, \"count\": 4587, \"start_level\": 67.81388706140352, \"diff_start\": -28.544869206309585}, {\"year\": 1982, \"level\": 108.25590288833295, \"count\": 4397, \"start_level\": 67.81388706140352, \"diff_start\": -40.442015826929435}, {\"year\": 1983, \"level\": 97.30629808799816, \"count\": 4341, \"start_level\": 67.81388706140352, \"diff_start\": -29.492411026594638}, {\"year\": 1984, \"level\": 92.74805608494418, \"count\": 3673, \"start_level\": 67.81388706140352, \"diff_start\": -24.93416902354066}, {\"year\": 1985, \"level\": 96.90429287863591, \"count\": 3988, \"start_level\": 67.81388706140352, \"diff_start\": -29.090405817232394}, {\"year\": 1986, \"level\": 100.73745624455532, \"count\": 4209, \"start_level\": 67.81388706140352, \"diff_start\": -32.9235691831518}, {\"year\": 1987, \"level\": 91.83480632304, \"count\": 4307, \"start_level\": 67.81388706140352, \"diff_start\": -24.02091926163648}, {\"year\": 1988, \"level\": 98.80789651262803, \"count\": 4263, \"start_level\": 67.81388706140352, \"diff_start\": -30.994009451224514}, {\"year\": 1989, \"level\": 106.54154441415919, \"count\": 4381, \"start_level\": 67.81388706140352, \"diff_start\": -38.72765735275567}, {\"year\": 1990, \"level\": 115.4134483734509, \"count\": 4196, \"start_level\": 67.81388706140352, \"diff_start\": -47.599561312047385}, {\"year\": 1991, \"level\": 108.449669709263, \"count\": 4060, \"start_level\": 67.81388706140352, \"diff_start\": -40.635782647859486}, {\"year\": 1992, \"level\": 117.95174995281238, \"count\": 4415, \"start_level\": 67.81388706140352, \"diff_start\": -50.13786289140886}, {\"year\": 1993, \"level\": 116.86443662040277, \"count\": 4287, \"start_level\": 67.81388706140352, \"diff_start\": -49.05054955899925}, {\"year\": 1994, \"level\": 112.8815558717361, \"count\": 4217, \"start_level\": 67.81388706140352, \"diff_start\": -45.06766881033258}, {\"year\": 1995, \"level\": 114.18072609160266, \"count\": 3945, \"start_level\": 67.81388706140352, \"diff_start\": -46.366839030199145}, {\"year\": 1996, \"level\": 110.46742306667731, \"count\": 4171, \"start_level\": 67.81388706140352, \"diff_start\": -42.65353600527379}, {\"year\": 1997, \"level\": 104.7246225260511, \"count\": 4055, \"start_level\": 67.81388706140352, \"diff_start\": -36.91073546464759}, {\"year\": 1998, \"level\": 105.62560684265826, \"count\": 3807, \"start_level\": 67.81388706140352, \"diff_start\": -37.81171978125474}, {\"year\": 1999, \"level\": 98.27211999157109, \"count\": 3691, \"start_level\": 67.81388706140352, \"diff_start\": -30.45823293016757}, {\"year\": 2000, \"level\": 99.03860026132172, \"count\": 4179, \"start_level\": 67.81388706140352, \"diff_start\": -31.2247131999182}, {\"year\": 2001, \"level\": 102.8297784337006, \"count\": 4131, \"start_level\": 67.81388706140352, \"diff_start\": -35.01589137229708}, {\"year\": 2002, \"level\": 107.63914419726615, \"count\": 3198, \"start_level\": 67.81388706140352, \"diff_start\": -39.82525713586263}, {\"year\": 2003, \"level\": 109.08398095519802, \"count\": 3435, \"start_level\": 67.81388706140352, \"diff_start\": -41.270093893794495}, {\"year\": 2004, \"level\": 99.09727930988826, \"count\": 4027, \"start_level\": 67.81388706140352, \"diff_start\": -31.283392248484745}, {\"year\": 2005, \"level\": 96.41448723455022, \"count\": 4191, \"start_level\": 67.81388706140352, \"diff_start\": -28.600600173146702}, {\"year\": 2006, \"level\": 90.23603319424252, \"count\": 4208, \"start_level\": 67.81388706140352, \"diff_start\": -22.422146132839003}, {\"year\": 2007, \"level\": 93.20974412814054, \"count\": 4360, \"start_level\": 67.81388706140352, \"diff_start\": -25.395857066737022}, {\"year\": 2008, \"level\": 107.27103841908713, \"count\": 3711, \"start_level\": 67.81388706140352, \"diff_start\": -39.457151357683614}, {\"year\": 2009, \"level\": 113.97573163884448, \"count\": 3311, \"start_level\": 67.81388706140352, \"diff_start\": -46.16184457744096}, {\"year\": 2010, \"level\": 124.68443654141204, \"count\": 2765, \"start_level\": 67.81388706140352, \"diff_start\": -56.87054948000852}, {\"year\": 2011, \"level\": 128.76870781746032, \"count\": 2800, \"start_level\": 67.81388706140352, \"diff_start\": -60.954820756056804}, {\"year\": 2012, \"level\": 121.24149922471824, \"count\": 2625, \"start_level\": 67.81388706140352, \"diff_start\": -53.42761216331472}, {\"year\": 2013, \"level\": 150.3552766971115, \"count\": 2609, \"start_level\": 67.81388706140352, \"diff_start\": -82.54138963570797}, {\"year\": 2014, \"level\": 161.82497219836398, \"count\": 2309, \"start_level\": 67.81388706140352, \"diff_start\": -94.01108513696046}, {\"year\": 2015, \"level\": 187.94223483110684, \"count\": 1966, \"start_level\": 67.81388706140352, \"diff_start\": -120.12834776970332}, {\"year\": 2016, \"level\": 170.92495886653293, \"count\": 2176, \"start_level\": 67.81388706140352, \"diff_start\": -103.11107180512941}, {\"year\": 2017, \"level\": 171.6590750679182, \"count\": 2000, \"start_level\": 67.81388706140352, \"diff_start\": -103.84518800651468}, {\"year\": 2018, \"level\": 166.48778088258797, \"count\": 1887, \"start_level\": 67.81388706140352, \"diff_start\": -98.67389382118445}, {\"year\": 2019, \"level\": 161.64691577464166, \"count\": 2099, \"start_level\": 67.81388706140352, \"diff_start\": -93.83302871323814}, {\"year\": 2020, \"level\": 166.97649967610988, \"count\": 1654, \"start_level\": 67.81388706140352, \"diff_start\": -99.16261261470636}, {\"year\": 2021, \"level\": 172.28391070577015, \"count\": 1398, \"start_level\": 67.81388706140352, \"diff_start\": -104.47002364436663}]}}, {\"mode\": \"vega-lite\"});\n",
       "</script>"
      ],
      "text/plain": [
       "alt.Chart(...)"
      ]
     },
     "execution_count": 26,
     "metadata": {},
     "output_type": "execute_result"
    }
   ],
   "source": [
    "alt.Chart(overall_level_change_1950).mark_line().encode(\n",
    "    x='year:O',\n",
    "    y=alt.Y('diff_start:Q'),\n",
    "    tooltip=['year', 'diff_start']\n",
    ")"
   ]
  },
  {
   "cell_type": "markdown",
   "id": "3fc11056-1af8-419c-8a89-e0fe1c27eb68",
   "metadata": {
    "tags": []
   },
   "source": [
    "## Dry wells from 2020-2021 water level changes"
   ]
  },
  {
   "cell_type": "code",
   "execution_count": 27,
   "id": "dbfd51a4-c476-4e86-a983-fedd56bd9378",
   "metadata": {},
   "outputs": [],
   "source": [
    "# group spring measurements by range and year\n",
    "range_levels = levels.groupby(['TownshipRange','year']).agg({\n",
    "    'gse_gwe': ['mean'],\n",
    "}).reset_index()\n",
    "range_levels.columns = ['TownshipRange','year','gse_gwe']"
   ]
  },
  {
   "cell_type": "code",
   "execution_count": 28,
   "id": "8ea9ed23-0ee7-4914-8349-7062dd960cfe",
   "metadata": {},
   "outputs": [
    {
     "data": {
      "text/html": [
       "<div>\n",
       "<style scoped>\n",
       "    .dataframe tbody tr th:only-of-type {\n",
       "        vertical-align: middle;\n",
       "    }\n",
       "\n",
       "    .dataframe tbody tr th {\n",
       "        vertical-align: top;\n",
       "    }\n",
       "\n",
       "    .dataframe thead th {\n",
       "        text-align: right;\n",
       "    }\n",
       "</style>\n",
       "<table border=\"1\" class=\"dataframe\">\n",
       "  <thead>\n",
       "    <tr style=\"text-align: right;\">\n",
       "      <th></th>\n",
       "      <th>TownshipRange</th>\n",
       "      <th>year</th>\n",
       "      <th>gse_gwe</th>\n",
       "    </tr>\n",
       "  </thead>\n",
       "  <tbody>\n",
       "    <tr>\n",
       "      <th>19805</th>\n",
       "      <td>T24S R18E</td>\n",
       "      <td>2021</td>\n",
       "      <td>162.909091</td>\n",
       "    </tr>\n",
       "  </tbody>\n",
       "</table>\n",
       "</div>"
      ],
      "text/plain": [
       "      TownshipRange  year     gse_gwe\n",
       "19805     T24S R18E  2021  162.909091"
      ]
     },
     "execution_count": 28,
     "metadata": {},
     "output_type": "execute_result"
    }
   ],
   "source": [
    "# create datasets for each year\n",
    "range_levels_2020 = range_levels[range_levels['year'] == 2020]\n",
    "range_levels_2021 = range_levels[range_levels['year'] == 2021]\n",
    "range_levels_2021.sample()"
   ]
  },
  {
   "cell_type": "code",
   "execution_count": 29,
   "id": "1eb598cd-3c73-4c92-9eff-10083bc91d17",
   "metadata": {},
   "outputs": [
    {
     "data": {
      "text/html": [
       "<div>\n",
       "<style scoped>\n",
       "    .dataframe tbody tr th:only-of-type {\n",
       "        vertical-align: middle;\n",
       "    }\n",
       "\n",
       "    .dataframe tbody tr th {\n",
       "        vertical-align: top;\n",
       "    }\n",
       "\n",
       "    .dataframe thead th {\n",
       "        text-align: right;\n",
       "    }\n",
       "</style>\n",
       "<table border=\"1\" class=\"dataframe\">\n",
       "  <thead>\n",
       "    <tr style=\"text-align: right;\">\n",
       "      <th></th>\n",
       "      <th>wcr_no</th>\n",
       "      <th>TownshipRange</th>\n",
       "      <th>completed_depth_updated</th>\n",
       "      <th>year_work_ended</th>\n",
       "      <th>county</th>\n",
       "      <th>year</th>\n",
       "      <th>gse_gwe</th>\n",
       "    </tr>\n",
       "  </thead>\n",
       "  <tbody>\n",
       "    <tr>\n",
       "      <th>52550</th>\n",
       "      <td>WCR0230720</td>\n",
       "      <td>T03S R08E</td>\n",
       "      <td>265.0</td>\n",
       "      <td>1988.0</td>\n",
       "      <td>Stanislaus</td>\n",
       "      <td>2020.0</td>\n",
       "      <td>23.68</td>\n",
       "    </tr>\n",
       "  </tbody>\n",
       "</table>\n",
       "</div>"
      ],
      "text/plain": [
       "           wcr_no TownshipRange  completed_depth_updated  year_work_ended  \\\n",
       "52550  WCR0230720     T03S R08E                    265.0           1988.0   \n",
       "\n",
       "           county    year  gse_gwe  \n",
       "52550  Stanislaus  2020.0    23.68  "
      ]
     },
     "execution_count": 29,
     "metadata": {},
     "output_type": "execute_result"
    }
   ],
   "source": [
    "# merge the wells data with the 2020 measurements data by township/range\n",
    "wells_depth = wells.loc[wells['use'] == 'domestic',['wcr_no','TownshipRange','completed_depth_updated','year_work_ended','county']]\n",
    "wells_depth = wells_depth.merge(range_levels_2020, on=[\"TownshipRange\"], how=\"left\")\n",
    "wells_depth = wells_depth.drop_duplicates(subset=\"wcr_no\")\n",
    "wells_depth.sample()"
   ]
  },
  {
   "cell_type": "code",
   "execution_count": 30,
   "id": "c270d10a-b863-4dee-8066-7b3f1af71975",
   "metadata": {},
   "outputs": [],
   "source": [
    "# categorize dry and not dry wells based on depth (allowing for 20 feet of pump placement)\n",
    "wells_depth['condition'] = 'not_dry'\n",
    "wells_depth.loc[pd.isna(wells_depth['completed_depth_updated']) | pd.isna(wells_depth['gse_gwe']), 'condition'] = 'unknown'\n",
    "wells_depth.loc[wells_depth['completed_depth_updated'] - 20 <= wells_depth['gse_gwe'], 'condition'] = 'dry'"
   ]
  },
  {
   "cell_type": "code",
   "execution_count": 31,
   "id": "f14589c5-51f6-4d83-9279-cb2f6a528fd5",
   "metadata": {},
   "outputs": [
    {
     "data": {
      "text/html": [
       "<div>\n",
       "<style scoped>\n",
       "    .dataframe tbody tr th:only-of-type {\n",
       "        vertical-align: middle;\n",
       "    }\n",
       "\n",
       "    .dataframe tbody tr th {\n",
       "        vertical-align: top;\n",
       "    }\n",
       "\n",
       "    .dataframe thead th {\n",
       "        text-align: right;\n",
       "    }\n",
       "</style>\n",
       "<table border=\"1\" class=\"dataframe\">\n",
       "  <thead>\n",
       "    <tr style=\"text-align: right;\">\n",
       "      <th></th>\n",
       "      <th>wcr_no</th>\n",
       "      <th>TownshipRange</th>\n",
       "      <th>completed_depth_updated</th>\n",
       "      <th>year_work_ended</th>\n",
       "      <th>county</th>\n",
       "      <th>year</th>\n",
       "      <th>gse_gwe</th>\n",
       "      <th>condition</th>\n",
       "    </tr>\n",
       "  </thead>\n",
       "  <tbody>\n",
       "    <tr>\n",
       "      <th>36990</th>\n",
       "      <td>WCR1990-010905</td>\n",
       "      <td>T05N R06E</td>\n",
       "      <td>225.0</td>\n",
       "      <td>1990.0</td>\n",
       "      <td>Sacramento</td>\n",
       "      <td>2020.0</td>\n",
       "      <td>79.525</td>\n",
       "      <td>not_dry</td>\n",
       "    </tr>\n",
       "  </tbody>\n",
       "</table>\n",
       "</div>"
      ],
      "text/plain": [
       "               wcr_no TownshipRange  completed_depth_updated  year_work_ended  \\\n",
       "36990  WCR1990-010905     T05N R06E                    225.0           1990.0   \n",
       "\n",
       "           county    year  gse_gwe condition  \n",
       "36990  Sacramento  2020.0   79.525   not_dry  "
      ]
     },
     "execution_count": 31,
     "metadata": {},
     "output_type": "execute_result"
    }
   ],
   "source": [
    "# get all of the 'not dry' 2020 wells\n",
    "not_dry_2020 = wells_depth.loc[wells_depth['condition'] == 'not_dry']\n",
    "not_dry_2020.sample()"
   ]
  },
  {
   "cell_type": "code",
   "execution_count": 32,
   "id": "eef5b265-451d-4464-9ba2-4718bf765b8c",
   "metadata": {},
   "outputs": [
    {
     "data": {
      "text/html": [
       "<div>\n",
       "<style scoped>\n",
       "    .dataframe tbody tr th:only-of-type {\n",
       "        vertical-align: middle;\n",
       "    }\n",
       "\n",
       "    .dataframe tbody tr th {\n",
       "        vertical-align: top;\n",
       "    }\n",
       "\n",
       "    .dataframe thead th {\n",
       "        text-align: right;\n",
       "    }\n",
       "</style>\n",
       "<table border=\"1\" class=\"dataframe\">\n",
       "  <thead>\n",
       "    <tr style=\"text-align: right;\">\n",
       "      <th></th>\n",
       "      <th>county</th>\n",
       "      <th>count</th>\n",
       "    </tr>\n",
       "  </thead>\n",
       "  <tbody>\n",
       "    <tr>\n",
       "      <th>0</th>\n",
       "      <td>Fresno</td>\n",
       "      <td>12358</td>\n",
       "    </tr>\n",
       "    <tr>\n",
       "      <th>1</th>\n",
       "      <td>Kern</td>\n",
       "      <td>1445</td>\n",
       "    </tr>\n",
       "    <tr>\n",
       "      <th>2</th>\n",
       "      <td>Kings</td>\n",
       "      <td>1938</td>\n",
       "    </tr>\n",
       "    <tr>\n",
       "      <th>3</th>\n",
       "      <td>Madera</td>\n",
       "      <td>2346</td>\n",
       "    </tr>\n",
       "    <tr>\n",
       "      <th>4</th>\n",
       "      <td>Merced</td>\n",
       "      <td>5897</td>\n",
       "    </tr>\n",
       "    <tr>\n",
       "      <th>5</th>\n",
       "      <td>San Joaquin</td>\n",
       "      <td>8122</td>\n",
       "    </tr>\n",
       "    <tr>\n",
       "      <th>6</th>\n",
       "      <td>Stanislaus</td>\n",
       "      <td>7546</td>\n",
       "    </tr>\n",
       "    <tr>\n",
       "      <th>7</th>\n",
       "      <td>Tulare</td>\n",
       "      <td>5365</td>\n",
       "    </tr>\n",
       "  </tbody>\n",
       "</table>\n",
       "</div>"
      ],
      "text/plain": [
       "        county  count\n",
       "0       Fresno  12358\n",
       "1         Kern   1445\n",
       "2        Kings   1938\n",
       "3       Madera   2346\n",
       "4       Merced   5897\n",
       "5  San Joaquin   8122\n",
       "6   Stanislaus   7546\n",
       "7       Tulare   5365"
      ]
     },
     "execution_count": 32,
     "metadata": {},
     "output_type": "execute_result"
    }
   ],
   "source": [
    "# how many not dry wells are in each county?\n",
    "not_dry_2020[not_dry_2020['county'].isin(main_counties)].groupby('county').size().reset_index(name='count')"
   ]
  },
  {
   "cell_type": "code",
   "execution_count": 33,
   "id": "ab4e1da1-530c-4c2f-8f8a-ba061beab0cd",
   "metadata": {},
   "outputs": [
    {
     "data": {
      "text/html": [
       "<div>\n",
       "<style scoped>\n",
       "    .dataframe tbody tr th:only-of-type {\n",
       "        vertical-align: middle;\n",
       "    }\n",
       "\n",
       "    .dataframe tbody tr th {\n",
       "        vertical-align: top;\n",
       "    }\n",
       "\n",
       "    .dataframe thead th {\n",
       "        text-align: right;\n",
       "    }\n",
       "</style>\n",
       "<table border=\"1\" class=\"dataframe\">\n",
       "  <thead>\n",
       "    <tr style=\"text-align: right;\">\n",
       "      <th></th>\n",
       "      <th>wcr_no</th>\n",
       "      <th>TownshipRange</th>\n",
       "      <th>completed_depth_updated</th>\n",
       "      <th>year_work_ended</th>\n",
       "      <th>county</th>\n",
       "      <th>level_2020</th>\n",
       "      <th>condition_2020</th>\n",
       "      <th>level_2021</th>\n",
       "    </tr>\n",
       "  </thead>\n",
       "  <tbody>\n",
       "    <tr>\n",
       "      <th>39167</th>\n",
       "      <td>WCR0025056</td>\n",
       "      <td>T05S R10E</td>\n",
       "      <td>265.0</td>\n",
       "      <td>NaN</td>\n",
       "      <td>Stanislaus</td>\n",
       "      <td>37.06</td>\n",
       "      <td>not_dry</td>\n",
       "      <td>34.35</td>\n",
       "    </tr>\n",
       "  </tbody>\n",
       "</table>\n",
       "</div>"
      ],
      "text/plain": [
       "           wcr_no TownshipRange  completed_depth_updated  year_work_ended  \\\n",
       "39167  WCR0025056     T05S R10E                    265.0              NaN   \n",
       "\n",
       "           county  level_2020 condition_2020  level_2021  \n",
       "39167  Stanislaus       37.06        not_dry       34.35  "
      ]
     },
     "execution_count": 33,
     "metadata": {},
     "output_type": "execute_result"
    }
   ],
   "source": [
    "# merge the not dry 2020 with the range 2021\n",
    "dry_wells_2021 = not_dry_2020.merge(range_levels_2021, on=[\"TownshipRange\"], how=\"left\")\n",
    "dry_wells_2021 = dry_wells_2021.drop_duplicates(subset=\"wcr_no\")\n",
    "dry_wells_2021.rename(columns={\"gse_gwe_x\":\"level_2020\", \"gse_gwe_y\":\"level_2021\", \"condition\":\"condition_2020\"}, inplace=True)\n",
    "dry_wells_2021.drop(columns=['year_x', 'year_y'], inplace=True)\n",
    "dry_wells_2021.sample()"
   ]
  },
  {
   "cell_type": "code",
   "execution_count": 34,
   "id": "06ac8023-5805-4a50-9a79-6ce8dddfe797",
   "metadata": {},
   "outputs": [
    {
     "data": {
      "text/html": [
       "<div>\n",
       "<style scoped>\n",
       "    .dataframe tbody tr th:only-of-type {\n",
       "        vertical-align: middle;\n",
       "    }\n",
       "\n",
       "    .dataframe tbody tr th {\n",
       "        vertical-align: top;\n",
       "    }\n",
       "\n",
       "    .dataframe thead th {\n",
       "        text-align: right;\n",
       "    }\n",
       "</style>\n",
       "<table border=\"1\" class=\"dataframe\">\n",
       "  <thead>\n",
       "    <tr style=\"text-align: right;\">\n",
       "      <th></th>\n",
       "      <th>wcr_no</th>\n",
       "      <th>TownshipRange</th>\n",
       "      <th>completed_depth_updated</th>\n",
       "      <th>year_work_ended</th>\n",
       "      <th>county</th>\n",
       "      <th>level_2020</th>\n",
       "      <th>condition_2020</th>\n",
       "      <th>level_2021</th>\n",
       "      <th>condition_2021</th>\n",
       "    </tr>\n",
       "  </thead>\n",
       "  <tbody>\n",
       "    <tr>\n",
       "      <th>36582</th>\n",
       "      <td>WCR0257563</td>\n",
       "      <td>T03S R09E</td>\n",
       "      <td>120.0</td>\n",
       "      <td>2005.0</td>\n",
       "      <td>Stanislaus</td>\n",
       "      <td>59.05</td>\n",
       "      <td>not_dry</td>\n",
       "      <td>57.05</td>\n",
       "      <td>not_dry</td>\n",
       "    </tr>\n",
       "  </tbody>\n",
       "</table>\n",
       "</div>"
      ],
      "text/plain": [
       "           wcr_no TownshipRange  completed_depth_updated  year_work_ended  \\\n",
       "36582  WCR0257563     T03S R09E                    120.0           2005.0   \n",
       "\n",
       "           county  level_2020 condition_2020  level_2021 condition_2021  \n",
       "36582  Stanislaus       59.05        not_dry       57.05        not_dry  "
      ]
     },
     "execution_count": 34,
     "metadata": {},
     "output_type": "execute_result"
    }
   ],
   "source": [
    "# categorize dry and not dry wells based on depth (allowing for 20 feet of pump placement)\n",
    "dry_wells_2021['condition_2021'] = 'not_dry'\n",
    "dry_wells_2021.loc[pd.isna(dry_wells_2021['completed_depth_updated']) | pd.isna(dry_wells_2021['level_2021']), 'condition_2021'] = 'unknown'\n",
    "dry_wells_2021.loc[dry_wells_2021['completed_depth_updated'] - 20 <= dry_wells_2021['level_2021'], 'condition_2021'] = 'dry'\n",
    "dry_wells_2021.sample()"
   ]
  },
  {
   "cell_type": "code",
   "execution_count": 35,
   "id": "47eb3d42-1d06-4b9e-8639-c37dddc9a63a",
   "metadata": {},
   "outputs": [],
   "source": [
    "dry_wells_2021_range = dry_wells_2021.groupby(['TownshipRange','condition_2021']).size().reset_index(name='count')\n",
    "dry_wells_2021_county = dry_wells_2021.groupby(['county','condition_2021']).size().reset_index(name='count')"
   ]
  },
  {
   "cell_type": "code",
   "execution_count": 36,
   "id": "d3e608c9-3718-4d2a-b4cb-faaf3b6b3c4d",
   "metadata": {},
   "outputs": [
    {
     "data": {
      "text/html": [
       "<div>\n",
       "<style scoped>\n",
       "    .dataframe tbody tr th:only-of-type {\n",
       "        vertical-align: middle;\n",
       "    }\n",
       "\n",
       "    .dataframe tbody tr th {\n",
       "        vertical-align: top;\n",
       "    }\n",
       "\n",
       "    .dataframe thead th {\n",
       "        text-align: right;\n",
       "    }\n",
       "</style>\n",
       "<table border=\"1\" class=\"dataframe\">\n",
       "  <thead>\n",
       "    <tr style=\"text-align: right;\">\n",
       "      <th>condition_2021</th>\n",
       "      <th>TownshipRange</th>\n",
       "      <th>dry</th>\n",
       "      <th>not_dry</th>\n",
       "      <th>unknown</th>\n",
       "    </tr>\n",
       "  </thead>\n",
       "  <tbody>\n",
       "    <tr>\n",
       "      <th>0</th>\n",
       "      <td>T01N R02E</td>\n",
       "      <td>5.0</td>\n",
       "      <td>204.0</td>\n",
       "      <td>0.0</td>\n",
       "    </tr>\n",
       "    <tr>\n",
       "      <th>1</th>\n",
       "      <td>T01N R03E</td>\n",
       "      <td>2.0</td>\n",
       "      <td>559.0</td>\n",
       "      <td>0.0</td>\n",
       "    </tr>\n",
       "    <tr>\n",
       "      <th>2</th>\n",
       "      <td>T01N R06E</td>\n",
       "      <td>6.0</td>\n",
       "      <td>140.0</td>\n",
       "      <td>0.0</td>\n",
       "    </tr>\n",
       "    <tr>\n",
       "      <th>3</th>\n",
       "      <td>T01N R07E</td>\n",
       "      <td>0.0</td>\n",
       "      <td>308.0</td>\n",
       "      <td>0.0</td>\n",
       "    </tr>\n",
       "    <tr>\n",
       "      <th>4</th>\n",
       "      <td>T01N R08E</td>\n",
       "      <td>0.0</td>\n",
       "      <td>205.0</td>\n",
       "      <td>0.0</td>\n",
       "    </tr>\n",
       "  </tbody>\n",
       "</table>\n",
       "</div>"
      ],
      "text/plain": [
       "condition_2021 TownshipRange  dry  not_dry  unknown\n",
       "0                  T01N R02E  5.0    204.0      0.0\n",
       "1                  T01N R03E  2.0    559.0      0.0\n",
       "2                  T01N R06E  6.0    140.0      0.0\n",
       "3                  T01N R07E  0.0    308.0      0.0\n",
       "4                  T01N R08E  0.0    205.0      0.0"
      ]
     },
     "execution_count": 36,
     "metadata": {},
     "output_type": "execute_result"
    }
   ],
   "source": [
    "dry_wells_2021_range = dry_wells_2021_range.pivot(index=['TownshipRange'], columns='condition_2021', values='count').reset_index()\n",
    "dry_wells_2021_range = dry_wells_2021_range.fillna(0)\n",
    "dry_wells_2021_range.head()"
   ]
  },
  {
   "cell_type": "code",
   "execution_count": 37,
   "id": "37d64dfa-15a2-4b10-ad86-316b3385b8bc",
   "metadata": {},
   "outputs": [
    {
     "data": {
      "text/plain": [
       "1010.0"
      ]
     },
     "execution_count": 37,
     "metadata": {},
     "output_type": "execute_result"
    }
   ],
   "source": [
    "dry_wells_2021_range['dry'].sum()"
   ]
  },
  {
   "cell_type": "markdown",
   "id": "01df10f9-14c1-4805-baeb-364d4cf6cac4",
   "metadata": {},
   "source": [
    "## Household water shortages by year"
   ]
  },
  {
   "cell_type": "code",
   "execution_count": 38,
   "id": "e97d9274-9ab4-4803-87bc-2a70b4f3fcdb",
   "metadata": {},
   "outputs": [],
   "source": [
    "shortage_by_year = shortage.groupby(by=['CreateDateYear']).size().reset_index(name='Count')\n",
    "shortage_by_year.rename(columns={'CreateDateYear':'Year'}, inplace=True)\n",
    "shortage_by_year['Year'] = shortage_by_year['Year'].astype('int')"
   ]
  },
  {
   "cell_type": "code",
   "execution_count": 39,
   "id": "2f553866-ba7b-4465-9a23-09263f3ae377",
   "metadata": {},
   "outputs": [
    {
     "data": {
      "text/html": [
       "<div>\n",
       "<style scoped>\n",
       "    .dataframe tbody tr th:only-of-type {\n",
       "        vertical-align: middle;\n",
       "    }\n",
       "\n",
       "    .dataframe tbody tr th {\n",
       "        vertical-align: top;\n",
       "    }\n",
       "\n",
       "    .dataframe thead th {\n",
       "        text-align: right;\n",
       "    }\n",
       "</style>\n",
       "<table border=\"1\" class=\"dataframe\">\n",
       "  <thead>\n",
       "    <tr style=\"text-align: right;\">\n",
       "      <th></th>\n",
       "      <th>Year</th>\n",
       "      <th>Count</th>\n",
       "    </tr>\n",
       "  </thead>\n",
       "  <tbody>\n",
       "    <tr>\n",
       "      <th>0</th>\n",
       "      <td>2012</td>\n",
       "      <td>1</td>\n",
       "    </tr>\n",
       "    <tr>\n",
       "      <th>1</th>\n",
       "      <td>2014</td>\n",
       "      <td>166</td>\n",
       "    </tr>\n",
       "    <tr>\n",
       "      <th>2</th>\n",
       "      <td>2015</td>\n",
       "      <td>297</td>\n",
       "    </tr>\n",
       "    <tr>\n",
       "      <th>3</th>\n",
       "      <td>2016</td>\n",
       "      <td>1334</td>\n",
       "    </tr>\n",
       "    <tr>\n",
       "      <th>4</th>\n",
       "      <td>2017</td>\n",
       "      <td>168</td>\n",
       "    </tr>\n",
       "    <tr>\n",
       "      <th>5</th>\n",
       "      <td>2018</td>\n",
       "      <td>30</td>\n",
       "    </tr>\n",
       "    <tr>\n",
       "      <th>6</th>\n",
       "      <td>2019</td>\n",
       "      <td>29</td>\n",
       "    </tr>\n",
       "    <tr>\n",
       "      <th>7</th>\n",
       "      <td>2020</td>\n",
       "      <td>29</td>\n",
       "    </tr>\n",
       "    <tr>\n",
       "      <th>8</th>\n",
       "      <td>2021</td>\n",
       "      <td>465</td>\n",
       "    </tr>\n",
       "  </tbody>\n",
       "</table>\n",
       "</div>"
      ],
      "text/plain": [
       "   Year  Count\n",
       "0  2012      1\n",
       "1  2014    166\n",
       "2  2015    297\n",
       "3  2016   1334\n",
       "4  2017    168\n",
       "5  2018     30\n",
       "6  2019     29\n",
       "7  2020     29\n",
       "8  2021    465"
      ]
     },
     "execution_count": 39,
     "metadata": {},
     "output_type": "execute_result"
    }
   ],
   "source": [
    "shortage_by_year"
   ]
  },
  {
   "cell_type": "code",
   "execution_count": 40,
   "id": "9451d2ca-b4b9-4cb4-bbb6-c21c604ea0fb",
   "metadata": {},
   "outputs": [
    {
     "data": {
      "text/plain": [
       "15.03448275862069"
      ]
     },
     "execution_count": 40,
     "metadata": {},
     "output_type": "execute_result"
    }
   ],
   "source": [
    "# percent change frpm 2020 to 2021\n",
    "(shortage_by_year['Count'].iloc[-1] -  shortage_by_year['Count'].iloc[-2]) / shortage_by_year['Count'].iloc[-2]"
   ]
  },
  {
   "cell_type": "markdown",
   "id": "81657787-ba5a-4575-b013-e5e9e85c4f94",
   "metadata": {},
   "source": [
    "## Shortages by year and county"
   ]
  },
  {
   "cell_type": "code",
   "execution_count": 41,
   "id": "461caba7-20b5-418b-a480-6ebe4d6bebb7",
   "metadata": {},
   "outputs": [],
   "source": [
    "shortage_by_year_county = shortage[shortage['County'].isin(main_counties)].groupby(by=['CreateDateYear', 'County']).size().reset_index(name='Count')\n",
    "shortage_by_year_county.rename(columns={'CreateDateYear':'Year'}, inplace=True)\n",
    "shortage_by_year_county['Year'] = shortage_by_year_county['Year'].astype('int')"
   ]
  },
  {
   "cell_type": "code",
   "execution_count": 42,
   "id": "ee957d2c-31ce-47dd-a4fe-dc73b31c0db3",
   "metadata": {},
   "outputs": [
    {
     "data": {
      "text/html": [
       "<div>\n",
       "<style scoped>\n",
       "    .dataframe tbody tr th:only-of-type {\n",
       "        vertical-align: middle;\n",
       "    }\n",
       "\n",
       "    .dataframe tbody tr th {\n",
       "        vertical-align: top;\n",
       "    }\n",
       "\n",
       "    .dataframe thead th {\n",
       "        text-align: right;\n",
       "    }\n",
       "</style>\n",
       "<table border=\"1\" class=\"dataframe\">\n",
       "  <thead>\n",
       "    <tr style=\"text-align: right;\">\n",
       "      <th></th>\n",
       "      <th>Year</th>\n",
       "      <th>County</th>\n",
       "      <th>Count</th>\n",
       "    </tr>\n",
       "  </thead>\n",
       "  <tbody>\n",
       "    <tr>\n",
       "      <th>42</th>\n",
       "      <td>2021</td>\n",
       "      <td>Fresno</td>\n",
       "      <td>113</td>\n",
       "    </tr>\n",
       "    <tr>\n",
       "      <th>43</th>\n",
       "      <td>2021</td>\n",
       "      <td>Kern</td>\n",
       "      <td>3</td>\n",
       "    </tr>\n",
       "    <tr>\n",
       "      <th>44</th>\n",
       "      <td>2021</td>\n",
       "      <td>Kings</td>\n",
       "      <td>15</td>\n",
       "    </tr>\n",
       "    <tr>\n",
       "      <th>45</th>\n",
       "      <td>2021</td>\n",
       "      <td>Madera</td>\n",
       "      <td>127</td>\n",
       "    </tr>\n",
       "    <tr>\n",
       "      <th>46</th>\n",
       "      <td>2021</td>\n",
       "      <td>Merced</td>\n",
       "      <td>44</td>\n",
       "    </tr>\n",
       "    <tr>\n",
       "      <th>47</th>\n",
       "      <td>2021</td>\n",
       "      <td>San Joaquin</td>\n",
       "      <td>19</td>\n",
       "    </tr>\n",
       "    <tr>\n",
       "      <th>48</th>\n",
       "      <td>2021</td>\n",
       "      <td>Stanislaus</td>\n",
       "      <td>9</td>\n",
       "    </tr>\n",
       "    <tr>\n",
       "      <th>49</th>\n",
       "      <td>2021</td>\n",
       "      <td>Tulare</td>\n",
       "      <td>133</td>\n",
       "    </tr>\n",
       "  </tbody>\n",
       "</table>\n",
       "</div>"
      ],
      "text/plain": [
       "    Year       County  Count\n",
       "42  2021       Fresno    113\n",
       "43  2021         Kern      3\n",
       "44  2021        Kings     15\n",
       "45  2021       Madera    127\n",
       "46  2021       Merced     44\n",
       "47  2021  San Joaquin     19\n",
       "48  2021   Stanislaus      9\n",
       "49  2021       Tulare    133"
      ]
     },
     "execution_count": 42,
     "metadata": {},
     "output_type": "execute_result"
    }
   ],
   "source": [
    "shortage_by_year_county[shortage_by_year_county['Year']==2021]"
   ]
  },
  {
   "cell_type": "code",
   "execution_count": 43,
   "id": "25e13011-691f-40c3-8391-f4000de1ffd8",
   "metadata": {},
   "outputs": [
    {
     "data": {
      "text/plain": [
       "0.2860215053763441"
      ]
     },
     "execution_count": 43,
     "metadata": {},
     "output_type": "execute_result"
    }
   ],
   "source": [
    "# Percent of shortages that are from Tulare County\n",
    "shortages_2021 = shortage_by_year[shortage_by_year['Year']==2021]['Count'].iloc[0]\n",
    "shortages_2021_Tulare = shortage_by_year_county[(shortage_by_year_county['Year']==2021) & (shortage_by_year_county['County']=='Tulare')]['Count'].iloc[0]\n",
    "shortages_2021_Tulare / shortages_2021"
   ]
  },
  {
   "cell_type": "code",
   "execution_count": null,
   "id": "a3eadb01-da3a-4380-920d-f97f68132f15",
   "metadata": {},
   "outputs": [],
   "source": []
  }
 ],
 "metadata": {
  "kernelspec": {
   "display_name": "Python 3 (ipykernel)",
   "language": "python",
   "name": "python3"
  },
  "language_info": {
   "codemirror_mode": {
    "name": "ipython",
    "version": 3
   },
   "file_extension": ".py",
   "mimetype": "text/x-python",
   "name": "python",
   "nbconvert_exporter": "python",
   "pygments_lexer": "ipython3",
   "version": "3.9.6"
  },
  "toc-showtags": false
 },
 "nbformat": 4,
 "nbformat_minor": 5
}
