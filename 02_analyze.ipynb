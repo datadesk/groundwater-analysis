{
 "cells": [
  {
   "cell_type": "markdown",
   "id": "f40828da-0c9d-4633-aabe-52af9911d0be",
   "metadata": {
    "tags": []
   },
   "source": [
    "## Setup"
   ]
  },
  {
   "cell_type": "code",
   "execution_count": 1,
   "id": "48737e58-e7b4-48a7-8f44-88e5183e13a4",
   "metadata": {},
   "outputs": [],
   "source": [
    "import warnings\n",
    "warnings.filterwarnings('ignore')"
   ]
  },
  {
   "cell_type": "code",
   "execution_count": 63,
   "id": "ab01c530-8d67-4536-a8a2-cf6a700d1c9d",
   "metadata": {},
   "outputs": [],
   "source": [
    "import pandas as pd\n",
    "import geopandas as gpd\n",
    "import altair as alt\n",
    "import altair_latimes as lat"
   ]
  },
  {
   "cell_type": "code",
   "execution_count": 4,
   "id": "5fff3bdf-2e1a-47c1-9a4b-b85c73a7f664",
   "metadata": {},
   "outputs": [
    {
     "data": {
      "text/plain": [
       "ThemeRegistry.enable('latimes')"
      ]
     },
     "execution_count": 4,
     "metadata": {},
     "output_type": "execute_result"
    }
   ],
   "source": [
    "alt.themes.register('latimes', lat.theme)\n",
    "alt.themes.enable('latimes')"
   ]
  },
  {
   "cell_type": "code",
   "execution_count": 64,
   "id": "5e64245a-59d0-48fa-8330-7119f5d730c3",
   "metadata": {},
   "outputs": [],
   "source": [
    "wells = pd.read_csv('./data/well_completion.csv') \n",
    "shortage = pd.read_csv('./data/shortages.csv') \n",
    "levels = pd.read_csv('./data/spring_water_levels.csv') "
   ]
  },
  {
   "cell_type": "code",
   "execution_count": 7,
   "id": "3680f0bf-af6e-4954-8cc0-1fd3fa2b4e28",
   "metadata": {},
   "outputs": [],
   "source": [
    "main_counties = [\"Fresno\", \"Kern\", \"Kings\", \"Madera\", \"Merced\", \"San Joaquin\", \"Stanislaus\", \"Tulare\"]"
   ]
  },
  {
   "cell_type": "markdown",
   "id": "8152dba3-ef32-417d-bde9-a239d507a5a9",
   "metadata": {},
   "source": [
    "## Wells drilled in 2021"
   ]
  },
  {
   "cell_type": "code",
   "execution_count": 8,
   "id": "ae5eac2c-c812-4c81-9222-7085c42a5931",
   "metadata": {},
   "outputs": [],
   "source": [
    "grouped_date_use = wells.groupby(['year_work_ended','use']).agg({\n",
    "    'wcr_no': ['count'],\n",
    "}).reset_index()\n",
    "grouped_date_use.columns = [\"date\",\"use\",\"count\"]"
   ]
  },
  {
   "cell_type": "code",
   "execution_count": 9,
   "id": "70414415-1d3b-40d0-8fb2-f4dcfa163f40",
   "metadata": {},
   "outputs": [],
   "source": [
    "grouped_date_use_pivot = grouped_date_use.pivot(index='date', columns='use', values='count').reset_index()"
   ]
  },
  {
   "cell_type": "code",
   "execution_count": 11,
   "id": "fd6ee2bf-5d7b-4bf2-989e-d9e8461002db",
   "metadata": {},
   "outputs": [
    {
     "data": {
      "text/html": [
       "<div>\n",
       "<style scoped>\n",
       "    .dataframe tbody tr th:only-of-type {\n",
       "        vertical-align: middle;\n",
       "    }\n",
       "\n",
       "    .dataframe tbody tr th {\n",
       "        vertical-align: top;\n",
       "    }\n",
       "\n",
       "    .dataframe thead th {\n",
       "        text-align: right;\n",
       "    }\n",
       "</style>\n",
       "<table border=\"1\" class=\"dataframe\">\n",
       "  <thead>\n",
       "    <tr style=\"text-align: right;\">\n",
       "      <th>use</th>\n",
       "      <th>date</th>\n",
       "      <th>agriculture</th>\n",
       "      <th>domestic</th>\n",
       "      <th>public</th>\n",
       "    </tr>\n",
       "  </thead>\n",
       "  <tbody>\n",
       "    <tr>\n",
       "      <th>97</th>\n",
       "      <td>2021.0</td>\n",
       "      <td>619.0</td>\n",
       "      <td>671.0</td>\n",
       "      <td>12.0</td>\n",
       "    </tr>\n",
       "  </tbody>\n",
       "</table>\n",
       "</div>"
      ],
      "text/plain": [
       "use    date  agriculture  domestic  public\n",
       "97   2021.0        619.0     671.0    12.0"
      ]
     },
     "execution_count": 11,
     "metadata": {},
     "output_type": "execute_result"
    }
   ],
   "source": [
    "grouped_date_use_pivot.tail(1)"
   ]
  },
  {
   "cell_type": "markdown",
   "id": "9814ca3a-1927-4013-bbd3-5956e8b83e6c",
   "metadata": {},
   "source": [
    "## Total agriculture wells"
   ]
  },
  {
   "cell_type": "code",
   "execution_count": 482,
   "id": "74864db9-e229-4889-8183-3965c0155fb1",
   "metadata": {},
   "outputs": [
    {
     "data": {
      "text/plain": [
       "34352.0"
      ]
     },
     "execution_count": 482,
     "metadata": {},
     "output_type": "execute_result"
    }
   ],
   "source": [
    "grouped_date_use_pivot['agriculture'].sum()"
   ]
  },
  {
   "cell_type": "markdown",
   "id": "66aab7c1-37ef-4a6b-b0df-07d6527d117d",
   "metadata": {},
   "source": [
    "## Total domestic wells"
   ]
  },
  {
   "cell_type": "code",
   "execution_count": 483,
   "id": "681b6ee4-c535-4003-9ed9-c1e79b3ea992",
   "metadata": {},
   "outputs": [
    {
     "data": {
      "text/plain": [
       "59456.0"
      ]
     },
     "execution_count": 483,
     "metadata": {},
     "output_type": "execute_result"
    }
   ],
   "source": [
    "grouped_date_use_pivot['domestic'].sum()"
   ]
  },
  {
   "cell_type": "markdown",
   "id": "e26fc63c-0434-4017-a4c7-f98b8fe4cd11",
   "metadata": {},
   "source": [
    "## Well construction over time"
   ]
  },
  {
   "cell_type": "code",
   "execution_count": 14,
   "id": "d538f226-1f50-47b8-b79d-6337f1dcdac1",
   "metadata": {},
   "outputs": [
    {
     "data": {
      "text/html": [
       "\n",
       "<div id=\"altair-viz-7de5550ba54d411ab9ab48380a40b45d\"></div>\n",
       "<script type=\"text/javascript\">\n",
       "  (function(spec, embedOpt){\n",
       "    let outputDiv = document.currentScript.previousElementSibling;\n",
       "    if (outputDiv.id !== \"altair-viz-7de5550ba54d411ab9ab48380a40b45d\") {\n",
       "      outputDiv = document.getElementById(\"altair-viz-7de5550ba54d411ab9ab48380a40b45d\");\n",
       "    }\n",
       "    const paths = {\n",
       "      \"vega\": \"https://cdn.jsdelivr.net/npm//vega@5?noext\",\n",
       "      \"vega-lib\": \"https://cdn.jsdelivr.net/npm//vega-lib?noext\",\n",
       "      \"vega-lite\": \"https://cdn.jsdelivr.net/npm//vega-lite@4.8.1?noext\",\n",
       "      \"vega-embed\": \"https://cdn.jsdelivr.net/npm//vega-embed@6?noext\",\n",
       "    };\n",
       "\n",
       "    function loadScript(lib) {\n",
       "      return new Promise(function(resolve, reject) {\n",
       "        var s = document.createElement('script');\n",
       "        s.src = paths[lib];\n",
       "        s.async = true;\n",
       "        s.onload = () => resolve(paths[lib]);\n",
       "        s.onerror = () => reject(`Error loading script: ${paths[lib]}`);\n",
       "        document.getElementsByTagName(\"head\")[0].appendChild(s);\n",
       "      });\n",
       "    }\n",
       "\n",
       "    function showError(err) {\n",
       "      outputDiv.innerHTML = `<div class=\"error\" style=\"color:red;\">${err}</div>`;\n",
       "      throw err;\n",
       "    }\n",
       "\n",
       "    function displayChart(vegaEmbed) {\n",
       "      vegaEmbed(outputDiv, spec, embedOpt)\n",
       "        .catch(err => showError(`Javascript Error: ${err.message}<br>This usually means there's a typo in your chart specification. See the javascript console for the full traceback.`));\n",
       "    }\n",
       "\n",
       "    if(typeof define === \"function\" && define.amd) {\n",
       "      requirejs.config({paths});\n",
       "      require([\"vega-embed\"], displayChart, err => showError(`Error loading script: ${err.message}`));\n",
       "    } else if (typeof vegaEmbed === \"function\") {\n",
       "      displayChart(vegaEmbed);\n",
       "    } else {\n",
       "      loadScript(\"vega\")\n",
       "        .then(() => loadScript(\"vega-lite\"))\n",
       "        .then(() => loadScript(\"vega-embed\"))\n",
       "        .catch(showError)\n",
       "        .then(() => displayChart(vegaEmbed));\n",
       "    }\n",
       "  })({\"config\": {\"view\": {\"width\": 800, \"height\": 450}, \"background\": \"#ffffff\", \"title\": {\"anchor\": \"start\", \"font\": \"BentonGothic-Bold, sans\", \"fontColor\": \"#000000\", \"fontSize\": 22, \"fontWeight\": \"normal\"}, \"arc\": {\"fill\": \"#82c6df\"}, \"area\": {\"fill\": \"#82c6df\"}, \"line\": {\"stroke\": \"#82c6df\", \"strokeWidth\": 3}, \"path\": {\"stroke\": \"#82c6df\"}, \"rect\": {\"fill\": \"#82c6df\"}, \"shape\": {\"stroke\": \"#82c6df\"}, \"bar\": {\"fill\": \"#82c6df\"}, \"point\": {\"stroke\": \"#82c6df\"}, \"symbol\": {\"fill\": \"#82c6df\", \"size\": 30}, \"axis\": {\"titleFont\": \"BentonGothic-Bold, sans\", \"titleFontSize\": 14, \"titleFontWeight\": \"normal\", \"labelFont\": \"BentonGothic, sans\", \"labelFontSize\": 12, \"labelFontWeight\": \"normal\"}, \"axisX\": {\"labelAngle\": 0, \"labelPadding\": 4, \"tickSize\": 3}, \"axisY\": {\"labelBaseline\": \"middle\", \"maxExtent\": 45, \"minExtent\": 45, \"tickSize\": 2, \"titleAlign\": \"left\", \"titleAngle\": 0, \"titleX\": -45, \"titleY\": -11}, \"legend\": {\"titleFont\": \"BentonGothic-Bold, sans\", \"titleFontSize\": 14, \"titleFontWeight\": \"normal\", \"symbolType\": \"square\", \"labelFont\": \"BentonGothic, sans\", \"labelFontSize\": 13}, \"range\": {\"category\": [\"#3580b1\", \"#ec8431\", \"#ab7fb4\", \"#c89d29\", \"#adc839\", \"#829eb1\"], \"diverging\": [\"#e68a4f\", \"#f4bb6a\", \"#f9e39c\", \"#dadfe2\", \"#a6b7c6\", \"#849eae\"], \"heatmap\": [\"#fbf2c7\", \"#f9e39c\", \"#f8d36e\", \"#f4bb6a\", \"#e68a4f\", \"#d15a40\", \"#ab4232\"], \"ordinal\": [\"#fbf2c7\", \"#f9e39c\", \"#f8d36e\", \"#f4bb6a\", \"#e68a4f\", \"#d15a40\", \"#ab4232\"], \"ramp\": [\"#fbf2c7\", \"#f9e39c\", \"#f8d36e\", \"#f4bb6a\", \"#e68a4f\", \"#d15a40\", \"#ab4232\"]}}, \"layer\": [{\"data\": {\"name\": \"data-8d673063f9e375b0e36b21ee75781660\"}, \"mark\": {\"type\": \"rect\", \"color\": \"#EEE\"}, \"encoding\": {\"x\": {\"type\": \"temporal\", \"field\": \"start\"}, \"x2\": {\"field\": \"end\"}}}, {\"data\": {\"name\": \"data-f5b541980128550febcab59de6944cc7\"}, \"mark\": \"circle\", \"encoding\": {\"color\": {\"type\": \"nominal\", \"field\": \"use\"}, \"opacity\": {\"value\": 0}, \"tooltip\": [{\"type\": \"quantitative\", \"field\": \"date\"}, {\"type\": \"nominal\", \"field\": \"use\"}, {\"type\": \"quantitative\", \"field\": \"count\"}], \"x\": {\"type\": \"temporal\", \"axis\": {\"format\": \"%Y\", \"title\": \"Year\", \"values\": [0.995, 0.02]}, \"field\": \"date\"}, \"y\": {\"type\": \"quantitative\", \"field\": \"count\"}}, \"height\": 300, \"selection\": {\"selector003\": {\"type\": \"single\", \"on\": \"mouseover\", \"fields\": [\"use\"], \"nearest\": true, \"init\": {\"use\": \"agriculture\"}}}, \"width\": 600}, {\"data\": {\"name\": \"data-f5b541980128550febcab59de6944cc7\"}, \"mark\": \"line\", \"encoding\": {\"color\": {\"type\": \"nominal\", \"field\": \"use\"}, \"size\": {\"condition\": {\"value\": 1, \"selection\": {\"not\": \"selector003\"}}, \"value\": 3}, \"tooltip\": [{\"type\": \"quantitative\", \"field\": \"date\"}, {\"type\": \"nominal\", \"field\": \"use\"}, {\"type\": \"quantitative\", \"field\": \"count\"}], \"x\": {\"type\": \"temporal\", \"axis\": {\"format\": \"%Y\", \"title\": \"Year\", \"values\": [0.995, 0.02]}, \"field\": \"date\"}, \"y\": {\"type\": \"quantitative\", \"field\": \"count\"}}}, {\"data\": {\"name\": \"data-fc31ed7477c1557785b92e241be8b9ad\"}, \"mark\": {\"type\": \"rule\", \"color\": \"#000\"}, \"encoding\": {\"x\": {\"type\": \"temporal\", \"field\": \"date\"}}}], \"$schema\": \"https://vega.github.io/schema/vega-lite/v4.8.1.json\", \"datasets\": {\"data-8d673063f9e375b0e36b21ee75781660\": [{\"start\": 1976, \"end\": 1977}, {\"start\": 1987, \"end\": 1992}, {\"start\": 2001, \"end\": 2002}, {\"start\": 2007, \"end\": 2009}, {\"start\": 2012, \"end\": 2016}], \"data-f5b541980128550febcab59de6944cc7\": [{\"date\": 1960.0, \"use\": \"agriculture\", \"count\": 525}, {\"date\": 1960.0, \"use\": \"domestic\", \"count\": 534}, {\"date\": 1960.0, \"use\": \"public\", \"count\": 32}, {\"date\": 1961.0, \"use\": \"agriculture\", \"count\": 754}, {\"date\": 1961.0, \"use\": \"domestic\", \"count\": 855}, {\"date\": 1961.0, \"use\": \"public\", \"count\": 32}, {\"date\": 1962.0, \"use\": \"agriculture\", \"count\": 335}, {\"date\": 1962.0, \"use\": \"domestic\", \"count\": 439}, {\"date\": 1962.0, \"use\": \"public\", \"count\": 25}, {\"date\": 1963.0, \"use\": \"agriculture\", \"count\": 299}, {\"date\": 1963.0, \"use\": \"domestic\", \"count\": 294}, {\"date\": 1963.0, \"use\": \"public\", \"count\": 13}, {\"date\": 1964.0, \"use\": \"agriculture\", \"count\": 300}, {\"date\": 1964.0, \"use\": \"domestic\", \"count\": 386}, {\"date\": 1964.0, \"use\": \"public\", \"count\": 22}, {\"date\": 1965.0, \"use\": \"agriculture\", \"count\": 321}, {\"date\": 1965.0, \"use\": \"domestic\", \"count\": 357}, {\"date\": 1965.0, \"use\": \"public\", \"count\": 23}, {\"date\": 1966.0, \"use\": \"agriculture\", \"count\": 440}, {\"date\": 1966.0, \"use\": \"domestic\", \"count\": 666}, {\"date\": 1966.0, \"use\": \"public\", \"count\": 18}, {\"date\": 1967.0, \"use\": \"agriculture\", \"count\": 247}, {\"date\": 1967.0, \"use\": \"domestic\", \"count\": 426}, {\"date\": 1967.0, \"use\": \"public\", \"count\": 16}, {\"date\": 1968.0, \"use\": \"agriculture\", \"count\": 255}, {\"date\": 1968.0, \"use\": \"domestic\", \"count\": 419}, {\"date\": 1968.0, \"use\": \"public\", \"count\": 14}, {\"date\": 1969.0, \"use\": \"agriculture\", \"count\": 197}, {\"date\": 1969.0, \"use\": \"domestic\", \"count\": 380}, {\"date\": 1969.0, \"use\": \"public\", \"count\": 15}, {\"date\": 1970.0, \"use\": \"agriculture\", \"count\": 239}, {\"date\": 1970.0, \"use\": \"domestic\", \"count\": 419}, {\"date\": 1970.0, \"use\": \"public\", \"count\": 17}, {\"date\": 1971.0, \"use\": \"agriculture\", \"count\": 291}, {\"date\": 1971.0, \"use\": \"domestic\", \"count\": 583}, {\"date\": 1971.0, \"use\": \"public\", \"count\": 17}, {\"date\": 1972.0, \"use\": \"agriculture\", \"count\": 440}, {\"date\": 1972.0, \"use\": \"domestic\", \"count\": 814}, {\"date\": 1972.0, \"use\": \"public\", \"count\": 22}, {\"date\": 1973.0, \"use\": \"agriculture\", \"count\": 461}, {\"date\": 1973.0, \"use\": \"domestic\", \"count\": 754}, {\"date\": 1973.0, \"use\": \"public\", \"count\": 22}, {\"date\": 1974.0, \"use\": \"agriculture\", \"count\": 457}, {\"date\": 1974.0, \"use\": \"domestic\", \"count\": 781}, {\"date\": 1974.0, \"use\": \"public\", \"count\": 13}, {\"date\": 1975.0, \"use\": \"agriculture\", \"count\": 362}, {\"date\": 1975.0, \"use\": \"domestic\", \"count\": 781}, {\"date\": 1975.0, \"use\": \"public\", \"count\": 10}, {\"date\": 1976.0, \"use\": \"agriculture\", \"count\": 841}, {\"date\": 1976.0, \"use\": \"domestic\", \"count\": 1242}, {\"date\": 1976.0, \"use\": \"public\", \"count\": 28}, {\"date\": 1977.0, \"use\": \"agriculture\", \"count\": 2609}, {\"date\": 1977.0, \"use\": \"domestic\", \"count\": 2050}, {\"date\": 1977.0, \"use\": \"public\", \"count\": 19}, {\"date\": 1978.0, \"use\": \"agriculture\", \"count\": 1015}, {\"date\": 1978.0, \"use\": \"domestic\", \"count\": 2020}, {\"date\": 1978.0, \"use\": \"public\", \"count\": 41}, {\"date\": 1979.0, \"use\": \"agriculture\", \"count\": 564}, {\"date\": 1979.0, \"use\": \"domestic\", \"count\": 1527}, {\"date\": 1979.0, \"use\": \"public\", \"count\": 22}, {\"date\": 1980.0, \"use\": \"agriculture\", \"count\": 439}, {\"date\": 1980.0, \"use\": \"domestic\", \"count\": 1086}, {\"date\": 1980.0, \"use\": \"public\", \"count\": 14}, {\"date\": 1981.0, \"use\": \"agriculture\", \"count\": 402}, {\"date\": 1981.0, \"use\": \"domestic\", \"count\": 890}, {\"date\": 1981.0, \"use\": \"public\", \"count\": 17}, {\"date\": 1982.0, \"use\": \"agriculture\", \"count\": 207}, {\"date\": 1982.0, \"use\": \"domestic\", \"count\": 638}, {\"date\": 1982.0, \"use\": \"public\", \"count\": 15}, {\"date\": 1983.0, \"use\": \"agriculture\", \"count\": 123}, {\"date\": 1983.0, \"use\": \"domestic\", \"count\": 821}, {\"date\": 1983.0, \"use\": \"public\", \"count\": 8}, {\"date\": 1984.0, \"use\": \"agriculture\", \"count\": 196}, {\"date\": 1984.0, \"use\": \"domestic\", \"count\": 814}, {\"date\": 1984.0, \"use\": \"public\", \"count\": 25}, {\"date\": 1985.0, \"use\": \"agriculture\", \"count\": 171}, {\"date\": 1985.0, \"use\": \"domestic\", \"count\": 896}, {\"date\": 1985.0, \"use\": \"public\", \"count\": 39}, {\"date\": 1986.0, \"use\": \"agriculture\", \"count\": 124}, {\"date\": 1986.0, \"use\": \"domestic\", \"count\": 1062}, {\"date\": 1986.0, \"use\": \"public\", \"count\": 32}, {\"date\": 1987.0, \"use\": \"agriculture\", \"count\": 284}, {\"date\": 1987.0, \"use\": \"domestic\", \"count\": 1199}, {\"date\": 1987.0, \"use\": \"public\", \"count\": 24}, {\"date\": 1988.0, \"use\": \"agriculture\", \"count\": 427}, {\"date\": 1988.0, \"use\": \"domestic\", \"count\": 1355}, {\"date\": 1988.0, \"use\": \"public\", \"count\": 44}, {\"date\": 1989.0, \"use\": \"agriculture\", \"count\": 451}, {\"date\": 1989.0, \"use\": \"domestic\", \"count\": 1413}, {\"date\": 1989.0, \"use\": \"public\", \"count\": 31}, {\"date\": 1990.0, \"use\": \"agriculture\", \"count\": 656}, {\"date\": 1990.0, \"use\": \"domestic\", \"count\": 1718}, {\"date\": 1990.0, \"use\": \"public\", \"count\": 62}, {\"date\": 1991.0, \"use\": \"agriculture\", \"count\": 1065}, {\"date\": 1991.0, \"use\": \"domestic\", \"count\": 1804}, {\"date\": 1991.0, \"use\": \"public\", \"count\": 76}, {\"date\": 1992.0, \"use\": \"agriculture\", \"count\": 697}, {\"date\": 1992.0, \"use\": \"domestic\", \"count\": 1602}, {\"date\": 1992.0, \"use\": \"public\", \"count\": 77}, {\"date\": 1993.0, \"use\": \"agriculture\", \"count\": 426}, {\"date\": 1993.0, \"use\": \"domestic\", \"count\": 1101}, {\"date\": 1993.0, \"use\": \"public\", \"count\": 71}, {\"date\": 1994.0, \"use\": \"agriculture\", \"count\": 515}, {\"date\": 1994.0, \"use\": \"domestic\", \"count\": 1104}, {\"date\": 1994.0, \"use\": \"public\", \"count\": 66}, {\"date\": 1995.0, \"use\": \"agriculture\", \"count\": 309}, {\"date\": 1995.0, \"use\": \"domestic\", \"count\": 793}, {\"date\": 1995.0, \"use\": \"public\", \"count\": 54}, {\"date\": 1996.0, \"use\": \"agriculture\", \"count\": 283}, {\"date\": 1996.0, \"use\": \"domestic\", \"count\": 769}, {\"date\": 1996.0, \"use\": \"public\", \"count\": 47}, {\"date\": 1997.0, \"use\": \"agriculture\", \"count\": 234}, {\"date\": 1997.0, \"use\": \"domestic\", \"count\": 748}, {\"date\": 1997.0, \"use\": \"public\", \"count\": 50}, {\"date\": 1998.0, \"use\": \"agriculture\", \"count\": 211}, {\"date\": 1998.0, \"use\": \"domestic\", \"count\": 707}, {\"date\": 1998.0, \"use\": \"public\", \"count\": 43}, {\"date\": 1999.0, \"use\": \"agriculture\", \"count\": 233}, {\"date\": 1999.0, \"use\": \"domestic\", \"count\": 860}, {\"date\": 1999.0, \"use\": \"public\", \"count\": 52}, {\"date\": 2000.0, \"use\": \"agriculture\", \"count\": 296}, {\"date\": 2000.0, \"use\": \"domestic\", \"count\": 946}, {\"date\": 2000.0, \"use\": \"public\", \"count\": 56}, {\"date\": 2001.0, \"use\": \"agriculture\", \"count\": 296}, {\"date\": 2001.0, \"use\": \"domestic\", \"count\": 1100}, {\"date\": 2001.0, \"use\": \"public\", \"count\": 64}, {\"date\": 2002.0, \"use\": \"agriculture\", \"count\": 293}, {\"date\": 2002.0, \"use\": \"domestic\", \"count\": 1099}, {\"date\": 2002.0, \"use\": \"public\", \"count\": 43}, {\"date\": 2003.0, \"use\": \"agriculture\", \"count\": 291}, {\"date\": 2003.0, \"use\": \"domestic\", \"count\": 1244}, {\"date\": 2003.0, \"use\": \"public\", \"count\": 57}, {\"date\": 2004.0, \"use\": \"agriculture\", \"count\": 275}, {\"date\": 2004.0, \"use\": \"domestic\", \"count\": 1209}, {\"date\": 2004.0, \"use\": \"public\", \"count\": 85}, {\"date\": 2005.0, \"use\": \"agriculture\", \"count\": 354}, {\"date\": 2005.0, \"use\": \"domestic\", \"count\": 1373}, {\"date\": 2005.0, \"use\": \"public\", \"count\": 84}, {\"date\": 2006.0, \"use\": \"agriculture\", \"count\": 257}, {\"date\": 2006.0, \"use\": \"domestic\", \"count\": 958}, {\"date\": 2006.0, \"use\": \"public\", \"count\": 58}, {\"date\": 2007.0, \"use\": \"agriculture\", \"count\": 508}, {\"date\": 2007.0, \"use\": \"domestic\", \"count\": 1025}, {\"date\": 2007.0, \"use\": \"public\", \"count\": 50}, {\"date\": 2008.0, \"use\": \"agriculture\", \"count\": 602}, {\"date\": 2008.0, \"use\": \"domestic\", \"count\": 840}, {\"date\": 2008.0, \"use\": \"public\", \"count\": 27}, {\"date\": 2009.0, \"use\": \"agriculture\", \"count\": 537}, {\"date\": 2009.0, \"use\": \"domestic\", \"count\": 563}, {\"date\": 2009.0, \"use\": \"public\", \"count\": 28}, {\"date\": 2010.0, \"use\": \"agriculture\", \"count\": 306}, {\"date\": 2010.0, \"use\": \"domestic\", \"count\": 422}, {\"date\": 2010.0, \"use\": \"public\", \"count\": 25}, {\"date\": 2011.0, \"use\": \"agriculture\", \"count\": 313}, {\"date\": 2011.0, \"use\": \"domestic\", \"count\": 352}, {\"date\": 2011.0, \"use\": \"public\", \"count\": 21}, {\"date\": 2012.0, \"use\": \"agriculture\", \"count\": 480}, {\"date\": 2012.0, \"use\": \"domestic\", \"count\": 443}, {\"date\": 2012.0, \"use\": \"public\", \"count\": 22}, {\"date\": 2013.0, \"use\": \"agriculture\", \"count\": 648}, {\"date\": 2013.0, \"use\": \"domestic\", \"count\": 595}, {\"date\": 2013.0, \"use\": \"public\", \"count\": 17}, {\"date\": 2014.0, \"use\": \"agriculture\", \"count\": 1149}, {\"date\": 2014.0, \"use\": \"domestic\", \"count\": 695}, {\"date\": 2014.0, \"use\": \"public\", \"count\": 26}, {\"date\": 2015.0, \"use\": \"agriculture\", \"count\": 1969}, {\"date\": 2015.0, \"use\": \"domestic\", \"count\": 1171}, {\"date\": 2015.0, \"use\": \"public\", \"count\": 69}, {\"date\": 2016.0, \"use\": \"agriculture\", \"count\": 1423}, {\"date\": 2016.0, \"use\": \"domestic\", \"count\": 1487}, {\"date\": 2016.0, \"use\": \"public\", \"count\": 68}, {\"date\": 2017.0, \"use\": \"agriculture\", \"count\": 569}, {\"date\": 2017.0, \"use\": \"domestic\", \"count\": 636}, {\"date\": 2017.0, \"use\": \"public\", \"count\": 23}, {\"date\": 2018.0, \"use\": \"agriculture\", \"count\": 344}, {\"date\": 2018.0, \"use\": \"domestic\", \"count\": 470}, {\"date\": 2018.0, \"use\": \"public\", \"count\": 25}, {\"date\": 2019.0, \"use\": \"agriculture\", \"count\": 469}, {\"date\": 2019.0, \"use\": \"domestic\", \"count\": 681}, {\"date\": 2019.0, \"use\": \"public\", \"count\": 27}, {\"date\": 2020.0, \"use\": \"agriculture\", \"count\": 515}, {\"date\": 2020.0, \"use\": \"domestic\", \"count\": 841}, {\"date\": 2020.0, \"use\": \"public\", \"count\": 29}, {\"date\": 2021.0, \"use\": \"agriculture\", \"count\": 619}, {\"date\": 2021.0, \"use\": \"domestic\", \"count\": 671}, {\"date\": 2021.0, \"use\": \"public\", \"count\": 12}], \"data-fc31ed7477c1557785b92e241be8b9ad\": [{\"year\": 2014, \"title\": \"SGMA passed\"}]}}, {\"mode\": \"vega-lite\"});\n",
       "</script>"
      ],
      "text/plain": [
       "alt.LayerChart(...)"
      ]
     },
     "execution_count": 14,
     "metadata": {},
     "output_type": "execute_result"
    }
   ],
   "source": [
    "drought_years = [\n",
    "    {\"start\": 1976, \"end\": 1977},\n",
    "    {\"start\": 1987, \"end\": 1992},\n",
    "    {\"start\": 2001, \"end\": 2002},\n",
    "    {\"start\": 2007, \"end\": 2009},\n",
    "    {\"start\": 2012, \"end\": 2016},\n",
    "]\n",
    "\n",
    "drought_years = alt.pd.DataFrame(drought_years)\n",
    "\n",
    "sgma_year = [\n",
    "    {\"year\": 2014, \"title\": 'SGMA passed'}\n",
    "]\n",
    "sgma_year = alt.pd.DataFrame(sgma_year)\n",
    "\n",
    "highlight = alt.selection(type='single', \n",
    "                          on='mouseover',\n",
    "                          fields=['use'], \n",
    "                          nearest=True,\n",
    "                          init={'use':'agriculture'})\n",
    "\n",
    "base = alt.Chart(grouped_date_use[grouped_date_use['date'] >= 1960]).encode(\n",
    "    x=alt.X('date:T', axis=alt.Axis(values=[.995,.020], format='%Y', title='Year')),\n",
    "    y='count:Q',\n",
    "    color='use:N',\n",
    "    tooltip=['date', 'use', 'count']\n",
    ")\n",
    "\n",
    "points = base.mark_circle().encode(\n",
    "    opacity=alt.value(0)\n",
    ").add_selection(\n",
    "    highlight\n",
    ").properties(\n",
    "    width=600,\n",
    "    height=300\n",
    ")\n",
    "\n",
    "lines = base.mark_line().encode(\n",
    "    size=alt.condition(~highlight, alt.value(1), alt.value(3))\n",
    ")\n",
    "\n",
    "rect = alt.Chart(drought_years).mark_rect(color=\"#EEE\").encode(\n",
    "    x='start:T',\n",
    "    x2='end:T',\n",
    ")\n",
    "\n",
    "rules = alt.Chart(sgma_year).mark_rule(color=\"#000\").encode(\n",
    "    x='date:T',\n",
    ")\n",
    "\n",
    "rect + points + lines + rules"
   ]
  },
  {
   "cell_type": "markdown",
   "id": "99c2d7fb-07bd-4db7-992a-8558c8c71e0d",
   "metadata": {
    "tags": []
   },
   "source": [
    "## Agriculture well construction by county and year"
   ]
  },
  {
   "cell_type": "code",
   "execution_count": 18,
   "id": "27e5535c-0224-4606-8946-37d2a433e4cc",
   "metadata": {},
   "outputs": [],
   "source": [
    "grouped_year_county = wells[wells['use'] == 'agriculture'].groupby(by=['year_work_ended', 'county']).size().reset_index(name=\"count\")\n",
    "grouped_year_county.rename(columns={'year_work_ended':'year'}, inplace=True)\n",
    "grouped_year_county['year'] = grouped_year_county['year'].astype('int')"
   ]
  },
  {
   "cell_type": "code",
   "execution_count": 19,
   "id": "903e71d7-5219-4732-abe7-edaec4571ac5",
   "metadata": {},
   "outputs": [
    {
     "data": {
      "text/html": [
       "\n",
       "<div id=\"altair-viz-0dec554e61594bd8bb3bcc68057aa04b\"></div>\n",
       "<script type=\"text/javascript\">\n",
       "  (function(spec, embedOpt){\n",
       "    let outputDiv = document.currentScript.previousElementSibling;\n",
       "    if (outputDiv.id !== \"altair-viz-0dec554e61594bd8bb3bcc68057aa04b\") {\n",
       "      outputDiv = document.getElementById(\"altair-viz-0dec554e61594bd8bb3bcc68057aa04b\");\n",
       "    }\n",
       "    const paths = {\n",
       "      \"vega\": \"https://cdn.jsdelivr.net/npm//vega@5?noext\",\n",
       "      \"vega-lib\": \"https://cdn.jsdelivr.net/npm//vega-lib?noext\",\n",
       "      \"vega-lite\": \"https://cdn.jsdelivr.net/npm//vega-lite@4.8.1?noext\",\n",
       "      \"vega-embed\": \"https://cdn.jsdelivr.net/npm//vega-embed@6?noext\",\n",
       "    };\n",
       "\n",
       "    function loadScript(lib) {\n",
       "      return new Promise(function(resolve, reject) {\n",
       "        var s = document.createElement('script');\n",
       "        s.src = paths[lib];\n",
       "        s.async = true;\n",
       "        s.onload = () => resolve(paths[lib]);\n",
       "        s.onerror = () => reject(`Error loading script: ${paths[lib]}`);\n",
       "        document.getElementsByTagName(\"head\")[0].appendChild(s);\n",
       "      });\n",
       "    }\n",
       "\n",
       "    function showError(err) {\n",
       "      outputDiv.innerHTML = `<div class=\"error\" style=\"color:red;\">${err}</div>`;\n",
       "      throw err;\n",
       "    }\n",
       "\n",
       "    function displayChart(vegaEmbed) {\n",
       "      vegaEmbed(outputDiv, spec, embedOpt)\n",
       "        .catch(err => showError(`Javascript Error: ${err.message}<br>This usually means there's a typo in your chart specification. See the javascript console for the full traceback.`));\n",
       "    }\n",
       "\n",
       "    if(typeof define === \"function\" && define.amd) {\n",
       "      requirejs.config({paths});\n",
       "      require([\"vega-embed\"], displayChart, err => showError(`Error loading script: ${err.message}`));\n",
       "    } else if (typeof vegaEmbed === \"function\") {\n",
       "      displayChart(vegaEmbed);\n",
       "    } else {\n",
       "      loadScript(\"vega\")\n",
       "        .then(() => loadScript(\"vega-lite\"))\n",
       "        .then(() => loadScript(\"vega-embed\"))\n",
       "        .catch(showError)\n",
       "        .then(() => displayChart(vegaEmbed));\n",
       "    }\n",
       "  })({\"config\": {\"view\": {\"width\": 800, \"height\": 450}, \"background\": \"#ffffff\", \"title\": {\"anchor\": \"start\", \"font\": \"BentonGothic-Bold, sans\", \"fontColor\": \"#000000\", \"fontSize\": 22, \"fontWeight\": \"normal\"}, \"arc\": {\"fill\": \"#82c6df\"}, \"area\": {\"fill\": \"#82c6df\"}, \"line\": {\"stroke\": \"#82c6df\", \"strokeWidth\": 3}, \"path\": {\"stroke\": \"#82c6df\"}, \"rect\": {\"fill\": \"#82c6df\"}, \"shape\": {\"stroke\": \"#82c6df\"}, \"bar\": {\"fill\": \"#82c6df\"}, \"point\": {\"stroke\": \"#82c6df\"}, \"symbol\": {\"fill\": \"#82c6df\", \"size\": 30}, \"axis\": {\"titleFont\": \"BentonGothic-Bold, sans\", \"titleFontSize\": 14, \"titleFontWeight\": \"normal\", \"labelFont\": \"BentonGothic, sans\", \"labelFontSize\": 12, \"labelFontWeight\": \"normal\"}, \"axisX\": {\"labelAngle\": 0, \"labelPadding\": 4, \"tickSize\": 3}, \"axisY\": {\"labelBaseline\": \"middle\", \"maxExtent\": 45, \"minExtent\": 45, \"tickSize\": 2, \"titleAlign\": \"left\", \"titleAngle\": 0, \"titleX\": -45, \"titleY\": -11}, \"legend\": {\"titleFont\": \"BentonGothic-Bold, sans\", \"titleFontSize\": 14, \"titleFontWeight\": \"normal\", \"symbolType\": \"square\", \"labelFont\": \"BentonGothic, sans\", \"labelFontSize\": 13}, \"range\": {\"category\": [\"#3580b1\", \"#ec8431\", \"#ab7fb4\", \"#c89d29\", \"#adc839\", \"#829eb1\"], \"diverging\": [\"#e68a4f\", \"#f4bb6a\", \"#f9e39c\", \"#dadfe2\", \"#a6b7c6\", \"#849eae\"], \"heatmap\": [\"#fbf2c7\", \"#f9e39c\", \"#f8d36e\", \"#f4bb6a\", \"#e68a4f\", \"#d15a40\", \"#ab4232\"], \"ordinal\": [\"#fbf2c7\", \"#f9e39c\", \"#f8d36e\", \"#f4bb6a\", \"#e68a4f\", \"#d15a40\", \"#ab4232\"], \"ramp\": [\"#fbf2c7\", \"#f9e39c\", \"#f8d36e\", \"#f4bb6a\", \"#e68a4f\", \"#d15a40\", \"#ab4232\"]}}, \"data\": {\"name\": \"data-00c0d38e7b08aa27ad05b2e8e424ba84\"}, \"facet\": {\"type\": \"nominal\", \"field\": \"county\"}, \"spec\": {\"mark\": \"line\", \"encoding\": {\"x\": {\"type\": \"ordinal\", \"field\": \"year\"}, \"y\": {\"type\": \"quantitative\", \"field\": \"count\"}}, \"height\": 160, \"width\": 160}, \"columns\": 4, \"$schema\": \"https://vega.github.io/schema/vega-lite/v4.8.1.json\", \"datasets\": {\"data-00c0d38e7b08aa27ad05b2e8e424ba84\": [{\"year\": 1980, \"county\": \"Fresno\", \"count\": 153}, {\"year\": 1980, \"county\": \"Kern\", \"count\": 42}, {\"year\": 1980, \"county\": \"Kings\", \"count\": 33}, {\"year\": 1980, \"county\": \"Madera\", \"count\": 45}, {\"year\": 1980, \"county\": \"Merced\", \"count\": 38}, {\"year\": 1980, \"county\": \"San Joaquin\", \"count\": 48}, {\"year\": 1980, \"county\": \"Stanislaus\", \"count\": 11}, {\"year\": 1980, \"county\": \"Tulare\", \"count\": 62}, {\"year\": 1981, \"county\": \"Fresno\", \"count\": 121}, {\"year\": 1981, \"county\": \"Kern\", \"count\": 44}, {\"year\": 1981, \"county\": \"Kings\", \"count\": 33}, {\"year\": 1981, \"county\": \"Madera\", \"count\": 56}, {\"year\": 1981, \"county\": \"Merced\", \"count\": 26}, {\"year\": 1981, \"county\": \"San Joaquin\", \"count\": 25}, {\"year\": 1981, \"county\": \"Stanislaus\", \"count\": 9}, {\"year\": 1981, \"county\": \"Tulare\", \"count\": 82}, {\"year\": 1982, \"county\": \"Fresno\", \"count\": 75}, {\"year\": 1982, \"county\": \"Kern\", \"count\": 15}, {\"year\": 1982, \"county\": \"Kings\", \"count\": 14}, {\"year\": 1982, \"county\": \"Madera\", \"count\": 25}, {\"year\": 1982, \"county\": \"Merced\", \"count\": 12}, {\"year\": 1982, \"county\": \"San Joaquin\", \"count\": 15}, {\"year\": 1982, \"county\": \"Stanislaus\", \"count\": 6}, {\"year\": 1982, \"county\": \"Tulare\", \"count\": 43}, {\"year\": 1983, \"county\": \"Fresno\", \"count\": 39}, {\"year\": 1983, \"county\": \"Kern\", \"count\": 8}, {\"year\": 1983, \"county\": \"Kings\", \"count\": 8}, {\"year\": 1983, \"county\": \"Madera\", \"count\": 14}, {\"year\": 1983, \"county\": \"Merced\", \"count\": 18}, {\"year\": 1983, \"county\": \"San Joaquin\", \"count\": 6}, {\"year\": 1983, \"county\": \"Stanislaus\", \"count\": 4}, {\"year\": 1983, \"county\": \"Tulare\", \"count\": 24}, {\"year\": 1984, \"county\": \"Fresno\", \"count\": 60}, {\"year\": 1984, \"county\": \"Kern\", \"count\": 20}, {\"year\": 1984, \"county\": \"Kings\", \"count\": 13}, {\"year\": 1984, \"county\": \"Madera\", \"count\": 16}, {\"year\": 1984, \"county\": \"Merced\", \"count\": 10}, {\"year\": 1984, \"county\": \"San Joaquin\", \"count\": 4}, {\"year\": 1984, \"county\": \"Stanislaus\", \"count\": 3}, {\"year\": 1984, \"county\": \"Tulare\", \"count\": 66}, {\"year\": 1985, \"county\": \"Fresno\", \"count\": 49}, {\"year\": 1985, \"county\": \"Kern\", \"count\": 8}, {\"year\": 1985, \"county\": \"Kings\", \"count\": 15}, {\"year\": 1985, \"county\": \"Madera\", \"count\": 16}, {\"year\": 1985, \"county\": \"Merced\", \"count\": 13}, {\"year\": 1985, \"county\": \"San Joaquin\", \"count\": 13}, {\"year\": 1985, \"county\": \"Stanislaus\", \"count\": 3}, {\"year\": 1985, \"county\": \"Tulare\", \"count\": 49}, {\"year\": 1986, \"county\": \"Fresno\", \"count\": 33}, {\"year\": 1986, \"county\": \"Kern\", \"count\": 9}, {\"year\": 1986, \"county\": \"Kings\", \"count\": 15}, {\"year\": 1986, \"county\": \"Madera\", \"count\": 7}, {\"year\": 1986, \"county\": \"Merced\", \"count\": 10}, {\"year\": 1986, \"county\": \"San Joaquin\", \"count\": 9}, {\"year\": 1986, \"county\": \"Stanislaus\", \"count\": 4}, {\"year\": 1986, \"county\": \"Tulare\", \"count\": 32}, {\"year\": 1987, \"county\": \"Fresno\", \"count\": 81}, {\"year\": 1987, \"county\": \"Kern\", \"count\": 20}, {\"year\": 1987, \"county\": \"Kings\", \"count\": 23}, {\"year\": 1987, \"county\": \"Madera\", \"count\": 22}, {\"year\": 1987, \"county\": \"Merced\", \"count\": 23}, {\"year\": 1987, \"county\": \"San Joaquin\", \"count\": 21}, {\"year\": 1987, \"county\": \"Stanislaus\", \"count\": 9}, {\"year\": 1987, \"county\": \"Tulare\", \"count\": 75}, {\"year\": 1988, \"county\": \"Fresno\", \"count\": 105}, {\"year\": 1988, \"county\": \"Kern\", \"count\": 42}, {\"year\": 1988, \"county\": \"Kings\", \"count\": 36}, {\"year\": 1988, \"county\": \"Madera\", \"count\": 32}, {\"year\": 1988, \"county\": \"Merced\", \"count\": 37}, {\"year\": 1988, \"county\": \"San Joaquin\", \"count\": 35}, {\"year\": 1988, \"county\": \"Stanislaus\", \"count\": 34}, {\"year\": 1988, \"county\": \"Tulare\", \"count\": 96}, {\"year\": 1989, \"county\": \"Fresno\", \"count\": 137}, {\"year\": 1989, \"county\": \"Kern\", \"count\": 21}, {\"year\": 1989, \"county\": \"Kings\", \"count\": 37}, {\"year\": 1989, \"county\": \"Madera\", \"count\": 29}, {\"year\": 1989, \"county\": \"Merced\", \"count\": 57}, {\"year\": 1989, \"county\": \"San Joaquin\", \"count\": 33}, {\"year\": 1989, \"county\": \"Stanislaus\", \"count\": 20}, {\"year\": 1989, \"county\": \"Tulare\", \"count\": 102}, {\"year\": 1990, \"county\": \"Fresno\", \"count\": 198}, {\"year\": 1990, \"county\": \"Kern\", \"count\": 55}, {\"year\": 1990, \"county\": \"Kings\", \"count\": 81}, {\"year\": 1990, \"county\": \"Madera\", \"count\": 44}, {\"year\": 1990, \"county\": \"Merced\", \"count\": 65}, {\"year\": 1990, \"county\": \"San Joaquin\", \"count\": 37}, {\"year\": 1990, \"county\": \"Stanislaus\", \"count\": 17}, {\"year\": 1990, \"county\": \"Tulare\", \"count\": 150}, {\"year\": 1991, \"county\": \"Fresno\", \"count\": 286}, {\"year\": 1991, \"county\": \"Kern\", \"count\": 92}, {\"year\": 1991, \"county\": \"Kings\", \"count\": 91}, {\"year\": 1991, \"county\": \"Madera\", \"count\": 43}, {\"year\": 1991, \"county\": \"Merced\", \"count\": 118}, {\"year\": 1991, \"county\": \"San Joaquin\", \"count\": 37}, {\"year\": 1991, \"county\": \"Stanislaus\", \"count\": 41}, {\"year\": 1991, \"county\": \"Tulare\", \"count\": 340}, {\"year\": 1992, \"county\": \"Fresno\", \"count\": 182}, {\"year\": 1992, \"county\": \"Kern\", \"count\": 34}, {\"year\": 1992, \"county\": \"Kings\", \"count\": 92}, {\"year\": 1992, \"county\": \"Madera\", \"count\": 48}, {\"year\": 1992, \"county\": \"Merced\", \"count\": 43}, {\"year\": 1992, \"county\": \"San Joaquin\", \"count\": 35}, {\"year\": 1992, \"county\": \"Stanislaus\", \"count\": 31}, {\"year\": 1992, \"county\": \"Tulare\", \"count\": 223}, {\"year\": 1993, \"county\": \"Fresno\", \"count\": 99}, {\"year\": 1993, \"county\": \"Kern\", \"count\": 30}, {\"year\": 1993, \"county\": \"Kings\", \"count\": 32}, {\"year\": 1993, \"county\": \"Madera\", \"count\": 28}, {\"year\": 1993, \"county\": \"Merced\", \"count\": 34}, {\"year\": 1993, \"county\": \"San Joaquin\", \"count\": 43}, {\"year\": 1993, \"county\": \"Stanislaus\", \"count\": 28}, {\"year\": 1993, \"county\": \"Tulare\", \"count\": 119}, {\"year\": 1994, \"county\": \"Fresno\", \"count\": 133}, {\"year\": 1994, \"county\": \"Kern\", \"count\": 50}, {\"year\": 1994, \"county\": \"Kings\", \"count\": 56}, {\"year\": 1994, \"county\": \"Madera\", \"count\": 39}, {\"year\": 1994, \"county\": \"Merced\", \"count\": 39}, {\"year\": 1994, \"county\": \"San Joaquin\", \"count\": 38}, {\"year\": 1994, \"county\": \"Stanislaus\", \"count\": 43}, {\"year\": 1994, \"county\": \"Tulare\", \"count\": 110}, {\"year\": 1995, \"county\": \"Fresno\", \"count\": 70}, {\"year\": 1995, \"county\": \"Kern\", \"count\": 29}, {\"year\": 1995, \"county\": \"Kings\", \"count\": 26}, {\"year\": 1995, \"county\": \"Madera\", \"count\": 30}, {\"year\": 1995, \"county\": \"Merced\", \"count\": 28}, {\"year\": 1995, \"county\": \"San Joaquin\", \"count\": 31}, {\"year\": 1995, \"county\": \"Stanislaus\", \"count\": 35}, {\"year\": 1995, \"county\": \"Tulare\", \"count\": 52}, {\"year\": 1996, \"county\": \"Fresno\", \"count\": 64}, {\"year\": 1996, \"county\": \"Kern\", \"count\": 26}, {\"year\": 1996, \"county\": \"Kings\", \"count\": 16}, {\"year\": 1996, \"county\": \"Madera\", \"count\": 20}, {\"year\": 1996, \"county\": \"Merced\", \"count\": 25}, {\"year\": 1996, \"county\": \"San Joaquin\", \"count\": 33}, {\"year\": 1996, \"county\": \"Stanislaus\", \"count\": 34}, {\"year\": 1996, \"county\": \"Tulare\", \"count\": 52}, {\"year\": 1997, \"county\": \"Fresno\", \"count\": 47}, {\"year\": 1997, \"county\": \"Kern\", \"count\": 16}, {\"year\": 1997, \"county\": \"Kings\", \"count\": 11}, {\"year\": 1997, \"county\": \"Madera\", \"count\": 29}, {\"year\": 1997, \"county\": \"Merced\", \"count\": 17}, {\"year\": 1997, \"county\": \"San Joaquin\", \"count\": 36}, {\"year\": 1997, \"county\": \"Stanislaus\", \"count\": 22}, {\"year\": 1997, \"county\": \"Tulare\", \"count\": 45}, {\"year\": 1998, \"county\": \"Fresno\", \"count\": 49}, {\"year\": 1998, \"county\": \"Kern\", \"count\": 13}, {\"year\": 1998, \"county\": \"Kings\", \"count\": 13}, {\"year\": 1998, \"county\": \"Madera\", \"count\": 23}, {\"year\": 1998, \"county\": \"Merced\", \"count\": 18}, {\"year\": 1998, \"county\": \"San Joaquin\", \"count\": 25}, {\"year\": 1998, \"county\": \"Stanislaus\", \"count\": 23}, {\"year\": 1998, \"county\": \"Tulare\", \"count\": 42}, {\"year\": 1999, \"county\": \"Fresno\", \"count\": 47}, {\"year\": 1999, \"county\": \"Kern\", \"count\": 23}, {\"year\": 1999, \"county\": \"Kings\", \"count\": 17}, {\"year\": 1999, \"county\": \"Madera\", \"count\": 24}, {\"year\": 1999, \"county\": \"Merced\", \"count\": 25}, {\"year\": 1999, \"county\": \"San Joaquin\", \"count\": 27}, {\"year\": 1999, \"county\": \"Stanislaus\", \"count\": 19}, {\"year\": 1999, \"county\": \"Tulare\", \"count\": 48}, {\"year\": 2000, \"county\": \"Fresno\", \"count\": 71}, {\"year\": 2000, \"county\": \"Kern\", \"count\": 61}, {\"year\": 2000, \"county\": \"Kings\", \"count\": 33}, {\"year\": 2000, \"county\": \"Madera\", \"count\": 19}, {\"year\": 2000, \"county\": \"Merced\", \"count\": 24}, {\"year\": 2000, \"county\": \"San Joaquin\", \"count\": 14}, {\"year\": 2000, \"county\": \"Stanislaus\", \"count\": 28}, {\"year\": 2000, \"county\": \"Tulare\", \"count\": 45}, {\"year\": 2001, \"county\": \"Fresno\", \"count\": 56}, {\"year\": 2001, \"county\": \"Kern\", \"count\": 47}, {\"year\": 2001, \"county\": \"Kings\", \"count\": 41}, {\"year\": 2001, \"county\": \"Madera\", \"count\": 17}, {\"year\": 2001, \"county\": \"Merced\", \"count\": 22}, {\"year\": 2001, \"county\": \"San Joaquin\", \"count\": 25}, {\"year\": 2001, \"county\": \"Stanislaus\", \"count\": 14}, {\"year\": 2001, \"county\": \"Tulare\", \"count\": 65}, {\"year\": 2002, \"county\": \"Fresno\", \"count\": 49}, {\"year\": 2002, \"county\": \"Kern\", \"count\": 25}, {\"year\": 2002, \"county\": \"Kings\", \"count\": 52}, {\"year\": 2002, \"county\": \"Madera\", \"count\": 18}, {\"year\": 2002, \"county\": \"Merced\", \"count\": 25}, {\"year\": 2002, \"county\": \"San Joaquin\", \"count\": 18}, {\"year\": 2002, \"county\": \"Stanislaus\", \"count\": 22}, {\"year\": 2002, \"county\": \"Tulare\", \"count\": 77}, {\"year\": 2003, \"county\": \"Fresno\", \"count\": 39}, {\"year\": 2003, \"county\": \"Kern\", \"count\": 25}, {\"year\": 2003, \"county\": \"Kings\", \"count\": 52}, {\"year\": 2003, \"county\": \"Madera\", \"count\": 30}, {\"year\": 2003, \"county\": \"Merced\", \"count\": 41}, {\"year\": 2003, \"county\": \"San Joaquin\", \"count\": 17}, {\"year\": 2003, \"county\": \"Stanislaus\", \"count\": 21}, {\"year\": 2003, \"county\": \"Tulare\", \"count\": 60}, {\"year\": 2004, \"county\": \"Fresno\", \"count\": 46}, {\"year\": 2004, \"county\": \"Kern\", \"count\": 35}, {\"year\": 2004, \"county\": \"Kings\", \"count\": 39}, {\"year\": 2004, \"county\": \"Madera\", \"count\": 29}, {\"year\": 2004, \"county\": \"Merced\", \"count\": 25}, {\"year\": 2004, \"county\": \"San Joaquin\", \"count\": 23}, {\"year\": 2004, \"county\": \"Stanislaus\", \"count\": 16}, {\"year\": 2004, \"county\": \"Tulare\", \"count\": 51}, {\"year\": 2005, \"county\": \"Fresno\", \"count\": 51}, {\"year\": 2005, \"county\": \"Kern\", \"count\": 29}, {\"year\": 2005, \"county\": \"Kings\", \"count\": 36}, {\"year\": 2005, \"county\": \"Madera\", \"count\": 51}, {\"year\": 2005, \"county\": \"Merced\", \"count\": 40}, {\"year\": 2005, \"county\": \"San Joaquin\", \"count\": 14}, {\"year\": 2005, \"county\": \"Stanislaus\", \"count\": 29}, {\"year\": 2005, \"county\": \"Tulare\", \"count\": 95}, {\"year\": 2006, \"county\": \"Fresno\", \"count\": 58}, {\"year\": 2006, \"county\": \"Kern\", \"count\": 39}, {\"year\": 2006, \"county\": \"Kings\", \"count\": 29}, {\"year\": 2006, \"county\": \"Madera\", \"count\": 32}, {\"year\": 2006, \"county\": \"Merced\", \"count\": 5}, {\"year\": 2006, \"county\": \"San Joaquin\", \"count\": 30}, {\"year\": 2006, \"county\": \"Stanislaus\", \"count\": 13}, {\"year\": 2006, \"county\": \"Tulare\", \"count\": 41}, {\"year\": 2007, \"county\": \"Fresno\", \"count\": 103}, {\"year\": 2007, \"county\": \"Kern\", \"count\": 36}, {\"year\": 2007, \"county\": \"Kings\", \"count\": 35}, {\"year\": 2007, \"county\": \"Madera\", \"count\": 38}, {\"year\": 2007, \"county\": \"Merced\", \"count\": 56}, {\"year\": 2007, \"county\": \"San Joaquin\", \"count\": 26}, {\"year\": 2007, \"county\": \"Stanislaus\", \"count\": 46}, {\"year\": 2007, \"county\": \"Tulare\", \"count\": 155}, {\"year\": 2008, \"county\": \"Fresno\", \"count\": 114}, {\"year\": 2008, \"county\": \"Kern\", \"count\": 62}, {\"year\": 2008, \"county\": \"Kings\", \"count\": 51}, {\"year\": 2008, \"county\": \"Madera\", \"count\": 59}, {\"year\": 2008, \"county\": \"Merced\", \"count\": 85}, {\"year\": 2008, \"county\": \"San Joaquin\", \"count\": 25}, {\"year\": 2008, \"county\": \"Stanislaus\", \"count\": 62}, {\"year\": 2008, \"county\": \"Tulare\", \"count\": 135}, {\"year\": 2009, \"county\": \"Fresno\", \"count\": 83}, {\"year\": 2009, \"county\": \"Kern\", \"count\": 46}, {\"year\": 2009, \"county\": \"Kings\", \"count\": 66}, {\"year\": 2009, \"county\": \"Madera\", \"count\": 49}, {\"year\": 2009, \"county\": \"Merced\", \"count\": 85}, {\"year\": 2009, \"county\": \"San Joaquin\", \"count\": 31}, {\"year\": 2009, \"county\": \"Stanislaus\", \"count\": 56}, {\"year\": 2009, \"county\": \"Tulare\", \"count\": 112}, {\"year\": 2010, \"county\": \"Fresno\", \"count\": 48}, {\"year\": 2010, \"county\": \"Kern\", \"count\": 25}, {\"year\": 2010, \"county\": \"Kings\", \"count\": 32}, {\"year\": 2010, \"county\": \"Madera\", \"count\": 33}, {\"year\": 2010, \"county\": \"Merced\", \"count\": 32}, {\"year\": 2010, \"county\": \"San Joaquin\", \"count\": 29}, {\"year\": 2010, \"county\": \"Stanislaus\", \"count\": 38}, {\"year\": 2010, \"county\": \"Tulare\", \"count\": 62}, {\"year\": 2011, \"county\": \"Fresno\", \"count\": 51}, {\"year\": 2011, \"county\": \"Kern\", \"count\": 25}, {\"year\": 2011, \"county\": \"Kings\", \"count\": 29}, {\"year\": 2011, \"county\": \"Madera\", \"count\": 42}, {\"year\": 2011, \"county\": \"Merced\", \"count\": 28}, {\"year\": 2011, \"county\": \"San Joaquin\", \"count\": 21}, {\"year\": 2011, \"county\": \"Stanislaus\", \"count\": 53}, {\"year\": 2011, \"county\": \"Tulare\", \"count\": 53}, {\"year\": 2012, \"county\": \"Fresno\", \"count\": 89}, {\"year\": 2012, \"county\": \"Kern\", \"count\": 40}, {\"year\": 2012, \"county\": \"Kings\", \"count\": 28}, {\"year\": 2012, \"county\": \"Madera\", \"count\": 44}, {\"year\": 2012, \"county\": \"Merced\", \"count\": 46}, {\"year\": 2012, \"county\": \"San Joaquin\", \"count\": 54}, {\"year\": 2012, \"county\": \"Stanislaus\", \"count\": 73}, {\"year\": 2012, \"county\": \"Tulare\", \"count\": 101}, {\"year\": 2013, \"county\": \"Fresno\", \"count\": 137}, {\"year\": 2013, \"county\": \"Kern\", \"count\": 59}, {\"year\": 2013, \"county\": \"Kings\", \"count\": 71}, {\"year\": 2013, \"county\": \"Madera\", \"count\": 49}, {\"year\": 2013, \"county\": \"Merced\", \"count\": 76}, {\"year\": 2013, \"county\": \"San Joaquin\", \"count\": 42}, {\"year\": 2013, \"county\": \"Stanislaus\", \"count\": 90}, {\"year\": 2013, \"county\": \"Tulare\", \"count\": 121}, {\"year\": 2014, \"county\": \"Fresno\", \"count\": 254}, {\"year\": 2014, \"county\": \"Kern\", \"count\": 99}, {\"year\": 2014, \"county\": \"Kings\", \"count\": 88}, {\"year\": 2014, \"county\": \"Madera\", \"count\": 95}, {\"year\": 2014, \"county\": \"Merced\", \"count\": 137}, {\"year\": 2014, \"county\": \"San Joaquin\", \"count\": 55}, {\"year\": 2014, \"county\": \"Stanislaus\", \"count\": 118}, {\"year\": 2014, \"county\": \"Tulare\", \"count\": 290}, {\"year\": 2015, \"county\": \"Fresno\", \"count\": 398}, {\"year\": 2015, \"county\": \"Kern\", \"count\": 168}, {\"year\": 2015, \"county\": \"Kings\", \"count\": 130}, {\"year\": 2015, \"county\": \"Madera\", \"count\": 116}, {\"year\": 2015, \"county\": \"Merced\", \"count\": 268}, {\"year\": 2015, \"county\": \"San Joaquin\", \"count\": 93}, {\"year\": 2015, \"county\": \"Stanislaus\", \"count\": 131}, {\"year\": 2015, \"county\": \"Tulare\", \"count\": 652}, {\"year\": 2016, \"county\": \"Fresno\", \"count\": 334}, {\"year\": 2016, \"county\": \"Kern\", \"count\": 177}, {\"year\": 2016, \"county\": \"Kings\", \"count\": 116}, {\"year\": 2016, \"county\": \"Madera\", \"count\": 91}, {\"year\": 2016, \"county\": \"Merced\", \"count\": 164}, {\"year\": 2016, \"county\": \"San Joaquin\", \"count\": 81}, {\"year\": 2016, \"county\": \"Stanislaus\", \"count\": 118}, {\"year\": 2016, \"county\": \"Tulare\", \"count\": 336}, {\"year\": 2017, \"county\": \"Fresno\", \"count\": 114}, {\"year\": 2017, \"county\": \"Kern\", \"count\": 69}, {\"year\": 2017, \"county\": \"Kings\", \"count\": 38}, {\"year\": 2017, \"county\": \"Madera\", \"count\": 55}, {\"year\": 2017, \"county\": \"Merced\", \"count\": 48}, {\"year\": 2017, \"county\": \"San Joaquin\", \"count\": 12}, {\"year\": 2017, \"county\": \"Stanislaus\", \"count\": 65}, {\"year\": 2017, \"county\": \"Tulare\", \"count\": 166}, {\"year\": 2018, \"county\": \"Fresno\", \"count\": 64}, {\"year\": 2018, \"county\": \"Kern\", \"count\": 48}, {\"year\": 2018, \"county\": \"Kings\", \"count\": 39}, {\"year\": 2018, \"county\": \"Madera\", \"count\": 33}, {\"year\": 2018, \"county\": \"Merced\", \"count\": 21}, {\"year\": 2018, \"county\": \"San Joaquin\", \"count\": 32}, {\"year\": 2018, \"county\": \"Stanislaus\", \"count\": 9}, {\"year\": 2018, \"county\": \"Tulare\", \"count\": 90}, {\"year\": 2019, \"county\": \"Fresno\", \"count\": 95}, {\"year\": 2019, \"county\": \"Kern\", \"count\": 58}, {\"year\": 2019, \"county\": \"Kings\", \"count\": 43}, {\"year\": 2019, \"county\": \"Madera\", \"count\": 32}, {\"year\": 2019, \"county\": \"Merced\", \"count\": 27}, {\"year\": 2019, \"county\": \"San Joaquin\", \"count\": 25}, {\"year\": 2019, \"county\": \"Stanislaus\", \"count\": 24}, {\"year\": 2019, \"county\": \"Tulare\", \"count\": 158}, {\"year\": 2020, \"county\": \"Fresno\", \"count\": 129}, {\"year\": 2020, \"county\": \"Kern\", \"count\": 33}, {\"year\": 2020, \"county\": \"Kings\", \"count\": 57}, {\"year\": 2020, \"county\": \"Madera\", \"count\": 32}, {\"year\": 2020, \"county\": \"Merced\", \"count\": 40}, {\"year\": 2020, \"county\": \"San Joaquin\", \"count\": 23}, {\"year\": 2020, \"county\": \"Stanislaus\", \"count\": 34}, {\"year\": 2020, \"county\": \"Tulare\", \"count\": 160}, {\"year\": 2021, \"county\": \"Fresno\", \"count\": 179}, {\"year\": 2021, \"county\": \"Kern\", \"count\": 60}, {\"year\": 2021, \"county\": \"Kings\", \"count\": 39}, {\"year\": 2021, \"county\": \"Madera\", \"count\": 35}, {\"year\": 2021, \"county\": \"Merced\", \"count\": 32}, {\"year\": 2021, \"county\": \"San Joaquin\", \"count\": 9}, {\"year\": 2021, \"county\": \"Stanislaus\", \"count\": 17}, {\"year\": 2021, \"county\": \"Tulare\", \"count\": 243}]}}, {\"mode\": \"vega-lite\"});\n",
       "</script>"
      ],
      "text/plain": [
       "alt.FacetChart(...)"
      ]
     },
     "execution_count": 19,
     "metadata": {},
     "output_type": "execute_result"
    }
   ],
   "source": [
    "alt.Chart(grouped_year_county[(grouped_year_county['year'] >= 1980) & \n",
    "                              (grouped_year_county['county'].isin(main_counties))]).mark_line().encode(\n",
    "    x='year:O',\n",
    "    y='count:Q',\n",
    ").properties(\n",
    "    width=160,\n",
    "    height=160\n",
    ").facet(\n",
    "    facet='county:N',\n",
    "    columns=4\n",
    ")"
   ]
  },
  {
   "cell_type": "markdown",
   "id": "8c54fe1b-e544-43bf-b68d-b574c5cb37d4",
   "metadata": {},
   "source": [
    "## 2021 agriculture well drilling by county"
   ]
  },
  {
   "cell_type": "code",
   "execution_count": 20,
   "id": "3781da07-8cf3-41f7-b884-54db3584606e",
   "metadata": {},
   "outputs": [
    {
     "data": {
      "text/html": [
       "<div>\n",
       "<style scoped>\n",
       "    .dataframe tbody tr th:only-of-type {\n",
       "        vertical-align: middle;\n",
       "    }\n",
       "\n",
       "    .dataframe tbody tr th {\n",
       "        vertical-align: top;\n",
       "    }\n",
       "\n",
       "    .dataframe thead th {\n",
       "        text-align: right;\n",
       "    }\n",
       "</style>\n",
       "<table border=\"1\" class=\"dataframe\">\n",
       "  <thead>\n",
       "    <tr style=\"text-align: right;\">\n",
       "      <th></th>\n",
       "      <th>year</th>\n",
       "      <th>county</th>\n",
       "      <th>count</th>\n",
       "    </tr>\n",
       "  </thead>\n",
       "  <tbody>\n",
       "    <tr>\n",
       "      <th>765</th>\n",
       "      <td>2021</td>\n",
       "      <td>Fresno</td>\n",
       "      <td>179</td>\n",
       "    </tr>\n",
       "    <tr>\n",
       "      <th>766</th>\n",
       "      <td>2021</td>\n",
       "      <td>Kern</td>\n",
       "      <td>60</td>\n",
       "    </tr>\n",
       "    <tr>\n",
       "      <th>767</th>\n",
       "      <td>2021</td>\n",
       "      <td>Kings</td>\n",
       "      <td>39</td>\n",
       "    </tr>\n",
       "    <tr>\n",
       "      <th>768</th>\n",
       "      <td>2021</td>\n",
       "      <td>Madera</td>\n",
       "      <td>35</td>\n",
       "    </tr>\n",
       "    <tr>\n",
       "      <th>769</th>\n",
       "      <td>2021</td>\n",
       "      <td>Merced</td>\n",
       "      <td>32</td>\n",
       "    </tr>\n",
       "    <tr>\n",
       "      <th>771</th>\n",
       "      <td>2021</td>\n",
       "      <td>San Joaquin</td>\n",
       "      <td>9</td>\n",
       "    </tr>\n",
       "    <tr>\n",
       "      <th>772</th>\n",
       "      <td>2021</td>\n",
       "      <td>Stanislaus</td>\n",
       "      <td>17</td>\n",
       "    </tr>\n",
       "    <tr>\n",
       "      <th>773</th>\n",
       "      <td>2021</td>\n",
       "      <td>Tulare</td>\n",
       "      <td>243</td>\n",
       "    </tr>\n",
       "  </tbody>\n",
       "</table>\n",
       "</div>"
      ],
      "text/plain": [
       "     year       county  count\n",
       "765  2021       Fresno    179\n",
       "766  2021         Kern     60\n",
       "767  2021        Kings     39\n",
       "768  2021       Madera     35\n",
       "769  2021       Merced     32\n",
       "771  2021  San Joaquin      9\n",
       "772  2021   Stanislaus     17\n",
       "773  2021       Tulare    243"
      ]
     },
     "execution_count": 20,
     "metadata": {},
     "output_type": "execute_result"
    }
   ],
   "source": [
    "grouped_year_county[(grouped_year_county['county'].isin(main_counties)) & (grouped_year_county['year'] == 2021)]"
   ]
  },
  {
   "cell_type": "markdown",
   "id": "b2a6c579-96de-406c-9910-89bcba5c052f",
   "metadata": {},
   "source": [
    "## Percent of 2021 agriculture drilling in Tulare County"
   ]
  },
  {
   "cell_type": "code",
   "execution_count": 21,
   "id": "a5009726-87f2-4695-a36d-c16442463af4",
   "metadata": {},
   "outputs": [
    {
     "data": {
      "text/plain": [
       "0.3925686591276252"
      ]
     },
     "execution_count": 21,
     "metadata": {},
     "output_type": "execute_result"
    }
   ],
   "source": [
    "drilling_2021 = grouped_year_county[grouped_year_county['year'] == 2021]['count'].sum()\n",
    "drilling_2021_tulare = grouped_year_county[(grouped_year_county['year'] == 2021) & (grouped_year_county['county'] == 'Tulare')]['count'].sum()\n",
    "drilling_2021_tulare / drilling_2021"
   ]
  },
  {
   "cell_type": "markdown",
   "id": "938b1222-2733-4468-b493-650a88a76e19",
   "metadata": {
    "tags": []
   },
   "source": [
    "## Wells completed since 2014"
   ]
  },
  {
   "cell_type": "code",
   "execution_count": 22,
   "id": "7c50bea5-a538-4afc-a4e8-3e844c68fa10",
   "metadata": {},
   "outputs": [
    {
     "data": {
      "text/html": [
       "<div>\n",
       "<style scoped>\n",
       "    .dataframe tbody tr th:only-of-type {\n",
       "        vertical-align: middle;\n",
       "    }\n",
       "\n",
       "    .dataframe tbody tr th {\n",
       "        vertical-align: top;\n",
       "    }\n",
       "\n",
       "    .dataframe thead th {\n",
       "        text-align: right;\n",
       "    }\n",
       "</style>\n",
       "<table border=\"1\" class=\"dataframe\">\n",
       "  <thead>\n",
       "    <tr style=\"text-align: right;\">\n",
       "      <th></th>\n",
       "      <th>use</th>\n",
       "      <th>count</th>\n",
       "    </tr>\n",
       "  </thead>\n",
       "  <tbody>\n",
       "    <tr>\n",
       "      <th>0</th>\n",
       "      <td>agriculture</td>\n",
       "      <td>7057</td>\n",
       "    </tr>\n",
       "    <tr>\n",
       "      <th>1</th>\n",
       "      <td>domestic</td>\n",
       "      <td>6652</td>\n",
       "    </tr>\n",
       "    <tr>\n",
       "      <th>2</th>\n",
       "      <td>public</td>\n",
       "      <td>279</td>\n",
       "    </tr>\n",
       "  </tbody>\n",
       "</table>\n",
       "</div>"
      ],
      "text/plain": [
       "           use  count\n",
       "0  agriculture   7057\n",
       "1     domestic   6652\n",
       "2       public    279"
      ]
     },
     "execution_count": 22,
     "metadata": {},
     "output_type": "execute_result"
    }
   ],
   "source": [
    "grouped_use_2014 = wells[wells['year_work_ended'] >= 2014].groupby(['use']).agg({\n",
    "    'wcr_no': ['count'],\n",
    "}).reset_index()\n",
    "grouped_use_2014.columns = [\"use\",\"count\"]\n",
    "grouped_use_2014"
   ]
  },
  {
   "cell_type": "markdown",
   "id": "edc02e67-661d-4372-a7c7-8bb8097f059d",
   "metadata": {
    "tags": []
   },
   "source": [
    "## Wells completed since 2020"
   ]
  },
  {
   "cell_type": "code",
   "execution_count": 23,
   "id": "d233c75c-1d97-4ea6-8c1b-f584761c810e",
   "metadata": {},
   "outputs": [
    {
     "data": {
      "text/html": [
       "<div>\n",
       "<style scoped>\n",
       "    .dataframe tbody tr th:only-of-type {\n",
       "        vertical-align: middle;\n",
       "    }\n",
       "\n",
       "    .dataframe tbody tr th {\n",
       "        vertical-align: top;\n",
       "    }\n",
       "\n",
       "    .dataframe thead th {\n",
       "        text-align: right;\n",
       "    }\n",
       "</style>\n",
       "<table border=\"1\" class=\"dataframe\">\n",
       "  <thead>\n",
       "    <tr style=\"text-align: right;\">\n",
       "      <th></th>\n",
       "      <th>use</th>\n",
       "      <th>count</th>\n",
       "    </tr>\n",
       "  </thead>\n",
       "  <tbody>\n",
       "    <tr>\n",
       "      <th>0</th>\n",
       "      <td>agriculture</td>\n",
       "      <td>1134</td>\n",
       "    </tr>\n",
       "    <tr>\n",
       "      <th>1</th>\n",
       "      <td>domestic</td>\n",
       "      <td>1512</td>\n",
       "    </tr>\n",
       "    <tr>\n",
       "      <th>2</th>\n",
       "      <td>public</td>\n",
       "      <td>41</td>\n",
       "    </tr>\n",
       "  </tbody>\n",
       "</table>\n",
       "</div>"
      ],
      "text/plain": [
       "           use  count\n",
       "0  agriculture   1134\n",
       "1     domestic   1512\n",
       "2       public     41"
      ]
     },
     "execution_count": 23,
     "metadata": {},
     "output_type": "execute_result"
    }
   ],
   "source": [
    "grouped_use_2020 = wells[wells['year_work_ended'] >= 2020].groupby(['use']).agg({\n",
    "    'wcr_no': ['count'],\n",
    "}).reset_index()\n",
    "grouped_use_2020.columns = [\"use\",\"count\"]\n",
    "grouped_use_2020"
   ]
  },
  {
   "cell_type": "code",
   "execution_count": 370,
   "id": "06ddcaf8-e25d-4b95-a5ed-acfc1359e600",
   "metadata": {},
   "outputs": [],
   "source": [
    "grouped_date_use_pivot['Agriculture_Cum'] = grouped_date_use_pivot['agriculture'].cumsum()\n",
    "grouped_date_use_pivot['Domestic_Cum'] = grouped_date_use_pivot['domestic'].cumsum()\n",
    "grouped_date_use_pivot['Public_Cum'] = grouped_date_use_pivot['public'].cumsum()\n",
    "grouped_date_use_pivot['Agriculture_Active'] = grouped_date_use_pivot['agriculture'].rolling(50).sum()\n",
    "grouped_date_use_pivot['Domestic_Active'] = grouped_date_use_pivot['domestic'].rolling(50).sum()\n",
    "grouped_date_use_pivot['Public_Active'] = grouped_date_use_pivot['public'].rolling(50).sum()\n",
    "grouped_date_use_pivot['Agriculture_Active'].fillna(grouped_date_use_pivot['Agriculture_Cum'], inplace=True)\n",
    "grouped_date_use_pivot['Domestic_Active'].fillna(grouped_date_use_pivot['Domestic_Cum'], inplace=True)\n",
    "grouped_date_use_pivot['Public_Active'].fillna(grouped_date_use_pivot['Public_Cum'], inplace=True)"
   ]
  },
  {
   "cell_type": "code",
   "execution_count": 371,
   "id": "924e06ae-48df-4914-89bc-30ce4d86f4cc",
   "metadata": {},
   "outputs": [
    {
     "data": {
      "text/html": [
       "<div>\n",
       "<style scoped>\n",
       "    .dataframe tbody tr th:only-of-type {\n",
       "        vertical-align: middle;\n",
       "    }\n",
       "\n",
       "    .dataframe tbody tr th {\n",
       "        vertical-align: top;\n",
       "    }\n",
       "\n",
       "    .dataframe thead th {\n",
       "        text-align: right;\n",
       "    }\n",
       "</style>\n",
       "<table border=\"1\" class=\"dataframe\">\n",
       "  <thead>\n",
       "    <tr style=\"text-align: right;\">\n",
       "      <th>use</th>\n",
       "      <th>date</th>\n",
       "      <th>agriculture</th>\n",
       "      <th>domestic</th>\n",
       "      <th>public</th>\n",
       "      <th>Agriculture_Cum</th>\n",
       "      <th>Domestic_Cum</th>\n",
       "      <th>Public_Cum</th>\n",
       "      <th>Agriculture_Active</th>\n",
       "      <th>Domestic_Active</th>\n",
       "      <th>Public_Active</th>\n",
       "    </tr>\n",
       "  </thead>\n",
       "  <tbody>\n",
       "    <tr>\n",
       "      <th>93</th>\n",
       "      <td>2017.0</td>\n",
       "      <td>569.0</td>\n",
       "      <td>636.0</td>\n",
       "      <td>23.0</td>\n",
       "      <td>32405.0</td>\n",
       "      <td>56793.0</td>\n",
       "      <td>2354.0</td>\n",
       "      <td>25750.0</td>\n",
       "      <td>49308.0</td>\n",
       "      <td>1910.0</td>\n",
       "    </tr>\n",
       "    <tr>\n",
       "      <th>94</th>\n",
       "      <td>2018.0</td>\n",
       "      <td>344.0</td>\n",
       "      <td>470.0</td>\n",
       "      <td>25.0</td>\n",
       "      <td>32749.0</td>\n",
       "      <td>57263.0</td>\n",
       "      <td>2379.0</td>\n",
       "      <td>25839.0</td>\n",
       "      <td>49359.0</td>\n",
       "      <td>1921.0</td>\n",
       "    </tr>\n",
       "    <tr>\n",
       "      <th>95</th>\n",
       "      <td>2019.0</td>\n",
       "      <td>469.0</td>\n",
       "      <td>681.0</td>\n",
       "      <td>27.0</td>\n",
       "      <td>33218.0</td>\n",
       "      <td>57944.0</td>\n",
       "      <td>2406.0</td>\n",
       "      <td>26111.0</td>\n",
       "      <td>49660.0</td>\n",
       "      <td>1933.0</td>\n",
       "    </tr>\n",
       "    <tr>\n",
       "      <th>96</th>\n",
       "      <td>2020.0</td>\n",
       "      <td>515.0</td>\n",
       "      <td>841.0</td>\n",
       "      <td>29.0</td>\n",
       "      <td>33733.0</td>\n",
       "      <td>58785.0</td>\n",
       "      <td>2435.0</td>\n",
       "      <td>26387.0</td>\n",
       "      <td>50082.0</td>\n",
       "      <td>1945.0</td>\n",
       "    </tr>\n",
       "    <tr>\n",
       "      <th>97</th>\n",
       "      <td>2021.0</td>\n",
       "      <td>619.0</td>\n",
       "      <td>671.0</td>\n",
       "      <td>12.0</td>\n",
       "      <td>34352.0</td>\n",
       "      <td>59456.0</td>\n",
       "      <td>2447.0</td>\n",
       "      <td>26715.0</td>\n",
       "      <td>50170.0</td>\n",
       "      <td>1940.0</td>\n",
       "    </tr>\n",
       "  </tbody>\n",
       "</table>\n",
       "</div>"
      ],
      "text/plain": [
       "use    date  agriculture  domestic  public  Agriculture_Cum  Domestic_Cum  \\\n",
       "93   2017.0        569.0     636.0    23.0          32405.0       56793.0   \n",
       "94   2018.0        344.0     470.0    25.0          32749.0       57263.0   \n",
       "95   2019.0        469.0     681.0    27.0          33218.0       57944.0   \n",
       "96   2020.0        515.0     841.0    29.0          33733.0       58785.0   \n",
       "97   2021.0        619.0     671.0    12.0          34352.0       59456.0   \n",
       "\n",
       "use  Public_Cum  Agriculture_Active  Domestic_Active  Public_Active  \n",
       "93       2354.0             25750.0          49308.0         1910.0  \n",
       "94       2379.0             25839.0          49359.0         1921.0  \n",
       "95       2406.0             26111.0          49660.0         1933.0  \n",
       "96       2435.0             26387.0          50082.0         1945.0  \n",
       "97       2447.0             26715.0          50170.0         1940.0  "
      ]
     },
     "execution_count": 371,
     "metadata": {},
     "output_type": "execute_result"
    }
   ],
   "source": [
    "grouped_date_use_pivot.tail()"
   ]
  },
  {
   "cell_type": "code",
   "execution_count": 372,
   "id": "fa4b890d-d081-4a26-948b-9cdf8f06a00e",
   "metadata": {},
   "outputs": [
    {
     "data": {
      "text/html": [
       "\n",
       "<div id=\"altair-viz-65cba6eb1acb40e4abb6efb394ba5ebd\"></div>\n",
       "<script type=\"text/javascript\">\n",
       "  (function(spec, embedOpt){\n",
       "    let outputDiv = document.currentScript.previousElementSibling;\n",
       "    if (outputDiv.id !== \"altair-viz-65cba6eb1acb40e4abb6efb394ba5ebd\") {\n",
       "      outputDiv = document.getElementById(\"altair-viz-65cba6eb1acb40e4abb6efb394ba5ebd\");\n",
       "    }\n",
       "    const paths = {\n",
       "      \"vega\": \"https://cdn.jsdelivr.net/npm//vega@5?noext\",\n",
       "      \"vega-lib\": \"https://cdn.jsdelivr.net/npm//vega-lib?noext\",\n",
       "      \"vega-lite\": \"https://cdn.jsdelivr.net/npm//vega-lite@4.8.1?noext\",\n",
       "      \"vega-embed\": \"https://cdn.jsdelivr.net/npm//vega-embed@6?noext\",\n",
       "    };\n",
       "\n",
       "    function loadScript(lib) {\n",
       "      return new Promise(function(resolve, reject) {\n",
       "        var s = document.createElement('script');\n",
       "        s.src = paths[lib];\n",
       "        s.async = true;\n",
       "        s.onload = () => resolve(paths[lib]);\n",
       "        s.onerror = () => reject(`Error loading script: ${paths[lib]}`);\n",
       "        document.getElementsByTagName(\"head\")[0].appendChild(s);\n",
       "      });\n",
       "    }\n",
       "\n",
       "    function showError(err) {\n",
       "      outputDiv.innerHTML = `<div class=\"error\" style=\"color:red;\">${err}</div>`;\n",
       "      throw err;\n",
       "    }\n",
       "\n",
       "    function displayChart(vegaEmbed) {\n",
       "      vegaEmbed(outputDiv, spec, embedOpt)\n",
       "        .catch(err => showError(`Javascript Error: ${err.message}<br>This usually means there's a typo in your chart specification. See the javascript console for the full traceback.`));\n",
       "    }\n",
       "\n",
       "    if(typeof define === \"function\" && define.amd) {\n",
       "      requirejs.config({paths});\n",
       "      require([\"vega-embed\"], displayChart, err => showError(`Error loading script: ${err.message}`));\n",
       "    } else if (typeof vegaEmbed === \"function\") {\n",
       "      displayChart(vegaEmbed);\n",
       "    } else {\n",
       "      loadScript(\"vega\")\n",
       "        .then(() => loadScript(\"vega-lite\"))\n",
       "        .then(() => loadScript(\"vega-embed\"))\n",
       "        .catch(showError)\n",
       "        .then(() => displayChart(vegaEmbed));\n",
       "    }\n",
       "  })({\"config\": {\"view\": {\"width\": 800, \"height\": 450}, \"background\": \"#ffffff\", \"title\": {\"anchor\": \"start\", \"font\": \"BentonGothic-Bold, sans\", \"fontColor\": \"#000000\", \"fontSize\": 22, \"fontWeight\": \"normal\"}, \"arc\": {\"fill\": \"#82c6df\"}, \"area\": {\"fill\": \"#82c6df\"}, \"line\": {\"stroke\": \"#82c6df\", \"strokeWidth\": 3}, \"path\": {\"stroke\": \"#82c6df\"}, \"rect\": {\"fill\": \"#82c6df\"}, \"shape\": {\"stroke\": \"#82c6df\"}, \"bar\": {\"fill\": \"#82c6df\"}, \"point\": {\"stroke\": \"#82c6df\"}, \"symbol\": {\"fill\": \"#82c6df\", \"size\": 30}, \"axis\": {\"titleFont\": \"BentonGothic-Bold, sans\", \"titleFontSize\": 14, \"titleFontWeight\": \"normal\", \"labelFont\": \"BentonGothic, sans\", \"labelFontSize\": 12, \"labelFontWeight\": \"normal\"}, \"axisX\": {\"labelAngle\": 0, \"labelPadding\": 4, \"tickSize\": 3}, \"axisY\": {\"labelBaseline\": \"middle\", \"maxExtent\": 45, \"minExtent\": 45, \"tickSize\": 2, \"titleAlign\": \"left\", \"titleAngle\": 0, \"titleX\": -45, \"titleY\": -11}, \"legend\": {\"titleFont\": \"BentonGothic-Bold, sans\", \"titleFontSize\": 14, \"titleFontWeight\": \"normal\", \"symbolType\": \"square\", \"labelFont\": \"BentonGothic, sans\", \"labelFontSize\": 13}, \"range\": {\"category\": [\"#3580b1\", \"#ec8431\", \"#ab7fb4\", \"#c89d29\", \"#adc839\", \"#829eb1\"], \"diverging\": [\"#e68a4f\", \"#f4bb6a\", \"#f9e39c\", \"#dadfe2\", \"#a6b7c6\", \"#849eae\"], \"heatmap\": [\"#fbf2c7\", \"#f9e39c\", \"#f8d36e\", \"#f4bb6a\", \"#e68a4f\", \"#d15a40\", \"#ab4232\"], \"ordinal\": [\"#fbf2c7\", \"#f9e39c\", \"#f8d36e\", \"#f4bb6a\", \"#e68a4f\", \"#d15a40\", \"#ab4232\"], \"ramp\": [\"#fbf2c7\", \"#f9e39c\", \"#f8d36e\", \"#f4bb6a\", \"#e68a4f\", \"#d15a40\", \"#ab4232\"]}}, \"repeat\": {\"column\": [\"Agriculture_Active\", \"Domestic_Active\", \"Public_Active\"]}, \"spec\": {\"data\": {\"name\": \"data-06dcd7604a0ea1ac99bb0565991de238\"}, \"mark\": \"line\", \"encoding\": {\"x\": {\"type\": \"ordinal\", \"field\": \"date\"}, \"y\": {\"type\": \"quantitative\", \"field\": {\"repeat\": \"column\"}}}, \"height\": 250, \"width\": 250}, \"$schema\": \"https://vega.github.io/schema/vega-lite/v4.8.1.json\", \"datasets\": {\"data-06dcd7604a0ea1ac99bb0565991de238\": [{\"date\": 2000.0, \"agriculture\": 296.0, \"domestic\": 946.0, \"public\": 56.0, \"Agriculture_Cum\": 22135.0, \"Domestic_Cum\": 41581.0, \"Public_Cum\": 1587.0, \"Agriculture_Active\": 21859.0, \"Domestic_Active\": 41372.0, \"Public_Active\": 1550.0}, {\"date\": 2001.0, \"agriculture\": 296.0, \"domestic\": 1100.0, \"public\": 64.0, \"Agriculture_Cum\": 22431.0, \"Domestic_Cum\": 42681.0, \"Public_Cum\": 1651.0, \"Agriculture_Active\": 21739.0, \"Domestic_Active\": 42202.0, \"Public_Active\": 1605.0}, {\"date\": 2002.0, \"agriculture\": 293.0, \"domestic\": 1099.0, \"public\": 43.0, \"Agriculture_Cum\": 22724.0, \"Domestic_Cum\": 43780.0, \"Public_Cum\": 1694.0, \"Agriculture_Active\": 21797.0, \"Domestic_Active\": 43121.0, \"Public_Active\": 1640.0}, {\"date\": 2003.0, \"agriculture\": 291.0, \"domestic\": 1244.0, \"public\": 57.0, \"Agriculture_Cum\": 23015.0, \"Domestic_Cum\": 45024.0, \"Public_Cum\": 1751.0, \"Agriculture_Active\": 21919.0, \"Domestic_Active\": 44234.0, \"Public_Active\": 1676.0}, {\"date\": 2004.0, \"agriculture\": 275.0, \"domestic\": 1209.0, \"public\": 85.0, \"Agriculture_Cum\": 23290.0, \"Domestic_Cum\": 46233.0, \"Public_Cum\": 1836.0, \"Agriculture_Active\": 21831.0, \"Domestic_Active\": 44872.0, \"Public_Active\": 1733.0}, {\"date\": 2005.0, \"agriculture\": 354.0, \"domestic\": 1373.0, \"public\": 84.0, \"Agriculture_Cum\": 23644.0, \"Domestic_Cum\": 47606.0, \"Public_Cum\": 1920.0, \"Agriculture_Active\": 21553.0, \"Domestic_Active\": 45515.0, \"Public_Active\": 1779.0}, {\"date\": 2006.0, \"agriculture\": 257.0, \"domestic\": 958.0, \"public\": 58.0, \"Agriculture_Cum\": 23901.0, \"Domestic_Cum\": 48564.0, \"Public_Cum\": 1978.0, \"Agriculture_Active\": 21433.0, \"Domestic_Active\": 46073.0, \"Public_Active\": 1796.0}, {\"date\": 2007.0, \"agriculture\": 508.0, \"domestic\": 1025.0, \"public\": 50.0, \"Agriculture_Cum\": 24409.0, \"Domestic_Cum\": 49589.0, \"Public_Cum\": 2028.0, \"Agriculture_Active\": 21593.0, \"Domestic_Active\": 46751.0, \"Public_Active\": 1820.0}, {\"date\": 2008.0, \"agriculture\": 602.0, \"domestic\": 840.0, \"public\": 27.0, \"Agriculture_Cum\": 25011.0, \"Domestic_Cum\": 50429.0, \"Public_Cum\": 2055.0, \"Agriculture_Active\": 21969.0, \"Domestic_Active\": 47285.0, \"Public_Active\": 1823.0}, {\"date\": 2009.0, \"agriculture\": 537.0, \"domestic\": 563.0, \"public\": 28.0, \"Agriculture_Cum\": 25548.0, \"Domestic_Cum\": 50992.0, \"Public_Cum\": 2083.0, \"Agriculture_Active\": 22114.0, \"Domestic_Active\": 47464.0, \"Public_Active\": 1820.0}, {\"date\": 2010.0, \"agriculture\": 306.0, \"domestic\": 422.0, \"public\": 25.0, \"Agriculture_Cum\": 25854.0, \"Domestic_Cum\": 51414.0, \"Public_Cum\": 2108.0, \"Agriculture_Active\": 21895.0, \"Domestic_Active\": 47352.0, \"Public_Active\": 1813.0}, {\"date\": 2011.0, \"agriculture\": 313.0, \"domestic\": 352.0, \"public\": 21.0, \"Agriculture_Cum\": 26167.0, \"Domestic_Cum\": 51766.0, \"Public_Cum\": 2129.0, \"Agriculture_Active\": 21454.0, \"Domestic_Active\": 46849.0, \"Public_Active\": 1802.0}, {\"date\": 2012.0, \"agriculture\": 480.0, \"domestic\": 443.0, \"public\": 22.0, \"Agriculture_Cum\": 26647.0, \"Domestic_Cum\": 52209.0, \"Public_Cum\": 2151.0, \"Agriculture_Active\": 21599.0, \"Domestic_Active\": 46853.0, \"Public_Active\": 1799.0}, {\"date\": 2013.0, \"agriculture\": 648.0, \"domestic\": 595.0, \"public\": 17.0, \"Agriculture_Cum\": 27295.0, \"Domestic_Cum\": 52804.0, \"Public_Cum\": 2168.0, \"Agriculture_Active\": 21948.0, \"Domestic_Active\": 47154.0, \"Public_Active\": 1803.0}, {\"date\": 2014.0, \"agriculture\": 1149.0, \"domestic\": 695.0, \"public\": 26.0, \"Agriculture_Cum\": 28444.0, \"Domestic_Cum\": 53499.0, \"Public_Cum\": 2194.0, \"Agriculture_Active\": 22797.0, \"Domestic_Active\": 47463.0, \"Public_Active\": 1807.0}, {\"date\": 2015.0, \"agriculture\": 1969.0, \"domestic\": 1171.0, \"public\": 69.0, \"Agriculture_Cum\": 30413.0, \"Domestic_Cum\": 54670.0, \"Public_Cum\": 2263.0, \"Agriculture_Active\": 24445.0, \"Domestic_Active\": 48277.0, \"Public_Active\": 1853.0}, {\"date\": 2016.0, \"agriculture\": 1423.0, \"domestic\": 1487.0, \"public\": 68.0, \"Agriculture_Cum\": 31836.0, \"Domestic_Cum\": 56157.0, \"Public_Cum\": 2331.0, \"Agriculture_Active\": 25428.0, \"Domestic_Active\": 49098.0, \"Public_Active\": 1903.0}, {\"date\": 2017.0, \"agriculture\": 569.0, \"domestic\": 636.0, \"public\": 23.0, \"Agriculture_Cum\": 32405.0, \"Domestic_Cum\": 56793.0, \"Public_Cum\": 2354.0, \"Agriculture_Active\": 25750.0, \"Domestic_Active\": 49308.0, \"Public_Active\": 1910.0}, {\"date\": 2018.0, \"agriculture\": 344.0, \"domestic\": 470.0, \"public\": 25.0, \"Agriculture_Cum\": 32749.0, \"Domestic_Cum\": 57263.0, \"Public_Cum\": 2379.0, \"Agriculture_Active\": 25839.0, \"Domestic_Active\": 49359.0, \"Public_Active\": 1921.0}, {\"date\": 2019.0, \"agriculture\": 469.0, \"domestic\": 681.0, \"public\": 27.0, \"Agriculture_Cum\": 33218.0, \"Domestic_Cum\": 57944.0, \"Public_Cum\": 2406.0, \"Agriculture_Active\": 26111.0, \"Domestic_Active\": 49660.0, \"Public_Active\": 1933.0}, {\"date\": 2020.0, \"agriculture\": 515.0, \"domestic\": 841.0, \"public\": 29.0, \"Agriculture_Cum\": 33733.0, \"Domestic_Cum\": 58785.0, \"Public_Cum\": 2435.0, \"Agriculture_Active\": 26387.0, \"Domestic_Active\": 50082.0, \"Public_Active\": 1945.0}, {\"date\": 2021.0, \"agriculture\": 619.0, \"domestic\": 671.0, \"public\": 12.0, \"Agriculture_Cum\": 34352.0, \"Domestic_Cum\": 59456.0, \"Public_Cum\": 2447.0, \"Agriculture_Active\": 26715.0, \"Domestic_Active\": 50170.0, \"Public_Active\": 1940.0}]}}, {\"mode\": \"vega-lite\"});\n",
       "</script>"
      ],
      "text/plain": [
       "alt.RepeatChart(...)"
      ]
     },
     "execution_count": 372,
     "metadata": {},
     "output_type": "execute_result"
    }
   ],
   "source": [
    "alt.Chart(grouped_date_use_pivot[grouped_date_use_pivot['date'] >= 2000]).mark_line().encode(\n",
    "    alt.X('date:O'),\n",
    "    alt.Y(alt.repeat(\"column\"), type='quantitative'),\n",
    ").properties(\n",
    "    width=250,\n",
    "    height=250\n",
    ").repeat(\n",
    "    column=['Agriculture_Active', 'Domestic_Active', 'Public_Active']\n",
    ")"
   ]
  },
  {
   "cell_type": "code",
   "execution_count": 374,
   "id": "2502685b-adb6-40d7-9a95-2cc30416625b",
   "metadata": {},
   "outputs": [],
   "source": [
    "grouped_use = wells.groupby(['use']).agg({\n",
    "    'wcr_no': ['count'],\n",
    "}).reset_index()\n",
    "grouped_use.columns = [\"use\",\"all wells\"]\n",
    "\n",
    "grouped_use_active = wells[wells['year_work_ended'] >= lifespanYear].groupby(['use']).agg({\n",
    "    'wcr_no': ['count'],\n",
    "}).reset_index()\n",
    "grouped_use_active.columns = [\"use\",\"active wells\"]"
   ]
  },
  {
   "cell_type": "code",
   "execution_count": 375,
   "id": "1d0b2e5c-1295-4154-aa76-4dee014f817b",
   "metadata": {},
   "outputs": [],
   "source": [
    "grouped_use = grouped_use.merge(grouped_use_active, on=\"use\")"
   ]
  },
  {
   "cell_type": "code",
   "execution_count": 376,
   "id": "f11726cc-9e97-4f08-aeea-56073c7849e9",
   "metadata": {},
   "outputs": [],
   "source": [
    "grouped_use['pct active'] = grouped_use['active wells'] / grouped_use['all wells']"
   ]
  },
  {
   "cell_type": "code",
   "execution_count": 377,
   "id": "87978621-7426-4720-9f81-5d689c1c0059",
   "metadata": {},
   "outputs": [
    {
     "data": {
      "text/html": [
       "<div>\n",
       "<style scoped>\n",
       "    .dataframe tbody tr th:only-of-type {\n",
       "        vertical-align: middle;\n",
       "    }\n",
       "\n",
       "    .dataframe tbody tr th {\n",
       "        vertical-align: top;\n",
       "    }\n",
       "\n",
       "    .dataframe thead th {\n",
       "        text-align: right;\n",
       "    }\n",
       "</style>\n",
       "<table border=\"1\" class=\"dataframe\">\n",
       "  <thead>\n",
       "    <tr style=\"text-align: right;\">\n",
       "      <th></th>\n",
       "      <th>use</th>\n",
       "      <th>all wells</th>\n",
       "      <th>active wells</th>\n",
       "      <th>pct active</th>\n",
       "    </tr>\n",
       "  </thead>\n",
       "  <tbody>\n",
       "    <tr>\n",
       "      <th>0</th>\n",
       "      <td>agriculture</td>\n",
       "      <td>36892</td>\n",
       "      <td>27006</td>\n",
       "      <td>0.732029</td>\n",
       "    </tr>\n",
       "    <tr>\n",
       "      <th>1</th>\n",
       "      <td>domestic</td>\n",
       "      <td>64583</td>\n",
       "      <td>50753</td>\n",
       "      <td>0.785857</td>\n",
       "    </tr>\n",
       "    <tr>\n",
       "      <th>2</th>\n",
       "      <td>public</td>\n",
       "      <td>2600</td>\n",
       "      <td>1957</td>\n",
       "      <td>0.752692</td>\n",
       "    </tr>\n",
       "  </tbody>\n",
       "</table>\n",
       "</div>"
      ],
      "text/plain": [
       "           use  all wells  active wells  pct active\n",
       "0  agriculture      36892         27006    0.732029\n",
       "1     domestic      64583         50753    0.785857\n",
       "2       public       2600          1957    0.752692"
      ]
     },
     "execution_count": 377,
     "metadata": {},
     "output_type": "execute_result"
    }
   ],
   "source": [
    "grouped_use"
   ]
  },
  {
   "cell_type": "code",
   "execution_count": 378,
   "id": "42c0acc8-5792-4870-8eb1-bdfca5d6c72e",
   "metadata": {},
   "outputs": [
    {
     "data": {
      "text/plain": [
       "79716"
      ]
     },
     "execution_count": 378,
     "metadata": {},
     "output_type": "execute_result"
    }
   ],
   "source": [
    "grouped_use['active wells'].sum()"
   ]
  },
  {
   "cell_type": "code",
   "execution_count": 380,
   "id": "22e0d6d1-45f2-4824-ad64-cfd1a06672fb",
   "metadata": {},
   "outputs": [],
   "source": [
    "grouped_use_county = wells.groupby(['use','county']).agg({\n",
    "    'wcr_no': ['count'],\n",
    "}).reset_index()\n",
    "grouped_use_county.columns = [\"use\",\"county\",\"all wells\"]\n",
    "\n",
    "grouped_use_county_active = wells[wells['year_work_ended'] >= 2021-lifespan].groupby(['use','county']).agg({\n",
    "    'wcr_no': ['count'],\n",
    "}).reset_index()\n",
    "grouped_use_county_active.columns = [\"use\",\"county\",\"active wells\"]"
   ]
  },
  {
   "cell_type": "code",
   "execution_count": 381,
   "id": "1a4c4ac6-5cf0-4729-9505-19ed85e7301d",
   "metadata": {},
   "outputs": [],
   "source": [
    "grouped_use_county = grouped_use_county.merge(grouped_use_county_active, on=[\"use\",\"county\"])"
   ]
  },
  {
   "cell_type": "code",
   "execution_count": 382,
   "id": "6221ce3f-8a04-45f4-af14-84c74ff3a1bf",
   "metadata": {},
   "outputs": [],
   "source": [
    "grouped_use_county['pct active'] = grouped_use_county['active wells'] / grouped_use_county['all wells']"
   ]
  },
  {
   "cell_type": "code",
   "execution_count": 383,
   "id": "719f4b65-20ae-4ea4-aafd-4f1fe4832161",
   "metadata": {},
   "outputs": [
    {
     "data": {
      "text/html": [
       "<div>\n",
       "<style scoped>\n",
       "    .dataframe tbody tr th:only-of-type {\n",
       "        vertical-align: middle;\n",
       "    }\n",
       "\n",
       "    .dataframe tbody tr th {\n",
       "        vertical-align: top;\n",
       "    }\n",
       "\n",
       "    .dataframe thead th {\n",
       "        text-align: right;\n",
       "    }\n",
       "</style>\n",
       "<table border=\"1\" class=\"dataframe\">\n",
       "  <thead>\n",
       "    <tr style=\"text-align: right;\">\n",
       "      <th></th>\n",
       "      <th>use</th>\n",
       "      <th>county</th>\n",
       "      <th>all wells</th>\n",
       "      <th>active wells</th>\n",
       "      <th>pct active</th>\n",
       "    </tr>\n",
       "  </thead>\n",
       "  <tbody>\n",
       "    <tr>\n",
       "      <th>0</th>\n",
       "      <td>agriculture</td>\n",
       "      <td>Alameda</td>\n",
       "      <td>4</td>\n",
       "      <td>4</td>\n",
       "      <td>1.000000</td>\n",
       "    </tr>\n",
       "    <tr>\n",
       "      <th>1</th>\n",
       "      <td>agriculture</td>\n",
       "      <td>Amador</td>\n",
       "      <td>17</td>\n",
       "      <td>15</td>\n",
       "      <td>0.882353</td>\n",
       "    </tr>\n",
       "    <tr>\n",
       "      <th>2</th>\n",
       "      <td>agriculture</td>\n",
       "      <td>Calaveras</td>\n",
       "      <td>72</td>\n",
       "      <td>61</td>\n",
       "      <td>0.847222</td>\n",
       "    </tr>\n",
       "    <tr>\n",
       "      <th>3</th>\n",
       "      <td>agriculture</td>\n",
       "      <td>Contra Costa</td>\n",
       "      <td>148</td>\n",
       "      <td>126</td>\n",
       "      <td>0.851351</td>\n",
       "    </tr>\n",
       "    <tr>\n",
       "      <th>4</th>\n",
       "      <td>agriculture</td>\n",
       "      <td>Fresno</td>\n",
       "      <td>9599</td>\n",
       "      <td>6982</td>\n",
       "      <td>0.727367</td>\n",
       "    </tr>\n",
       "    <tr>\n",
       "      <th>5</th>\n",
       "      <td>agriculture</td>\n",
       "      <td>Kern</td>\n",
       "      <td>3983</td>\n",
       "      <td>2467</td>\n",
       "      <td>0.619382</td>\n",
       "    </tr>\n",
       "    <tr>\n",
       "      <th>6</th>\n",
       "      <td>agriculture</td>\n",
       "      <td>Kings</td>\n",
       "      <td>3196</td>\n",
       "      <td>2387</td>\n",
       "      <td>0.746871</td>\n",
       "    </tr>\n",
       "    <tr>\n",
       "      <th>7</th>\n",
       "      <td>agriculture</td>\n",
       "      <td>Madera</td>\n",
       "      <td>2825</td>\n",
       "      <td>2225</td>\n",
       "      <td>0.787611</td>\n",
       "    </tr>\n",
       "    <tr>\n",
       "      <th>8</th>\n",
       "      <td>agriculture</td>\n",
       "      <td>Mariposa</td>\n",
       "      <td>32</td>\n",
       "      <td>25</td>\n",
       "      <td>0.781250</td>\n",
       "    </tr>\n",
       "    <tr>\n",
       "      <th>9</th>\n",
       "      <td>agriculture</td>\n",
       "      <td>Merced</td>\n",
       "      <td>3527</td>\n",
       "      <td>2645</td>\n",
       "      <td>0.749929</td>\n",
       "    </tr>\n",
       "    <tr>\n",
       "      <th>10</th>\n",
       "      <td>agriculture</td>\n",
       "      <td>Sacramento</td>\n",
       "      <td>396</td>\n",
       "      <td>161</td>\n",
       "      <td>0.406566</td>\n",
       "    </tr>\n",
       "    <tr>\n",
       "      <th>11</th>\n",
       "      <td>agriculture</td>\n",
       "      <td>San Joaquin</td>\n",
       "      <td>2867</td>\n",
       "      <td>1794</td>\n",
       "      <td>0.625741</td>\n",
       "    </tr>\n",
       "    <tr>\n",
       "      <th>12</th>\n",
       "      <td>agriculture</td>\n",
       "      <td>Stanislaus</td>\n",
       "      <td>2381</td>\n",
       "      <td>1790</td>\n",
       "      <td>0.751785</td>\n",
       "    </tr>\n",
       "    <tr>\n",
       "      <th>13</th>\n",
       "      <td>agriculture</td>\n",
       "      <td>Tulare</td>\n",
       "      <td>7845</td>\n",
       "      <td>6324</td>\n",
       "      <td>0.806119</td>\n",
       "    </tr>\n",
       "  </tbody>\n",
       "</table>\n",
       "</div>"
      ],
      "text/plain": [
       "            use        county  all wells  active wells  pct active\n",
       "0   agriculture       Alameda          4             4    1.000000\n",
       "1   agriculture        Amador         17            15    0.882353\n",
       "2   agriculture     Calaveras         72            61    0.847222\n",
       "3   agriculture  Contra Costa        148           126    0.851351\n",
       "4   agriculture        Fresno       9599          6982    0.727367\n",
       "5   agriculture          Kern       3983          2467    0.619382\n",
       "6   agriculture         Kings       3196          2387    0.746871\n",
       "7   agriculture        Madera       2825          2225    0.787611\n",
       "8   agriculture      Mariposa         32            25    0.781250\n",
       "9   agriculture        Merced       3527          2645    0.749929\n",
       "10  agriculture    Sacramento        396           161    0.406566\n",
       "11  agriculture   San Joaquin       2867          1794    0.625741\n",
       "12  agriculture    Stanislaus       2381          1790    0.751785\n",
       "13  agriculture        Tulare       7845          6324    0.806119"
      ]
     },
     "execution_count": 383,
     "metadata": {},
     "output_type": "execute_result"
    }
   ],
   "source": [
    "grouped_use_county[grouped_use_county[\"use\"] == \"agriculture\"]"
   ]
  },
  {
   "cell_type": "code",
   "execution_count": 384,
   "id": "3ac063d0-a7b0-44cf-b1c0-304085ce3bfd",
   "metadata": {},
   "outputs": [],
   "source": [
    "def active_by_county(county):\n",
    "    df = wells[wells['county'] == county]\n",
    "    df_group = df.groupby(['year_work_ended','use']).agg({\n",
    "        'wcr_no': ['count'],\n",
    "    }).reset_index()\n",
    "    df_group.columns = ['date','use','count']\n",
    "    df_group = df_group.pivot(index='date', columns='use', values='count').reset_index()\n",
    "    df_group['Agriculture_Cum'] = df_group['agriculture'].cumsum()\n",
    "    df_group['Domestic_Cum'] = df_group['domestic'].cumsum()\n",
    "    df_group['Public_Cum'] = df_group['public'].cumsum()\n",
    "    df_group['Agriculture_Active'] = df_group['agriculture'].rolling(50).sum()\n",
    "    df_group['Domestic_Active'] = df_group['domestic'].rolling(50).sum()\n",
    "    df_group['Public_Active'] = df_group['public'].rolling(50).sum()\n",
    "    df_group['Agriculture_Active'].fillna(df_group['Agriculture_Cum'], inplace=True)\n",
    "    df_group['Domestic_Active'].fillna(df_group['Domestic_Cum'], inplace=True)\n",
    "    df_group['Public_Active'].fillna(df_group['Public_Cum'], inplace=True)\n",
    "    return df_group"
   ]
  },
  {
   "cell_type": "code",
   "execution_count": 385,
   "id": "0e133365-d6dd-4941-9f26-39ecceece82f",
   "metadata": {},
   "outputs": [],
   "source": [
    "grouped_date_use_tulare = active_by_county('Tulare')"
   ]
  },
  {
   "cell_type": "code",
   "execution_count": 386,
   "id": "a328818e-0c8e-442a-8f01-6137e953a96a",
   "metadata": {},
   "outputs": [
    {
     "data": {
      "text/html": [
       "<div>\n",
       "<style scoped>\n",
       "    .dataframe tbody tr th:only-of-type {\n",
       "        vertical-align: middle;\n",
       "    }\n",
       "\n",
       "    .dataframe tbody tr th {\n",
       "        vertical-align: top;\n",
       "    }\n",
       "\n",
       "    .dataframe thead th {\n",
       "        text-align: right;\n",
       "    }\n",
       "</style>\n",
       "<table border=\"1\" class=\"dataframe\">\n",
       "  <thead>\n",
       "    <tr style=\"text-align: right;\">\n",
       "      <th>use</th>\n",
       "      <th>date</th>\n",
       "      <th>agriculture</th>\n",
       "      <th>domestic</th>\n",
       "      <th>public</th>\n",
       "      <th>Agriculture_Cum</th>\n",
       "      <th>Domestic_Cum</th>\n",
       "      <th>Public_Cum</th>\n",
       "      <th>Agriculture_Active</th>\n",
       "      <th>Domestic_Active</th>\n",
       "      <th>Public_Active</th>\n",
       "    </tr>\n",
       "  </thead>\n",
       "  <tbody>\n",
       "    <tr>\n",
       "      <th>64</th>\n",
       "      <td>2012.0</td>\n",
       "      <td>101.0</td>\n",
       "      <td>39.0</td>\n",
       "      <td>4.0</td>\n",
       "      <td>5234.0</td>\n",
       "      <td>5355.0</td>\n",
       "      <td>417.0</td>\n",
       "      <td>4470.0</td>\n",
       "      <td>4600.0</td>\n",
       "      <td>381.0</td>\n",
       "    </tr>\n",
       "    <tr>\n",
       "      <th>65</th>\n",
       "      <td>2013.0</td>\n",
       "      <td>121.0</td>\n",
       "      <td>51.0</td>\n",
       "      <td>2.0</td>\n",
       "      <td>5355.0</td>\n",
       "      <td>5406.0</td>\n",
       "      <td>419.0</td>\n",
       "      <td>4527.0</td>\n",
       "      <td>4609.0</td>\n",
       "      <td>382.0</td>\n",
       "    </tr>\n",
       "    <tr>\n",
       "      <th>66</th>\n",
       "      <td>2014.0</td>\n",
       "      <td>290.0</td>\n",
       "      <td>124.0</td>\n",
       "      <td>11.0</td>\n",
       "      <td>5645.0</td>\n",
       "      <td>5530.0</td>\n",
       "      <td>430.0</td>\n",
       "      <td>4762.0</td>\n",
       "      <td>4666.0</td>\n",
       "      <td>392.0</td>\n",
       "    </tr>\n",
       "    <tr>\n",
       "      <th>67</th>\n",
       "      <td>2015.0</td>\n",
       "      <td>652.0</td>\n",
       "      <td>332.0</td>\n",
       "      <td>44.0</td>\n",
       "      <td>6297.0</td>\n",
       "      <td>5862.0</td>\n",
       "      <td>474.0</td>\n",
       "      <td>5370.0</td>\n",
       "      <td>4928.0</td>\n",
       "      <td>433.0</td>\n",
       "    </tr>\n",
       "    <tr>\n",
       "      <th>68</th>\n",
       "      <td>2016.0</td>\n",
       "      <td>336.0</td>\n",
       "      <td>322.0</td>\n",
       "      <td>44.0</td>\n",
       "      <td>6633.0</td>\n",
       "      <td>6184.0</td>\n",
       "      <td>518.0</td>\n",
       "      <td>5626.0</td>\n",
       "      <td>5206.0</td>\n",
       "      <td>474.0</td>\n",
       "    </tr>\n",
       "    <tr>\n",
       "      <th>69</th>\n",
       "      <td>2017.0</td>\n",
       "      <td>166.0</td>\n",
       "      <td>141.0</td>\n",
       "      <td>11.0</td>\n",
       "      <td>6799.0</td>\n",
       "      <td>6325.0</td>\n",
       "      <td>529.0</td>\n",
       "      <td>5762.0</td>\n",
       "      <td>5299.0</td>\n",
       "      <td>484.0</td>\n",
       "    </tr>\n",
       "    <tr>\n",
       "      <th>70</th>\n",
       "      <td>2018.0</td>\n",
       "      <td>90.0</td>\n",
       "      <td>108.0</td>\n",
       "      <td>4.0</td>\n",
       "      <td>6889.0</td>\n",
       "      <td>6433.0</td>\n",
       "      <td>533.0</td>\n",
       "      <td>5817.0</td>\n",
       "      <td>5369.0</td>\n",
       "      <td>486.0</td>\n",
       "    </tr>\n",
       "    <tr>\n",
       "      <th>71</th>\n",
       "      <td>2019.0</td>\n",
       "      <td>158.0</td>\n",
       "      <td>105.0</td>\n",
       "      <td>2.0</td>\n",
       "      <td>7047.0</td>\n",
       "      <td>6538.0</td>\n",
       "      <td>535.0</td>\n",
       "      <td>5949.0</td>\n",
       "      <td>5435.0</td>\n",
       "      <td>487.0</td>\n",
       "    </tr>\n",
       "    <tr>\n",
       "      <th>72</th>\n",
       "      <td>2020.0</td>\n",
       "      <td>160.0</td>\n",
       "      <td>104.0</td>\n",
       "      <td>5.0</td>\n",
       "      <td>7207.0</td>\n",
       "      <td>6642.0</td>\n",
       "      <td>540.0</td>\n",
       "      <td>6081.0</td>\n",
       "      <td>5486.0</td>\n",
       "      <td>490.0</td>\n",
       "    </tr>\n",
       "    <tr>\n",
       "      <th>73</th>\n",
       "      <td>2021.0</td>\n",
       "      <td>243.0</td>\n",
       "      <td>137.0</td>\n",
       "      <td>1.0</td>\n",
       "      <td>7450.0</td>\n",
       "      <td>6779.0</td>\n",
       "      <td>541.0</td>\n",
       "      <td>6262.0</td>\n",
       "      <td>5535.0</td>\n",
       "      <td>490.0</td>\n",
       "    </tr>\n",
       "  </tbody>\n",
       "</table>\n",
       "</div>"
      ],
      "text/plain": [
       "use    date  agriculture  domestic  public  Agriculture_Cum  Domestic_Cum  \\\n",
       "64   2012.0        101.0      39.0     4.0           5234.0        5355.0   \n",
       "65   2013.0        121.0      51.0     2.0           5355.0        5406.0   \n",
       "66   2014.0        290.0     124.0    11.0           5645.0        5530.0   \n",
       "67   2015.0        652.0     332.0    44.0           6297.0        5862.0   \n",
       "68   2016.0        336.0     322.0    44.0           6633.0        6184.0   \n",
       "69   2017.0        166.0     141.0    11.0           6799.0        6325.0   \n",
       "70   2018.0         90.0     108.0     4.0           6889.0        6433.0   \n",
       "71   2019.0        158.0     105.0     2.0           7047.0        6538.0   \n",
       "72   2020.0        160.0     104.0     5.0           7207.0        6642.0   \n",
       "73   2021.0        243.0     137.0     1.0           7450.0        6779.0   \n",
       "\n",
       "use  Public_Cum  Agriculture_Active  Domestic_Active  Public_Active  \n",
       "64        417.0              4470.0           4600.0          381.0  \n",
       "65        419.0              4527.0           4609.0          382.0  \n",
       "66        430.0              4762.0           4666.0          392.0  \n",
       "67        474.0              5370.0           4928.0          433.0  \n",
       "68        518.0              5626.0           5206.0          474.0  \n",
       "69        529.0              5762.0           5299.0          484.0  \n",
       "70        533.0              5817.0           5369.0          486.0  \n",
       "71        535.0              5949.0           5435.0          487.0  \n",
       "72        540.0              6081.0           5486.0          490.0  \n",
       "73        541.0              6262.0           5535.0          490.0  "
      ]
     },
     "execution_count": 386,
     "metadata": {},
     "output_type": "execute_result"
    }
   ],
   "source": [
    "grouped_date_use_tulare.tail(10)"
   ]
  },
  {
   "cell_type": "code",
   "execution_count": 387,
   "id": "f3a75f4f-589e-4cd1-9e6e-2c94453d681f",
   "metadata": {},
   "outputs": [
    {
     "data": {
      "text/html": [
       "\n",
       "<div id=\"altair-viz-7cb8f9d1524b469993fe41ab1e2431ea\"></div>\n",
       "<script type=\"text/javascript\">\n",
       "  (function(spec, embedOpt){\n",
       "    let outputDiv = document.currentScript.previousElementSibling;\n",
       "    if (outputDiv.id !== \"altair-viz-7cb8f9d1524b469993fe41ab1e2431ea\") {\n",
       "      outputDiv = document.getElementById(\"altair-viz-7cb8f9d1524b469993fe41ab1e2431ea\");\n",
       "    }\n",
       "    const paths = {\n",
       "      \"vega\": \"https://cdn.jsdelivr.net/npm//vega@5?noext\",\n",
       "      \"vega-lib\": \"https://cdn.jsdelivr.net/npm//vega-lib?noext\",\n",
       "      \"vega-lite\": \"https://cdn.jsdelivr.net/npm//vega-lite@4.8.1?noext\",\n",
       "      \"vega-embed\": \"https://cdn.jsdelivr.net/npm//vega-embed@6?noext\",\n",
       "    };\n",
       "\n",
       "    function loadScript(lib) {\n",
       "      return new Promise(function(resolve, reject) {\n",
       "        var s = document.createElement('script');\n",
       "        s.src = paths[lib];\n",
       "        s.async = true;\n",
       "        s.onload = () => resolve(paths[lib]);\n",
       "        s.onerror = () => reject(`Error loading script: ${paths[lib]}`);\n",
       "        document.getElementsByTagName(\"head\")[0].appendChild(s);\n",
       "      });\n",
       "    }\n",
       "\n",
       "    function showError(err) {\n",
       "      outputDiv.innerHTML = `<div class=\"error\" style=\"color:red;\">${err}</div>`;\n",
       "      throw err;\n",
       "    }\n",
       "\n",
       "    function displayChart(vegaEmbed) {\n",
       "      vegaEmbed(outputDiv, spec, embedOpt)\n",
       "        .catch(err => showError(`Javascript Error: ${err.message}<br>This usually means there's a typo in your chart specification. See the javascript console for the full traceback.`));\n",
       "    }\n",
       "\n",
       "    if(typeof define === \"function\" && define.amd) {\n",
       "      requirejs.config({paths});\n",
       "      require([\"vega-embed\"], displayChart, err => showError(`Error loading script: ${err.message}`));\n",
       "    } else if (typeof vegaEmbed === \"function\") {\n",
       "      displayChart(vegaEmbed);\n",
       "    } else {\n",
       "      loadScript(\"vega\")\n",
       "        .then(() => loadScript(\"vega-lite\"))\n",
       "        .then(() => loadScript(\"vega-embed\"))\n",
       "        .catch(showError)\n",
       "        .then(() => displayChart(vegaEmbed));\n",
       "    }\n",
       "  })({\"config\": {\"view\": {\"width\": 800, \"height\": 450}, \"background\": \"#ffffff\", \"title\": {\"anchor\": \"start\", \"font\": \"BentonGothic-Bold, sans\", \"fontColor\": \"#000000\", \"fontSize\": 22, \"fontWeight\": \"normal\"}, \"arc\": {\"fill\": \"#82c6df\"}, \"area\": {\"fill\": \"#82c6df\"}, \"line\": {\"stroke\": \"#82c6df\", \"strokeWidth\": 3}, \"path\": {\"stroke\": \"#82c6df\"}, \"rect\": {\"fill\": \"#82c6df\"}, \"shape\": {\"stroke\": \"#82c6df\"}, \"bar\": {\"fill\": \"#82c6df\"}, \"point\": {\"stroke\": \"#82c6df\"}, \"symbol\": {\"fill\": \"#82c6df\", \"size\": 30}, \"axis\": {\"titleFont\": \"BentonGothic-Bold, sans\", \"titleFontSize\": 14, \"titleFontWeight\": \"normal\", \"labelFont\": \"BentonGothic, sans\", \"labelFontSize\": 12, \"labelFontWeight\": \"normal\"}, \"axisX\": {\"labelAngle\": 0, \"labelPadding\": 4, \"tickSize\": 3}, \"axisY\": {\"labelBaseline\": \"middle\", \"maxExtent\": 45, \"minExtent\": 45, \"tickSize\": 2, \"titleAlign\": \"left\", \"titleAngle\": 0, \"titleX\": -45, \"titleY\": -11}, \"legend\": {\"titleFont\": \"BentonGothic-Bold, sans\", \"titleFontSize\": 14, \"titleFontWeight\": \"normal\", \"symbolType\": \"square\", \"labelFont\": \"BentonGothic, sans\", \"labelFontSize\": 13}, \"range\": {\"category\": [\"#3580b1\", \"#ec8431\", \"#ab7fb4\", \"#c89d29\", \"#adc839\", \"#829eb1\"], \"diverging\": [\"#e68a4f\", \"#f4bb6a\", \"#f9e39c\", \"#dadfe2\", \"#a6b7c6\", \"#849eae\"], \"heatmap\": [\"#fbf2c7\", \"#f9e39c\", \"#f8d36e\", \"#f4bb6a\", \"#e68a4f\", \"#d15a40\", \"#ab4232\"], \"ordinal\": [\"#fbf2c7\", \"#f9e39c\", \"#f8d36e\", \"#f4bb6a\", \"#e68a4f\", \"#d15a40\", \"#ab4232\"], \"ramp\": [\"#fbf2c7\", \"#f9e39c\", \"#f8d36e\", \"#f4bb6a\", \"#e68a4f\", \"#d15a40\", \"#ab4232\"]}}, \"hconcat\": [{\"data\": {\"name\": \"data-13064c2775e7955e638aecc37f221078\"}, \"mark\": \"line\", \"encoding\": {\"x\": {\"type\": \"ordinal\", \"field\": \"date\"}, \"y\": {\"type\": \"quantitative\", \"field\": \"Agriculture_Active\"}}, \"height\": 200, \"width\": 200}, {\"data\": {\"name\": \"data-9b6551145e6c1d79737459aa44f6ad55\"}, \"mark\": \"line\", \"encoding\": {\"x\": {\"type\": \"ordinal\", \"field\": \"date\"}, \"y\": {\"type\": \"quantitative\", \"field\": \"Agriculture_Active\"}}, \"height\": 200, \"width\": 200}, {\"data\": {\"name\": \"data-760616ac29f8c3539989c4f3a3622c3d\"}, \"mark\": \"line\", \"encoding\": {\"x\": {\"type\": \"ordinal\", \"field\": \"date\"}, \"y\": {\"type\": \"quantitative\", \"field\": \"Agriculture_Active\"}}, \"height\": 200, \"width\": 200}, {\"data\": {\"name\": \"data-d11c7f939d462d999789131f37fa9cee\"}, \"mark\": \"line\", \"encoding\": {\"x\": {\"type\": \"ordinal\", \"field\": \"date\"}, \"y\": {\"type\": \"quantitative\", \"field\": \"Agriculture_Active\"}}, \"height\": 200, \"width\": 200}, {\"data\": {\"name\": \"data-62e6ed2bb6fb579af8f23f39047f68bc\"}, \"mark\": \"line\", \"encoding\": {\"x\": {\"type\": \"ordinal\", \"field\": \"date\"}, \"y\": {\"type\": \"quantitative\", \"field\": \"Agriculture_Active\"}}, \"height\": 200, \"width\": 200}], \"$schema\": \"https://vega.github.io/schema/vega-lite/v4.8.1.json\", \"datasets\": {\"data-13064c2775e7955e638aecc37f221078\": [{\"date\": 2000.0, \"agriculture\": 45.0, \"domestic\": 60.0, \"public\": 16.0, \"Agriculture_Cum\": 4227.0, \"Domestic_Cum\": 4522.0, \"Public_Cum\": 291.0, \"Agriculture_Active\": 4224.0, \"Domestic_Active\": 4522.0, \"Public_Active\": 291.0}, {\"date\": 2001.0, \"agriculture\": 65.0, \"domestic\": 52.0, \"public\": 13.0, \"Agriculture_Cum\": 4292.0, \"Domestic_Cum\": 4574.0, \"Public_Cum\": 304.0, \"Agriculture_Active\": 4284.0, \"Domestic_Active\": 4574.0, \"Public_Active\": 304.0}, {\"date\": 2002.0, \"agriculture\": 77.0, \"domestic\": 63.0, \"public\": 12.0, \"Agriculture_Cum\": 4369.0, \"Domestic_Cum\": 4637.0, \"Public_Cum\": 316.0, \"Agriculture_Active\": 4360.0, \"Domestic_Active\": 4634.0, \"Public_Active\": 316.0}, {\"date\": 2003.0, \"agriculture\": 60.0, \"domestic\": 66.0, \"public\": 10.0, \"Agriculture_Cum\": 4429.0, \"Domestic_Cum\": 4703.0, \"Public_Cum\": 326.0, \"Agriculture_Active\": 4419.0, \"Domestic_Active\": 4699.0, \"Public_Active\": 326.0}, {\"date\": 2004.0, \"agriculture\": 51.0, \"domestic\": 62.0, \"public\": 17.0, \"Agriculture_Cum\": 4480.0, \"Domestic_Cum\": 4765.0, \"Public_Cum\": 343.0, \"Agriculture_Active\": 4452.0, \"Domestic_Active\": 4726.0, \"Public_Active\": 340.0}, {\"date\": 2005.0, \"agriculture\": 95.0, \"domestic\": 107.0, \"public\": 24.0, \"Agriculture_Cum\": 4575.0, \"Domestic_Cum\": 4872.0, \"Public_Cum\": 367.0, \"Agriculture_Active\": 4479.0, \"Domestic_Active\": 4761.0, \"Public_Active\": 356.0}, {\"date\": 2006.0, \"agriculture\": 41.0, \"domestic\": 123.0, \"public\": 19.0, \"Agriculture_Cum\": 4616.0, \"Domestic_Cum\": 4995.0, \"Public_Cum\": 386.0, \"Agriculture_Active\": 4481.0, \"Domestic_Active\": 4838.0, \"Public_Active\": 370.0}, {\"date\": 2007.0, \"agriculture\": 155.0, \"domestic\": 105.0, \"public\": 10.0, \"Agriculture_Cum\": 4771.0, \"Domestic_Cum\": 5100.0, \"Public_Cum\": 396.0, \"Agriculture_Active\": 4600.0, \"Domestic_Active\": 4904.0, \"Public_Active\": 377.0}, {\"date\": 2008.0, \"agriculture\": 135.0, \"domestic\": 80.0, \"public\": 8.0, \"Agriculture_Cum\": 4906.0, \"Domestic_Cum\": 5180.0, \"Public_Cum\": 404.0, \"Agriculture_Active\": 4699.0, \"Domestic_Active\": 4933.0, \"Public_Active\": 382.0}, {\"date\": 2009.0, \"agriculture\": 112.0, \"domestic\": 79.0, \"public\": 4.0, \"Agriculture_Cum\": 5018.0, \"Domestic_Cum\": 5259.0, \"Public_Cum\": 408.0, \"Agriculture_Active\": 4733.0, \"Domestic_Active\": 4956.0, \"Public_Active\": 382.0}, {\"date\": 2010.0, \"agriculture\": 62.0, \"domestic\": 26.0, \"public\": 2.0, \"Agriculture_Cum\": 5080.0, \"Domestic_Cum\": 5285.0, \"Public_Cum\": 410.0, \"Agriculture_Active\": 4687.0, \"Domestic_Active\": 4865.0, \"Public_Active\": 383.0}, {\"date\": 2011.0, \"agriculture\": 53.0, \"domestic\": 31.0, \"public\": 3.0, \"Agriculture_Cum\": 5133.0, \"Domestic_Cum\": 5316.0, \"Public_Cum\": 413.0, \"Agriculture_Active\": 4462.0, \"Domestic_Active\": 4629.0, \"Public_Active\": 381.0}, {\"date\": 2012.0, \"agriculture\": 101.0, \"domestic\": 39.0, \"public\": 4.0, \"Agriculture_Cum\": 5234.0, \"Domestic_Cum\": 5355.0, \"Public_Cum\": 417.0, \"Agriculture_Active\": 4470.0, \"Domestic_Active\": 4600.0, \"Public_Active\": 381.0}, {\"date\": 2013.0, \"agriculture\": 121.0, \"domestic\": 51.0, \"public\": 2.0, \"Agriculture_Cum\": 5355.0, \"Domestic_Cum\": 5406.0, \"Public_Cum\": 419.0, \"Agriculture_Active\": 4527.0, \"Domestic_Active\": 4609.0, \"Public_Active\": 382.0}, {\"date\": 2014.0, \"agriculture\": 290.0, \"domestic\": 124.0, \"public\": 11.0, \"Agriculture_Cum\": 5645.0, \"Domestic_Cum\": 5530.0, \"Public_Cum\": 430.0, \"Agriculture_Active\": 4762.0, \"Domestic_Active\": 4666.0, \"Public_Active\": 392.0}, {\"date\": 2015.0, \"agriculture\": 652.0, \"domestic\": 332.0, \"public\": 44.0, \"Agriculture_Cum\": 6297.0, \"Domestic_Cum\": 5862.0, \"Public_Cum\": 474.0, \"Agriculture_Active\": 5370.0, \"Domestic_Active\": 4928.0, \"Public_Active\": 433.0}, {\"date\": 2016.0, \"agriculture\": 336.0, \"domestic\": 322.0, \"public\": 44.0, \"Agriculture_Cum\": 6633.0, \"Domestic_Cum\": 6184.0, \"Public_Cum\": 518.0, \"Agriculture_Active\": 5626.0, \"Domestic_Active\": 5206.0, \"Public_Active\": 474.0}, {\"date\": 2017.0, \"agriculture\": 166.0, \"domestic\": 141.0, \"public\": 11.0, \"Agriculture_Cum\": 6799.0, \"Domestic_Cum\": 6325.0, \"Public_Cum\": 529.0, \"Agriculture_Active\": 5762.0, \"Domestic_Active\": 5299.0, \"Public_Active\": 484.0}, {\"date\": 2018.0, \"agriculture\": 90.0, \"domestic\": 108.0, \"public\": 4.0, \"Agriculture_Cum\": 6889.0, \"Domestic_Cum\": 6433.0, \"Public_Cum\": 533.0, \"Agriculture_Active\": 5817.0, \"Domestic_Active\": 5369.0, \"Public_Active\": 486.0}, {\"date\": 2019.0, \"agriculture\": 158.0, \"domestic\": 105.0, \"public\": 2.0, \"Agriculture_Cum\": 7047.0, \"Domestic_Cum\": 6538.0, \"Public_Cum\": 535.0, \"Agriculture_Active\": 5949.0, \"Domestic_Active\": 5435.0, \"Public_Active\": 487.0}, {\"date\": 2020.0, \"agriculture\": 160.0, \"domestic\": 104.0, \"public\": 5.0, \"Agriculture_Cum\": 7207.0, \"Domestic_Cum\": 6642.0, \"Public_Cum\": 540.0, \"Agriculture_Active\": 6081.0, \"Domestic_Active\": 5486.0, \"Public_Active\": 490.0}, {\"date\": 2021.0, \"agriculture\": 243.0, \"domestic\": 137.0, \"public\": 1.0, \"Agriculture_Cum\": 7450.0, \"Domestic_Cum\": 6779.0, \"Public_Cum\": 541.0, \"Agriculture_Active\": 6262.0, \"Domestic_Active\": 5535.0, \"Public_Active\": 490.0}], \"data-9b6551145e6c1d79737459aa44f6ad55\": [{\"date\": 2000.0, \"agriculture\": 19.0, \"domestic\": 127.0, \"public\": null, \"Agriculture_Cum\": 1582.0, \"Domestic_Cum\": 3303.0, \"Public_Cum\": null, \"Agriculture_Active\": 1574.0, \"Domestic_Active\": 3303.0, \"Public_Active\": null}, {\"date\": 2001.0, \"agriculture\": 17.0, \"domestic\": 149.0, \"public\": 4.0, \"Agriculture_Cum\": 1599.0, \"Domestic_Cum\": 3452.0, \"Public_Cum\": 68.0, \"Agriculture_Active\": 1576.0, \"Domestic_Active\": 3452.0, \"Public_Active\": 68.0}, {\"date\": 2002.0, \"agriculture\": 18.0, \"domestic\": 215.0, \"public\": 4.0, \"Agriculture_Cum\": 1617.0, \"Domestic_Cum\": 3667.0, \"Public_Cum\": 72.0, \"Agriculture_Active\": 1589.0, \"Domestic_Active\": 3667.0, \"Public_Active\": 72.0}, {\"date\": 2003.0, \"agriculture\": 30.0, \"domestic\": 224.0, \"public\": 1.0, \"Agriculture_Cum\": 1647.0, \"Domestic_Cum\": 3891.0, \"Public_Cum\": 73.0, \"Agriculture_Active\": 1615.0, \"Domestic_Active\": 3879.0, \"Public_Active\": 73.0}, {\"date\": 2004.0, \"agriculture\": 29.0, \"domestic\": 177.0, \"public\": 1.0, \"Agriculture_Cum\": 1676.0, \"Domestic_Cum\": 4068.0, \"Public_Cum\": 74.0, \"Agriculture_Active\": 1627.0, \"Domestic_Active\": 4043.0, \"Public_Active\": 74.0}, {\"date\": 2005.0, \"agriculture\": 51.0, \"domestic\": 184.0, \"public\": 3.0, \"Agriculture_Cum\": 1727.0, \"Domestic_Cum\": 4252.0, \"Public_Cum\": 77.0, \"Agriculture_Active\": 1664.0, \"Domestic_Active\": 4218.0, \"Public_Active\": 77.0}, {\"date\": 2006.0, \"agriculture\": 32.0, \"domestic\": 167.0, \"public\": 2.0, \"Agriculture_Cum\": 1759.0, \"Domestic_Cum\": 4419.0, \"Public_Cum\": 79.0, \"Agriculture_Active\": 1685.0, \"Domestic_Active\": 4373.0, \"Public_Active\": 79.0}, {\"date\": 2007.0, \"agriculture\": 38.0, \"domestic\": 150.0, \"public\": 4.0, \"Agriculture_Cum\": 1797.0, \"Domestic_Cum\": 4569.0, \"Public_Cum\": 83.0, \"Agriculture_Active\": 1715.0, \"Domestic_Active\": 4515.0, \"Public_Active\": 83.0}, {\"date\": 2008.0, \"agriculture\": 59.0, \"domestic\": 111.0, \"public\": 1.0, \"Agriculture_Cum\": 1856.0, \"Domestic_Cum\": 4680.0, \"Public_Cum\": 84.0, \"Agriculture_Active\": 1762.0, \"Domestic_Active\": 4621.0, \"Public_Active\": 84.0}, {\"date\": 2009.0, \"agriculture\": 49.0, \"domestic\": 73.0, \"public\": 3.0, \"Agriculture_Cum\": 1905.0, \"Domestic_Cum\": 4753.0, \"Public_Cum\": 87.0, \"Agriculture_Active\": 1801.0, \"Domestic_Active\": 4689.0, \"Public_Active\": 87.0}, {\"date\": 2010.0, \"agriculture\": 33.0, \"domestic\": 76.0, \"public\": 1.0, \"Agriculture_Cum\": 1938.0, \"Domestic_Cum\": 4829.0, \"Public_Cum\": 88.0, \"Agriculture_Active\": 1818.0, \"Domestic_Active\": 4758.0, \"Public_Active\": 88.0}, {\"date\": 2011.0, \"agriculture\": 42.0, \"domestic\": 50.0, \"public\": null, \"Agriculture_Cum\": 1980.0, \"Domestic_Cum\": 4879.0, \"Public_Cum\": null, \"Agriculture_Active\": 1845.0, \"Domestic_Active\": 4800.0, \"Public_Active\": null}, {\"date\": 2012.0, \"agriculture\": 44.0, \"domestic\": 52.0, \"public\": 1.0, \"Agriculture_Cum\": 2024.0, \"Domestic_Cum\": 4931.0, \"Public_Cum\": 89.0, \"Agriculture_Active\": 1867.0, \"Domestic_Active\": 4831.0, \"Public_Active\": 89.0}, {\"date\": 2013.0, \"agriculture\": 49.0, \"domestic\": 29.0, \"public\": 1.0, \"Agriculture_Cum\": 2073.0, \"Domestic_Cum\": 4960.0, \"Public_Cum\": 90.0, \"Agriculture_Active\": 1892.0, \"Domestic_Active\": 4847.0, \"Public_Active\": 90.0}, {\"date\": 2014.0, \"agriculture\": 95.0, \"domestic\": 21.0, \"public\": 3.0, \"Agriculture_Cum\": 2168.0, \"Domestic_Cum\": 4981.0, \"Public_Cum\": 93.0, \"Agriculture_Active\": 1959.0, \"Domestic_Active\": 4855.0, \"Public_Active\": 93.0}, {\"date\": 2015.0, \"agriculture\": 116.0, \"domestic\": 33.0, \"public\": 3.0, \"Agriculture_Cum\": 2284.0, \"Domestic_Cum\": 5014.0, \"Public_Cum\": 96.0, \"Agriculture_Active\": 2049.0, \"Domestic_Active\": 4869.0, \"Public_Active\": 96.0}, {\"date\": 2016.0, \"agriculture\": 91.0, \"domestic\": 70.0, \"public\": 5.0, \"Agriculture_Cum\": 2375.0, \"Domestic_Cum\": 5084.0, \"Public_Cum\": 101.0, \"Agriculture_Active\": 2111.0, \"Domestic_Active\": 4902.0, \"Public_Active\": 101.0}, {\"date\": 2017.0, \"agriculture\": 55.0, \"domestic\": 32.0, \"public\": 2.0, \"Agriculture_Cum\": 2430.0, \"Domestic_Cum\": 5116.0, \"Public_Cum\": 103.0, \"Agriculture_Active\": 2147.0, \"Domestic_Active\": 4921.0, \"Public_Active\": 103.0}, {\"date\": 2018.0, \"agriculture\": 33.0, \"domestic\": 58.0, \"public\": 3.0, \"Agriculture_Cum\": 2463.0, \"Domestic_Cum\": 5174.0, \"Public_Cum\": 106.0, \"Agriculture_Active\": 2166.0, \"Domestic_Active\": 4967.0, \"Public_Active\": 106.0}, {\"date\": 2019.0, \"agriculture\": 32.0, \"domestic\": 106.0, \"public\": 3.0, \"Agriculture_Cum\": 2495.0, \"Domestic_Cum\": 5280.0, \"Public_Cum\": 109.0, \"Agriculture_Active\": 2183.0, \"Domestic_Active\": 5064.0, \"Public_Active\": 109.0}, {\"date\": 2020.0, \"agriculture\": 32.0, \"domestic\": 121.0, \"public\": 3.0, \"Agriculture_Cum\": 2527.0, \"Domestic_Cum\": 5401.0, \"Public_Cum\": 112.0, \"Agriculture_Active\": 2190.0, \"Domestic_Active\": 5169.0, \"Public_Active\": 112.0}, {\"date\": 2021.0, \"agriculture\": 35.0, \"domestic\": 95.0, \"public\": 3.0, \"Agriculture_Cum\": 2562.0, \"Domestic_Cum\": 5496.0, \"Public_Cum\": 115.0, \"Agriculture_Active\": 2196.0, \"Domestic_Active\": 5240.0, \"Public_Active\": 115.0}], \"data-760616ac29f8c3539989c4f3a3622c3d\": [{\"date\": 2000.0, \"agriculture\": 71.0, \"domestic\": 178.0, \"public\": 18.0, \"Agriculture_Cum\": 6677.0, \"Domestic_Cum\": 11920.0, \"Public_Cum\": 410.0, \"Agriculture_Active\": 6595.0, \"Domestic_Active\": 11822.0, \"Public_Active\": 406.0}, {\"date\": 2001.0, \"agriculture\": 56.0, \"domestic\": 196.0, \"public\": 15.0, \"Agriculture_Cum\": 6733.0, \"Domestic_Cum\": 12116.0, \"Public_Cum\": 425.0, \"Agriculture_Active\": 6454.0, \"Domestic_Active\": 11909.0, \"Public_Active\": 420.0}, {\"date\": 2002.0, \"agriculture\": 49.0, \"domestic\": 79.0, \"public\": 3.0, \"Agriculture_Cum\": 6782.0, \"Domestic_Cum\": 12195.0, \"Public_Cum\": 428.0, \"Agriculture_Active\": 6406.0, \"Domestic_Active\": 11913.0, \"Public_Active\": 421.0}, {\"date\": 2003.0, \"agriculture\": 39.0, \"domestic\": 131.0, \"public\": 13.0, \"Agriculture_Cum\": 6821.0, \"Domestic_Cum\": 12326.0, \"Public_Cum\": 441.0, \"Agriculture_Active\": 6374.0, \"Domestic_Active\": 11980.0, \"Public_Active\": 428.0}, {\"date\": 2004.0, \"agriculture\": 46.0, \"domestic\": 235.0, \"public\": 16.0, \"Agriculture_Cum\": 6867.0, \"Domestic_Cum\": 12561.0, \"Public_Cum\": 457.0, \"Agriculture_Active\": 6262.0, \"Domestic_Active\": 11838.0, \"Public_Active\": 435.0}, {\"date\": 2005.0, \"agriculture\": 51.0, \"domestic\": 243.0, \"public\": 17.0, \"Agriculture_Cum\": 6918.0, \"Domestic_Cum\": 12804.0, \"Public_Cum\": 474.0, \"Agriculture_Active\": 6042.0, \"Domestic_Active\": 11644.0, \"Public_Active\": 445.0}, {\"date\": 2006.0, \"agriculture\": 58.0, \"domestic\": 209.0, \"public\": 17.0, \"Agriculture_Cum\": 6976.0, \"Domestic_Cum\": 13013.0, \"Public_Cum\": 491.0, \"Agriculture_Active\": 5969.0, \"Domestic_Active\": 11624.0, \"Public_Active\": 448.0}, {\"date\": 2007.0, \"agriculture\": 103.0, \"domestic\": 160.0, \"public\": 5.0, \"Agriculture_Cum\": 7079.0, \"Domestic_Cum\": 13173.0, \"Public_Cum\": 496.0, \"Agriculture_Active\": 5965.0, \"Domestic_Active\": 11597.0, \"Public_Active\": 445.0}, {\"date\": 2008.0, \"agriculture\": 114.0, \"domestic\": 160.0, \"public\": 3.0, \"Agriculture_Cum\": 7193.0, \"Domestic_Cum\": 13333.0, \"Public_Cum\": 499.0, \"Agriculture_Active\": 6005.0, \"Domestic_Active\": 11636.0, \"Public_Active\": 440.0}, {\"date\": 2009.0, \"agriculture\": 83.0, \"domestic\": 87.0, \"public\": 2.0, \"Agriculture_Cum\": 7276.0, \"Domestic_Cum\": 13420.0, \"Public_Cum\": 501.0, \"Agriculture_Active\": 5948.0, \"Domestic_Active\": 11534.0, \"Public_Active\": 431.0}, {\"date\": 2010.0, \"agriculture\": 48.0, \"domestic\": 93.0, \"public\": 2.0, \"Agriculture_Cum\": 7324.0, \"Domestic_Cum\": 13513.0, \"Public_Cum\": 503.0, \"Agriculture_Active\": 5847.0, \"Domestic_Active\": 11385.0, \"Public_Active\": 426.0}, {\"date\": 2011.0, \"agriculture\": 51.0, \"domestic\": 57.0, \"public\": 2.0, \"Agriculture_Cum\": 7375.0, \"Domestic_Cum\": 13570.0, \"Public_Cum\": 505.0, \"Agriculture_Active\": 5744.0, \"Domestic_Active\": 11171.0, \"Public_Active\": 420.0}, {\"date\": 2012.0, \"agriculture\": 89.0, \"domestic\": 59.0, \"public\": 3.0, \"Agriculture_Cum\": 7464.0, \"Domestic_Cum\": 13629.0, \"Public_Cum\": 508.0, \"Agriculture_Active\": 5744.0, \"Domestic_Active\": 11106.0, \"Public_Active\": 413.0}, {\"date\": 2013.0, \"agriculture\": 137.0, \"domestic\": 106.0, \"public\": 4.0, \"Agriculture_Cum\": 7601.0, \"Domestic_Cum\": 13735.0, \"Public_Cum\": 512.0, \"Agriculture_Active\": 5814.0, \"Domestic_Active\": 11135.0, \"Public_Active\": 413.0}, {\"date\": 2014.0, \"agriculture\": 254.0, \"domestic\": 171.0, \"public\": 7.0, \"Agriculture_Cum\": 7855.0, \"Domestic_Cum\": 13906.0, \"Public_Cum\": 519.0, \"Agriculture_Active\": 6009.0, \"Domestic_Active\": 11210.0, \"Public_Active\": 417.0}, {\"date\": 2015.0, \"agriculture\": 398.0, \"domestic\": 300.0, \"public\": 5.0, \"Agriculture_Cum\": 8253.0, \"Domestic_Cum\": 14206.0, \"Public_Cum\": 524.0, \"Agriculture_Active\": 6346.0, \"Domestic_Active\": 11399.0, \"Public_Active\": 417.0}, {\"date\": 2016.0, \"agriculture\": 334.0, \"domestic\": 409.0, \"public\": 7.0, \"Agriculture_Cum\": 8587.0, \"Domestic_Cum\": 14615.0, \"Public_Cum\": 531.0, \"Agriculture_Active\": 6590.0, \"Domestic_Active\": 11631.0, \"Public_Active\": 419.0}, {\"date\": 2017.0, \"agriculture\": 114.0, \"domestic\": 155.0, \"public\": 6.0, \"Agriculture_Cum\": 8701.0, \"Domestic_Cum\": 14770.0, \"Public_Cum\": 537.0, \"Agriculture_Active\": 6662.0, \"Domestic_Active\": 11699.0, \"Public_Active\": 424.0}, {\"date\": 2018.0, \"agriculture\": 64.0, \"domestic\": 65.0, \"public\": 4.0, \"Agriculture_Cum\": 8765.0, \"Domestic_Cum\": 14835.0, \"Public_Cum\": 541.0, \"Agriculture_Active\": 6670.0, \"Domestic_Active\": 11671.0, \"Public_Active\": 424.0}, {\"date\": 2019.0, \"agriculture\": 95.0, \"domestic\": 136.0, \"public\": 3.0, \"Agriculture_Cum\": 8860.0, \"Domestic_Cum\": 14971.0, \"Public_Cum\": 544.0, \"Agriculture_Active\": 6726.0, \"Domestic_Active\": 11708.0, \"Public_Active\": 422.0}, {\"date\": 2020.0, \"agriculture\": 129.0, \"domestic\": 192.0, \"public\": 4.0, \"Agriculture_Cum\": 8989.0, \"Domestic_Cum\": 15163.0, \"Public_Cum\": 548.0, \"Agriculture_Active\": 6803.0, \"Domestic_Active\": 11806.0, \"Public_Active\": 423.0}, {\"date\": 2021.0, \"agriculture\": 179.0, \"domestic\": 220.0, \"public\": 3.0, \"Agriculture_Cum\": 9168.0, \"Domestic_Cum\": 15383.0, \"Public_Cum\": 551.0, \"Agriculture_Active\": 6915.0, \"Domestic_Active\": 11867.0, \"Public_Active\": 422.0}], \"data-d11c7f939d462d999789131f37fa9cee\": [{\"date\": 2000.0, \"agriculture\": 24.0, \"domestic\": 135.0, \"public\": null, \"Agriculture_Cum\": 1924.0, \"Domestic_Cum\": 3434.0, \"Public_Cum\": null, \"Agriculture_Active\": 1912.0, \"Domestic_Active\": 3426.0, \"Public_Active\": null}, {\"date\": 2001.0, \"agriculture\": 22.0, \"domestic\": 166.0, \"public\": 2.0, \"Agriculture_Cum\": 1946.0, \"Domestic_Cum\": 3600.0, \"Public_Cum\": 90.0, \"Agriculture_Active\": 1926.0, \"Domestic_Active\": 3580.0, \"Public_Active\": 90.0}, {\"date\": 2002.0, \"agriculture\": 25.0, \"domestic\": 179.0, \"public\": 1.0, \"Agriculture_Cum\": 1971.0, \"Domestic_Cum\": 3779.0, \"Public_Cum\": 91.0, \"Agriculture_Active\": 1932.0, \"Domestic_Active\": 3758.0, \"Public_Active\": 91.0}, {\"date\": 2003.0, \"agriculture\": 41.0, \"domestic\": 178.0, \"public\": null, \"Agriculture_Cum\": 2012.0, \"Domestic_Cum\": 3957.0, \"Public_Cum\": null, \"Agriculture_Active\": 1961.0, \"Domestic_Active\": 3934.0, \"Public_Active\": null}, {\"date\": 2004.0, \"agriculture\": 25.0, \"domestic\": 134.0, \"public\": 4.0, \"Agriculture_Cum\": 2037.0, \"Domestic_Cum\": 4091.0, \"Public_Cum\": 95.0, \"Agriculture_Active\": 1977.0, \"Domestic_Active\": 4062.0, \"Public_Active\": 95.0}, {\"date\": 2005.0, \"agriculture\": 40.0, \"domestic\": 156.0, \"public\": 2.0, \"Agriculture_Cum\": 2077.0, \"Domestic_Cum\": 4247.0, \"Public_Cum\": 97.0, \"Agriculture_Active\": 1982.0, \"Domestic_Active\": 4216.0, \"Public_Active\": 97.0}, {\"date\": 2006.0, \"agriculture\": 5.0, \"domestic\": 22.0, \"public\": 1.0, \"Agriculture_Cum\": 2082.0, \"Domestic_Cum\": 4269.0, \"Public_Cum\": 98.0, \"Agriculture_Active\": 1962.0, \"Domestic_Active\": 4230.0, \"Public_Active\": 98.0}, {\"date\": 2007.0, \"agriculture\": 56.0, \"domestic\": 141.0, \"public\": 2.0, \"Agriculture_Cum\": 2138.0, \"Domestic_Cum\": 4410.0, \"Public_Cum\": 100.0, \"Agriculture_Active\": 1991.0, \"Domestic_Active\": 4365.0, \"Public_Active\": 100.0}, {\"date\": 2008.0, \"agriculture\": 85.0, \"domestic\": 173.0, \"public\": 1.0, \"Agriculture_Cum\": 2223.0, \"Domestic_Cum\": 4583.0, \"Public_Cum\": 101.0, \"Agriculture_Active\": 2057.0, \"Domestic_Active\": 4532.0, \"Public_Active\": 101.0}, {\"date\": 2009.0, \"agriculture\": 85.0, \"domestic\": 97.0, \"public\": 3.0, \"Agriculture_Cum\": 2308.0, \"Domestic_Cum\": 4680.0, \"Public_Cum\": 104.0, \"Agriculture_Active\": 2122.0, \"Domestic_Active\": 4618.0, \"Public_Active\": 104.0}, {\"date\": 2010.0, \"agriculture\": 32.0, \"domestic\": 54.0, \"public\": 2.0, \"Agriculture_Cum\": 2340.0, \"Domestic_Cum\": 4734.0, \"Public_Cum\": 106.0, \"Agriculture_Active\": 2128.0, \"Domestic_Active\": 4664.0, \"Public_Active\": 106.0}, {\"date\": 2011.0, \"agriculture\": 28.0, \"domestic\": 46.0, \"public\": 2.0, \"Agriculture_Cum\": 2368.0, \"Domestic_Cum\": 4780.0, \"Public_Cum\": 108.0, \"Agriculture_Active\": 2103.0, \"Domestic_Active\": 4688.0, \"Public_Active\": 108.0}, {\"date\": 2012.0, \"agriculture\": 46.0, \"domestic\": 91.0, \"public\": 4.0, \"Agriculture_Cum\": 2414.0, \"Domestic_Cum\": 4871.0, \"Public_Cum\": 112.0, \"Agriculture_Active\": 2127.0, \"Domestic_Active\": 4732.0, \"Public_Active\": 112.0}, {\"date\": 2013.0, \"agriculture\": 76.0, \"domestic\": 126.0, \"public\": 2.0, \"Agriculture_Cum\": 2490.0, \"Domestic_Cum\": 4997.0, \"Public_Cum\": 114.0, \"Agriculture_Active\": 2178.0, \"Domestic_Active\": 4818.0, \"Public_Active\": 114.0}, {\"date\": 2014.0, \"agriculture\": 137.0, \"domestic\": 143.0, \"public\": null, \"Agriculture_Cum\": 2627.0, \"Domestic_Cum\": 5140.0, \"Public_Cum\": null, \"Agriculture_Active\": 2264.0, \"Domestic_Active\": 4928.0, \"Public_Active\": null}, {\"date\": 2015.0, \"agriculture\": 268.0, \"domestic\": 195.0, \"public\": 2.0, \"Agriculture_Cum\": 2895.0, \"Domestic_Cum\": 5335.0, \"Public_Cum\": 116.0, \"Agriculture_Active\": 2470.0, \"Domestic_Active\": 5098.0, \"Public_Active\": 116.0}, {\"date\": 2016.0, \"agriculture\": 164.0, \"domestic\": 246.0, \"public\": 4.0, \"Agriculture_Cum\": 3059.0, \"Domestic_Cum\": 5581.0, \"Public_Cum\": 120.0, \"Agriculture_Active\": 2577.0, \"Domestic_Active\": 5300.0, \"Public_Active\": 120.0}, {\"date\": 2017.0, \"agriculture\": 48.0, \"domestic\": 112.0, \"public\": 1.0, \"Agriculture_Cum\": 3107.0, \"Domestic_Cum\": 5693.0, \"Public_Cum\": 121.0, \"Agriculture_Active\": 2602.0, \"Domestic_Active\": 5390.0, \"Public_Active\": 121.0}, {\"date\": 2018.0, \"agriculture\": 21.0, \"domestic\": 53.0, \"public\": 3.0, \"Agriculture_Cum\": 3128.0, \"Domestic_Cum\": 5746.0, \"Public_Cum\": 124.0, \"Agriculture_Active\": 2599.0, \"Domestic_Active\": 5391.0, \"Public_Active\": 124.0}, {\"date\": 2019.0, \"agriculture\": 27.0, \"domestic\": 89.0, \"public\": 1.0, \"Agriculture_Cum\": 3155.0, \"Domestic_Cum\": 5835.0, \"Public_Cum\": 125.0, \"Agriculture_Active\": 2603.0, \"Domestic_Active\": 5428.0, \"Public_Active\": 125.0}, {\"date\": 2020.0, \"agriculture\": 40.0, \"domestic\": 79.0, \"public\": 3.0, \"Agriculture_Cum\": 3195.0, \"Domestic_Cum\": 5914.0, \"Public_Cum\": 128.0, \"Agriculture_Active\": 2613.0, \"Domestic_Active\": 5454.0, \"Public_Active\": 128.0}, {\"date\": 2021.0, \"agriculture\": 32.0, \"domestic\": 65.0, \"public\": null, \"Agriculture_Cum\": 3227.0, \"Domestic_Cum\": 5979.0, \"Public_Cum\": null, \"Agriculture_Active\": 2621.0, \"Domestic_Active\": 5477.0, \"Public_Active\": null}], \"data-62e6ed2bb6fb579af8f23f39047f68bc\": [{\"date\": 2000.0, \"agriculture\": 33.0, \"domestic\": 39.0, \"public\": 2.0, \"Agriculture_Cum\": 1892.0, \"Domestic_Cum\": 1640.0, \"Public_Cum\": 58.0, \"Agriculture_Active\": 1871.0, \"Domestic_Active\": 1635.0, \"Public_Active\": 58.0}, {\"date\": 2001.0, \"agriculture\": 41.0, \"domestic\": 58.0, \"public\": 4.0, \"Agriculture_Cum\": 1933.0, \"Domestic_Cum\": 1698.0, \"Public_Cum\": 62.0, \"Agriculture_Active\": 1886.0, \"Domestic_Active\": 1686.0, \"Public_Active\": 62.0}, {\"date\": 2002.0, \"agriculture\": 52.0, \"domestic\": 47.0, \"public\": 4.0, \"Agriculture_Cum\": 1985.0, \"Domestic_Cum\": 1745.0, \"Public_Cum\": 66.0, \"Agriculture_Active\": 1924.0, \"Domestic_Active\": 1731.0, \"Public_Active\": 66.0}, {\"date\": 2003.0, \"agriculture\": 52.0, \"domestic\": 73.0, \"public\": 1.0, \"Agriculture_Cum\": 2037.0, \"Domestic_Cum\": 1818.0, \"Public_Cum\": 67.0, \"Agriculture_Active\": 1969.0, \"Domestic_Active\": 1802.0, \"Public_Active\": 67.0}, {\"date\": 2004.0, \"agriculture\": 39.0, \"domestic\": 29.0, \"public\": 8.0, \"Agriculture_Cum\": 2076.0, \"Domestic_Cum\": 1847.0, \"Public_Cum\": 75.0, \"Agriculture_Active\": 1990.0, \"Domestic_Active\": 1813.0, \"Public_Active\": 75.0}, {\"date\": 2005.0, \"agriculture\": 36.0, \"domestic\": 71.0, \"public\": 10.0, \"Agriculture_Cum\": 2112.0, \"Domestic_Cum\": 1918.0, \"Public_Cum\": 85.0, \"Agriculture_Active\": 1988.0, \"Domestic_Active\": 1846.0, \"Public_Active\": 85.0}, {\"date\": 2006.0, \"agriculture\": 29.0, \"domestic\": 47.0, \"public\": 2.0, \"Agriculture_Cum\": 2141.0, \"Domestic_Cum\": 1965.0, \"Public_Cum\": 87.0, \"Agriculture_Active\": 1985.0, \"Domestic_Active\": 1874.0, \"Public_Active\": 87.0}, {\"date\": 2007.0, \"agriculture\": 35.0, \"domestic\": 61.0, \"public\": 3.0, \"Agriculture_Cum\": 2176.0, \"Domestic_Cum\": 2026.0, \"Public_Cum\": 90.0, \"Agriculture_Active\": 1977.0, \"Domestic_Active\": 1919.0, \"Public_Active\": 90.0}, {\"date\": 2008.0, \"agriculture\": 51.0, \"domestic\": 39.0, \"public\": 3.0, \"Agriculture_Cum\": 2227.0, \"Domestic_Cum\": 2065.0, \"Public_Cum\": 93.0, \"Agriculture_Active\": 2007.0, \"Domestic_Active\": 1933.0, \"Public_Active\": 93.0}, {\"date\": 2009.0, \"agriculture\": 66.0, \"domestic\": 39.0, \"public\": 5.0, \"Agriculture_Cum\": 2293.0, \"Domestic_Cum\": 2104.0, \"Public_Cum\": 98.0, \"Agriculture_Active\": 2036.0, \"Domestic_Active\": 1939.0, \"Public_Active\": 98.0}, {\"date\": 2010.0, \"agriculture\": 32.0, \"domestic\": 28.0, \"public\": 3.0, \"Agriculture_Cum\": 2325.0, \"Domestic_Cum\": 2132.0, \"Public_Cum\": 101.0, \"Agriculture_Active\": 2004.0, \"Domestic_Active\": 1931.0, \"Public_Active\": 101.0}, {\"date\": 2011.0, \"agriculture\": 29.0, \"domestic\": 19.0, \"public\": 2.0, \"Agriculture_Cum\": 2354.0, \"Domestic_Cum\": 2151.0, \"Public_Cum\": 103.0, \"Agriculture_Active\": 1972.0, \"Domestic_Active\": 1917.0, \"Public_Active\": 103.0}, {\"date\": 2012.0, \"agriculture\": 28.0, \"domestic\": 15.0, \"public\": 2.0, \"Agriculture_Cum\": 2382.0, \"Domestic_Cum\": 2166.0, \"Public_Cum\": 105.0, \"Agriculture_Active\": 1970.0, \"Domestic_Active\": 1891.0, \"Public_Active\": 105.0}, {\"date\": 2013.0, \"agriculture\": 71.0, \"domestic\": 20.0, \"public\": 1.0, \"Agriculture_Cum\": 2453.0, \"Domestic_Cum\": 2186.0, \"Public_Cum\": 106.0, \"Agriculture_Active\": 2001.0, \"Domestic_Active\": 1887.0, \"Public_Active\": 106.0}, {\"date\": 2014.0, \"agriculture\": 88.0, \"domestic\": 16.0, \"public\": 2.0, \"Agriculture_Cum\": 2541.0, \"Domestic_Cum\": 2202.0, \"Public_Cum\": 108.0, \"Agriculture_Active\": 2075.0, \"Domestic_Active\": 1872.0, \"Public_Active\": 108.0}, {\"date\": 2015.0, \"agriculture\": 130.0, \"domestic\": 41.0, \"public\": 3.0, \"Agriculture_Cum\": 2671.0, \"Domestic_Cum\": 2243.0, \"Public_Cum\": 111.0, \"Agriculture_Active\": 2170.0, \"Domestic_Active\": 1884.0, \"Public_Active\": 111.0}, {\"date\": 2016.0, \"agriculture\": 116.0, \"domestic\": 64.0, \"public\": 1.0, \"Agriculture_Cum\": 2787.0, \"Domestic_Cum\": 2307.0, \"Public_Cum\": 112.0, \"Agriculture_Active\": 2245.0, \"Domestic_Active\": 1911.0, \"Public_Active\": 112.0}, {\"date\": 2017.0, \"agriculture\": 38.0, \"domestic\": 24.0, \"public\": null, \"Agriculture_Cum\": 2825.0, \"Domestic_Cum\": 2331.0, \"Public_Cum\": null, \"Agriculture_Active\": 2258.0, \"Domestic_Active\": 1909.0, \"Public_Active\": null}, {\"date\": 2018.0, \"agriculture\": 39.0, \"domestic\": 31.0, \"public\": null, \"Agriculture_Cum\": 2864.0, \"Domestic_Cum\": 2362.0, \"Public_Cum\": null, \"Agriculture_Active\": 2274.0, \"Domestic_Active\": 1912.0, \"Public_Active\": null}, {\"date\": 2019.0, \"agriculture\": 43.0, \"domestic\": 41.0, \"public\": null, \"Agriculture_Cum\": 2907.0, \"Domestic_Cum\": 2403.0, \"Public_Cum\": null, \"Agriculture_Active\": 2307.0, \"Domestic_Active\": 1919.0, \"Public_Active\": null}, {\"date\": 2020.0, \"agriculture\": 57.0, \"domestic\": 49.0, \"public\": 1.0, \"Agriculture_Cum\": 2964.0, \"Domestic_Cum\": 2452.0, \"Public_Cum\": 113.0, \"Agriculture_Active\": 2348.0, \"Domestic_Active\": 1943.0, \"Public_Active\": 113.0}, {\"date\": 2021.0, \"agriculture\": 39.0, \"domestic\": 48.0, \"public\": null, \"Agriculture_Cum\": 3003.0, \"Domestic_Cum\": 2500.0, \"Public_Cum\": null, \"Agriculture_Active\": 2371.0, \"Domestic_Active\": 1968.0, \"Public_Active\": null}]}}, {\"mode\": \"vega-lite\"});\n",
       "</script>"
      ],
      "text/plain": [
       "alt.HConcatChart(...)"
      ]
     },
     "execution_count": 387,
     "metadata": {},
     "output_type": "execute_result"
    }
   ],
   "source": [
    "chart_tulare = alt.Chart(grouped_date_use_tulare[grouped_date_use_tulare['date'] >= 2000]).mark_line().encode(\n",
    "    x='date:O',\n",
    "    y='Agriculture_Active:Q'\n",
    ").properties(\n",
    "    height=200,\n",
    "    width=200\n",
    ")\n",
    "\n",
    "grouped_date_use_fresno = active_by_county('Fresno')\n",
    "chart_fresno = alt.Chart(grouped_date_use_fresno[grouped_date_use_fresno['date'] >= 2000]).mark_line().encode(\n",
    "    x='date:O',\n",
    "    y='Agriculture_Active:Q'\n",
    ").properties(\n",
    "    height=200,\n",
    "    width=200\n",
    ")\n",
    "\n",
    "grouped_date_use_merced = active_by_county('Merced')\n",
    "chart_merced = alt.Chart(grouped_date_use_merced[grouped_date_use_merced['date'] >= 2000]).mark_line().encode(\n",
    "    x='date:O',\n",
    "    y='Agriculture_Active:Q'\n",
    ").properties(\n",
    "    height=200,\n",
    "    width=200\n",
    ")\n",
    "\n",
    "grouped_date_use_kings = active_by_county('Kings')\n",
    "chart_kings = alt.Chart(grouped_date_use_kings[grouped_date_use_kings['date'] >= 2000]).mark_line().encode(\n",
    "    x='date:O',\n",
    "    y='Agriculture_Active:Q'\n",
    ").properties(\n",
    "    height=200,\n",
    "    width=200\n",
    ")\n",
    "\n",
    "grouped_date_use_madera = active_by_county('Madera')\n",
    "chart_madera = alt.Chart(grouped_date_use_madera[grouped_date_use_madera['date'] >= 2000]).mark_line().encode(\n",
    "    x='date:O',\n",
    "    y='Agriculture_Active:Q'\n",
    ").properties(\n",
    "    height=200,\n",
    "    width=200\n",
    ")\n",
    "\n",
    "chart_tulare | chart_madera | chart_fresno | chart_merced | chart_kings"
   ]
  },
  {
   "cell_type": "markdown",
   "id": "4c430b53-d554-4a90-92f2-24384e59f958",
   "metadata": {
    "tags": []
   },
   "source": [
    "## Overall water table changes from given start year"
   ]
  },
  {
   "cell_type": "code",
   "execution_count": 24,
   "id": "aeabcab6-2206-452a-bfcd-76f139df5e07",
   "metadata": {},
   "outputs": [
    {
     "data": {
      "text/html": [
       "<div>\n",
       "<style scoped>\n",
       "    .dataframe tbody tr th:only-of-type {\n",
       "        vertical-align: middle;\n",
       "    }\n",
       "\n",
       "    .dataframe tbody tr th {\n",
       "        vertical-align: top;\n",
       "    }\n",
       "\n",
       "    .dataframe thead th {\n",
       "        text-align: right;\n",
       "    }\n",
       "</style>\n",
       "<table border=\"1\" class=\"dataframe\">\n",
       "  <thead>\n",
       "    <tr style=\"text-align: right;\">\n",
       "      <th></th>\n",
       "      <th>site</th>\n",
       "      <th>MTRS</th>\n",
       "      <th>TownshipRange</th>\n",
       "      <th>county</th>\n",
       "      <th>year</th>\n",
       "      <th>gse_gwe</th>\n",
       "    </tr>\n",
       "  </thead>\n",
       "  <tbody>\n",
       "    <tr>\n",
       "      <th>234633</th>\n",
       "      <td>374327N1208504W001</td>\n",
       "      <td>MDM-T06S-R10E-10</td>\n",
       "      <td>T06S R10E</td>\n",
       "      <td>Merced</td>\n",
       "      <td>1959</td>\n",
       "      <td>7.55</td>\n",
       "    </tr>\n",
       "  </tbody>\n",
       "</table>\n",
       "</div>"
      ],
      "text/plain": [
       "                      site              MTRS TownshipRange  county  year  \\\n",
       "234633  374327N1208504W001  MDM-T06S-R10E-10     T06S R10E  Merced  1959   \n",
       "\n",
       "        gse_gwe  \n",
       "234633     7.55  "
      ]
     },
     "execution_count": 24,
     "metadata": {},
     "output_type": "execute_result"
    }
   ],
   "source": [
    "levels.sample()"
   ]
  },
  {
   "cell_type": "code",
   "execution_count": 25,
   "id": "cc0844f2-52a9-4e1b-a323-fd32a5d8c788",
   "metadata": {},
   "outputs": [],
   "source": [
    "# Group wells that had multiple measurements each spring and get the average\n",
    "levels_group = levels.groupby(['site','county','year']).agg({\n",
    "    'gse_gwe': ['mean'],\n",
    "}).reset_index()\n",
    "levels_group.columns = ['site','county','year','gse_gwe']"
   ]
  },
  {
   "cell_type": "code",
   "execution_count": 26,
   "id": "c77d63f0-930e-45e5-889b-23f382c5a207",
   "metadata": {},
   "outputs": [],
   "source": [
    "def get_level_change_overall(start_year):\n",
    "    # Filter for the years that we are interested in\n",
    "    levels_group_trim = levels_group[levels_group['year'] >= start_year]\n",
    "    avg_change_year = levels_group_trim.groupby(['year']).agg({\n",
    "        'gse_gwe':['mean', 'count']\n",
    "    }).reset_index()\n",
    "    avg_change_year.columns = ['year','level','count']\n",
    "    start = avg_change_year[avg_change_year['year'] == start_year]['level'].iloc[0]\n",
    "    avg_change_year['start_level'] = start\n",
    "    avg_change_year['diff_start'] = avg_change_year['start_level'] - avg_change_year['level']\n",
    "    return avg_change_year"
   ]
  },
  {
   "cell_type": "code",
   "execution_count": 27,
   "id": "5e3ee4b4-1128-4693-b4d3-f4e692174147",
   "metadata": {
    "tags": []
   },
   "outputs": [
    {
     "data": {
      "text/html": [
       "<div>\n",
       "<style scoped>\n",
       "    .dataframe tbody tr th:only-of-type {\n",
       "        vertical-align: middle;\n",
       "    }\n",
       "\n",
       "    .dataframe tbody tr th {\n",
       "        vertical-align: top;\n",
       "    }\n",
       "\n",
       "    .dataframe thead th {\n",
       "        text-align: right;\n",
       "    }\n",
       "</style>\n",
       "<table border=\"1\" class=\"dataframe\">\n",
       "  <thead>\n",
       "    <tr style=\"text-align: right;\">\n",
       "      <th></th>\n",
       "      <th>year</th>\n",
       "      <th>level</th>\n",
       "      <th>count</th>\n",
       "      <th>start_level</th>\n",
       "      <th>diff_start</th>\n",
       "    </tr>\n",
       "  </thead>\n",
       "  <tbody>\n",
       "    <tr>\n",
       "      <th>71</th>\n",
       "      <td>2021</td>\n",
       "      <td>172.283911</td>\n",
       "      <td>1398</td>\n",
       "      <td>67.813887</td>\n",
       "      <td>-104.470024</td>\n",
       "    </tr>\n",
       "  </tbody>\n",
       "</table>\n",
       "</div>"
      ],
      "text/plain": [
       "    year       level  count  start_level  diff_start\n",
       "71  2021  172.283911   1398    67.813887 -104.470024"
      ]
     },
     "execution_count": 27,
     "metadata": {},
     "output_type": "execute_result"
    }
   ],
   "source": [
    "overall_level_change_1950 = get_level_change_overall(1950)\n",
    "overall_level_change_1950.tail(1)"
   ]
  },
  {
   "cell_type": "code",
   "execution_count": 28,
   "id": "de01f8fa-f084-4c7f-bc66-f87b8679ad85",
   "metadata": {},
   "outputs": [
    {
     "data": {
      "text/html": [
       "<div>\n",
       "<style scoped>\n",
       "    .dataframe tbody tr th:only-of-type {\n",
       "        vertical-align: middle;\n",
       "    }\n",
       "\n",
       "    .dataframe tbody tr th {\n",
       "        vertical-align: top;\n",
       "    }\n",
       "\n",
       "    .dataframe thead th {\n",
       "        text-align: right;\n",
       "    }\n",
       "</style>\n",
       "<table border=\"1\" class=\"dataframe\">\n",
       "  <thead>\n",
       "    <tr style=\"text-align: right;\">\n",
       "      <th></th>\n",
       "      <th>year</th>\n",
       "      <th>level</th>\n",
       "      <th>count</th>\n",
       "      <th>start_level</th>\n",
       "      <th>diff_start</th>\n",
       "    </tr>\n",
       "  </thead>\n",
       "  <tbody>\n",
       "    <tr>\n",
       "      <th>10</th>\n",
       "      <td>2021</td>\n",
       "      <td>172.283911</td>\n",
       "      <td>1398</td>\n",
       "      <td>128.768708</td>\n",
       "      <td>-43.515203</td>\n",
       "    </tr>\n",
       "  </tbody>\n",
       "</table>\n",
       "</div>"
      ],
      "text/plain": [
       "    year       level  count  start_level  diff_start\n",
       "10  2021  172.283911   1398   128.768708  -43.515203"
      ]
     },
     "execution_count": 28,
     "metadata": {},
     "output_type": "execute_result"
    }
   ],
   "source": [
    "overall_level_change_2011 = get_level_change_overall(2011)\n",
    "overall_level_change_2011.tail(1)"
   ]
  },
  {
   "cell_type": "code",
   "execution_count": 29,
   "id": "5143e4a0-3f68-4a35-a7a0-2956490f1bd2",
   "metadata": {},
   "outputs": [
    {
     "data": {
      "text/html": [
       "\n",
       "<div id=\"altair-viz-1cd6d1c190ba41fb8f15c4a9ad393332\"></div>\n",
       "<script type=\"text/javascript\">\n",
       "  (function(spec, embedOpt){\n",
       "    let outputDiv = document.currentScript.previousElementSibling;\n",
       "    if (outputDiv.id !== \"altair-viz-1cd6d1c190ba41fb8f15c4a9ad393332\") {\n",
       "      outputDiv = document.getElementById(\"altair-viz-1cd6d1c190ba41fb8f15c4a9ad393332\");\n",
       "    }\n",
       "    const paths = {\n",
       "      \"vega\": \"https://cdn.jsdelivr.net/npm//vega@5?noext\",\n",
       "      \"vega-lib\": \"https://cdn.jsdelivr.net/npm//vega-lib?noext\",\n",
       "      \"vega-lite\": \"https://cdn.jsdelivr.net/npm//vega-lite@4.8.1?noext\",\n",
       "      \"vega-embed\": \"https://cdn.jsdelivr.net/npm//vega-embed@6?noext\",\n",
       "    };\n",
       "\n",
       "    function loadScript(lib) {\n",
       "      return new Promise(function(resolve, reject) {\n",
       "        var s = document.createElement('script');\n",
       "        s.src = paths[lib];\n",
       "        s.async = true;\n",
       "        s.onload = () => resolve(paths[lib]);\n",
       "        s.onerror = () => reject(`Error loading script: ${paths[lib]}`);\n",
       "        document.getElementsByTagName(\"head\")[0].appendChild(s);\n",
       "      });\n",
       "    }\n",
       "\n",
       "    function showError(err) {\n",
       "      outputDiv.innerHTML = `<div class=\"error\" style=\"color:red;\">${err}</div>`;\n",
       "      throw err;\n",
       "    }\n",
       "\n",
       "    function displayChart(vegaEmbed) {\n",
       "      vegaEmbed(outputDiv, spec, embedOpt)\n",
       "        .catch(err => showError(`Javascript Error: ${err.message}<br>This usually means there's a typo in your chart specification. See the javascript console for the full traceback.`));\n",
       "    }\n",
       "\n",
       "    if(typeof define === \"function\" && define.amd) {\n",
       "      requirejs.config({paths});\n",
       "      require([\"vega-embed\"], displayChart, err => showError(`Error loading script: ${err.message}`));\n",
       "    } else if (typeof vegaEmbed === \"function\") {\n",
       "      displayChart(vegaEmbed);\n",
       "    } else {\n",
       "      loadScript(\"vega\")\n",
       "        .then(() => loadScript(\"vega-lite\"))\n",
       "        .then(() => loadScript(\"vega-embed\"))\n",
       "        .catch(showError)\n",
       "        .then(() => displayChart(vegaEmbed));\n",
       "    }\n",
       "  })({\"config\": {\"view\": {\"width\": 800, \"height\": 450}, \"background\": \"#ffffff\", \"title\": {\"anchor\": \"start\", \"font\": \"BentonGothic-Bold, sans\", \"fontColor\": \"#000000\", \"fontSize\": 22, \"fontWeight\": \"normal\"}, \"arc\": {\"fill\": \"#82c6df\"}, \"area\": {\"fill\": \"#82c6df\"}, \"line\": {\"stroke\": \"#82c6df\", \"strokeWidth\": 3}, \"path\": {\"stroke\": \"#82c6df\"}, \"rect\": {\"fill\": \"#82c6df\"}, \"shape\": {\"stroke\": \"#82c6df\"}, \"bar\": {\"fill\": \"#82c6df\"}, \"point\": {\"stroke\": \"#82c6df\"}, \"symbol\": {\"fill\": \"#82c6df\", \"size\": 30}, \"axis\": {\"titleFont\": \"BentonGothic-Bold, sans\", \"titleFontSize\": 14, \"titleFontWeight\": \"normal\", \"labelFont\": \"BentonGothic, sans\", \"labelFontSize\": 12, \"labelFontWeight\": \"normal\"}, \"axisX\": {\"labelAngle\": 0, \"labelPadding\": 4, \"tickSize\": 3}, \"axisY\": {\"labelBaseline\": \"middle\", \"maxExtent\": 45, \"minExtent\": 45, \"tickSize\": 2, \"titleAlign\": \"left\", \"titleAngle\": 0, \"titleX\": -45, \"titleY\": -11}, \"legend\": {\"titleFont\": \"BentonGothic-Bold, sans\", \"titleFontSize\": 14, \"titleFontWeight\": \"normal\", \"symbolType\": \"square\", \"labelFont\": \"BentonGothic, sans\", \"labelFontSize\": 13}, \"range\": {\"category\": [\"#3580b1\", \"#ec8431\", \"#ab7fb4\", \"#c89d29\", \"#adc839\", \"#829eb1\"], \"diverging\": [\"#e68a4f\", \"#f4bb6a\", \"#f9e39c\", \"#dadfe2\", \"#a6b7c6\", \"#849eae\"], \"heatmap\": [\"#fbf2c7\", \"#f9e39c\", \"#f8d36e\", \"#f4bb6a\", \"#e68a4f\", \"#d15a40\", \"#ab4232\"], \"ordinal\": [\"#fbf2c7\", \"#f9e39c\", \"#f8d36e\", \"#f4bb6a\", \"#e68a4f\", \"#d15a40\", \"#ab4232\"], \"ramp\": [\"#fbf2c7\", \"#f9e39c\", \"#f8d36e\", \"#f4bb6a\", \"#e68a4f\", \"#d15a40\", \"#ab4232\"]}}, \"data\": {\"name\": \"data-6336134c884c7a49c719846ff78fef1d\"}, \"mark\": \"line\", \"encoding\": {\"tooltip\": [{\"type\": \"quantitative\", \"field\": \"year\"}, {\"type\": \"quantitative\", \"field\": \"diff_start\"}], \"x\": {\"type\": \"ordinal\", \"field\": \"year\"}, \"y\": {\"type\": \"quantitative\", \"field\": \"diff_start\"}}, \"$schema\": \"https://vega.github.io/schema/vega-lite/v4.8.1.json\", \"datasets\": {\"data-6336134c884c7a49c719846ff78fef1d\": [{\"year\": 1950, \"level\": 67.81388706140352, \"count\": 1368, \"start_level\": 67.81388706140352, \"diff_start\": 0.0}, {\"year\": 1951, \"level\": 75.02733086572074, \"count\": 1621, \"start_level\": 67.81388706140352, \"diff_start\": -7.213443804317222}, {\"year\": 1952, \"level\": 77.57851166948993, \"count\": 1771, \"start_level\": 67.81388706140352, \"diff_start\": -9.764624608086407}, {\"year\": 1953, \"level\": 77.87571065989849, \"count\": 1773, \"start_level\": 67.81388706140352, \"diff_start\": -10.061823598494968}, {\"year\": 1954, \"level\": 77.00853459747172, \"count\": 2004, \"start_level\": 67.81388706140352, \"diff_start\": -9.194647536068203}, {\"year\": 1955, \"level\": 76.97831369497555, \"count\": 2249, \"start_level\": 67.81388706140352, \"diff_start\": -9.164426633572035}, {\"year\": 1956, \"level\": 76.7608524049281, \"count\": 2913, \"start_level\": 67.81388706140352, \"diff_start\": -8.946965343524582}, {\"year\": 1957, \"level\": 85.75379460956643, \"count\": 3129, \"start_level\": 67.81388706140352, \"diff_start\": -17.939907548162907}, {\"year\": 1958, \"level\": 73.96414265780186, \"count\": 4061, \"start_level\": 67.81388706140352, \"diff_start\": -6.150255596398338}, {\"year\": 1959, \"level\": 64.22879497129921, \"count\": 4123, \"start_level\": 67.81388706140352, \"diff_start\": 3.585092090104311}, {\"year\": 1960, \"level\": 74.09005100303501, \"count\": 4503, \"start_level\": 67.81388706140352, \"diff_start\": -6.276163941631495}, {\"year\": 1961, \"level\": 84.63347258362157, \"count\": 4447, \"start_level\": 67.81388706140352, \"diff_start\": -16.81958552221805}, {\"year\": 1962, \"level\": 99.95751585335984, \"count\": 5249, \"start_level\": 67.81388706140352, \"diff_start\": -32.14362879195632}, {\"year\": 1963, \"level\": 82.00799750962192, \"count\": 5048, \"start_level\": 67.81388706140352, \"diff_start\": -14.194110448218396}, {\"year\": 1964, \"level\": 85.12990785881435, \"count\": 5128, \"start_level\": 67.81388706140352, \"diff_start\": -17.31602079741083}, {\"year\": 1965, \"level\": 81.44071812080536, \"count\": 5215, \"start_level\": 67.81388706140352, \"diff_start\": -13.626831059401837}, {\"year\": 1966, \"level\": 83.19469918074758, \"count\": 5208, \"start_level\": 67.81388706140352, \"diff_start\": -15.380812119344057}, {\"year\": 1967, \"level\": 88.94588334916112, \"count\": 5265, \"start_level\": 67.81388706140352, \"diff_start\": -21.1319962877576}, {\"year\": 1968, \"level\": 82.87875957022453, \"count\": 5181, \"start_level\": 67.81388706140352, \"diff_start\": -15.064872508821011}, {\"year\": 1969, \"level\": 85.70750523745261, \"count\": 5187, \"start_level\": 67.81388706140352, \"diff_start\": -17.893618176049088}, {\"year\": 1970, \"level\": 75.05386940953926, \"count\": 4934, \"start_level\": 67.81388706140352, \"diff_start\": -7.23998234813574}, {\"year\": 1971, \"level\": 86.76849155908639, \"count\": 5035, \"start_level\": 67.81388706140352, \"diff_start\": -18.954604497682865}, {\"year\": 1972, \"level\": 108.47278747369724, \"count\": 5386, \"start_level\": 67.81388706140352, \"diff_start\": -40.65890041229372}, {\"year\": 1973, \"level\": 110.79714078557467, \"count\": 5287, \"start_level\": 67.81388706140352, \"diff_start\": -42.98325372417115}, {\"year\": 1974, \"level\": 102.8700939813936, \"count\": 5267, \"start_level\": 67.81388706140352, \"diff_start\": -35.056206919990075}, {\"year\": 1975, \"level\": 93.56021221532092, \"count\": 4830, \"start_level\": 67.81388706140352, \"diff_start\": -25.746325153917397}, {\"year\": 1976, \"level\": 96.25520685579197, \"count\": 4230, \"start_level\": 67.81388706140352, \"diff_start\": -28.44131979438845}, {\"year\": 1977, \"level\": 99.9562342226047, \"count\": 4648, \"start_level\": 67.81388706140352, \"diff_start\": -32.14234716120119}, {\"year\": 1978, \"level\": 106.26709545115585, \"count\": 4470, \"start_level\": 67.81388706140352, \"diff_start\": -38.453208389752334}, {\"year\": 1979, \"level\": 106.90610398565715, \"count\": 4834, \"start_level\": 67.81388706140352, \"diff_start\": -39.092216924253634}, {\"year\": 1980, \"level\": 110.50780352223533, \"count\": 5082, \"start_level\": 67.81388706140352, \"diff_start\": -42.693916460831815}, {\"year\": 1981, \"level\": 96.3587562677131, \"count\": 4587, \"start_level\": 67.81388706140352, \"diff_start\": -28.544869206309585}, {\"year\": 1982, \"level\": 108.25590288833295, \"count\": 4397, \"start_level\": 67.81388706140352, \"diff_start\": -40.442015826929435}, {\"year\": 1983, \"level\": 97.30629808799816, \"count\": 4341, \"start_level\": 67.81388706140352, \"diff_start\": -29.492411026594638}, {\"year\": 1984, \"level\": 92.74805608494418, \"count\": 3673, \"start_level\": 67.81388706140352, \"diff_start\": -24.93416902354066}, {\"year\": 1985, \"level\": 96.90429287863591, \"count\": 3988, \"start_level\": 67.81388706140352, \"diff_start\": -29.090405817232394}, {\"year\": 1986, \"level\": 100.73745624455532, \"count\": 4209, \"start_level\": 67.81388706140352, \"diff_start\": -32.9235691831518}, {\"year\": 1987, \"level\": 91.83480632304, \"count\": 4307, \"start_level\": 67.81388706140352, \"diff_start\": -24.02091926163648}, {\"year\": 1988, \"level\": 98.80789651262803, \"count\": 4263, \"start_level\": 67.81388706140352, \"diff_start\": -30.994009451224514}, {\"year\": 1989, \"level\": 106.54154441415919, \"count\": 4381, \"start_level\": 67.81388706140352, \"diff_start\": -38.72765735275567}, {\"year\": 1990, \"level\": 115.4134483734509, \"count\": 4196, \"start_level\": 67.81388706140352, \"diff_start\": -47.599561312047385}, {\"year\": 1991, \"level\": 108.449669709263, \"count\": 4060, \"start_level\": 67.81388706140352, \"diff_start\": -40.635782647859486}, {\"year\": 1992, \"level\": 117.95174995281238, \"count\": 4415, \"start_level\": 67.81388706140352, \"diff_start\": -50.13786289140886}, {\"year\": 1993, \"level\": 116.86443662040277, \"count\": 4287, \"start_level\": 67.81388706140352, \"diff_start\": -49.05054955899925}, {\"year\": 1994, \"level\": 112.8815558717361, \"count\": 4217, \"start_level\": 67.81388706140352, \"diff_start\": -45.06766881033258}, {\"year\": 1995, \"level\": 114.18072609160266, \"count\": 3945, \"start_level\": 67.81388706140352, \"diff_start\": -46.366839030199145}, {\"year\": 1996, \"level\": 110.46742306667731, \"count\": 4171, \"start_level\": 67.81388706140352, \"diff_start\": -42.65353600527379}, {\"year\": 1997, \"level\": 104.7246225260511, \"count\": 4055, \"start_level\": 67.81388706140352, \"diff_start\": -36.91073546464759}, {\"year\": 1998, \"level\": 105.62560684265826, \"count\": 3807, \"start_level\": 67.81388706140352, \"diff_start\": -37.81171978125474}, {\"year\": 1999, \"level\": 98.27211999157109, \"count\": 3691, \"start_level\": 67.81388706140352, \"diff_start\": -30.45823293016757}, {\"year\": 2000, \"level\": 99.03860026132172, \"count\": 4179, \"start_level\": 67.81388706140352, \"diff_start\": -31.2247131999182}, {\"year\": 2001, \"level\": 102.8297784337006, \"count\": 4131, \"start_level\": 67.81388706140352, \"diff_start\": -35.01589137229708}, {\"year\": 2002, \"level\": 107.63914419726615, \"count\": 3198, \"start_level\": 67.81388706140352, \"diff_start\": -39.82525713586263}, {\"year\": 2003, \"level\": 109.08398095519802, \"count\": 3435, \"start_level\": 67.81388706140352, \"diff_start\": -41.270093893794495}, {\"year\": 2004, \"level\": 99.09727930988826, \"count\": 4027, \"start_level\": 67.81388706140352, \"diff_start\": -31.283392248484745}, {\"year\": 2005, \"level\": 96.41448723455022, \"count\": 4191, \"start_level\": 67.81388706140352, \"diff_start\": -28.600600173146702}, {\"year\": 2006, \"level\": 90.23603319424252, \"count\": 4208, \"start_level\": 67.81388706140352, \"diff_start\": -22.422146132839003}, {\"year\": 2007, \"level\": 93.20974412814054, \"count\": 4360, \"start_level\": 67.81388706140352, \"diff_start\": -25.395857066737022}, {\"year\": 2008, \"level\": 107.27103841908713, \"count\": 3711, \"start_level\": 67.81388706140352, \"diff_start\": -39.457151357683614}, {\"year\": 2009, \"level\": 113.97573163884448, \"count\": 3311, \"start_level\": 67.81388706140352, \"diff_start\": -46.16184457744096}, {\"year\": 2010, \"level\": 124.68443654141204, \"count\": 2765, \"start_level\": 67.81388706140352, \"diff_start\": -56.87054948000852}, {\"year\": 2011, \"level\": 128.76870781746032, \"count\": 2800, \"start_level\": 67.81388706140352, \"diff_start\": -60.954820756056804}, {\"year\": 2012, \"level\": 121.24149922471824, \"count\": 2625, \"start_level\": 67.81388706140352, \"diff_start\": -53.42761216331472}, {\"year\": 2013, \"level\": 150.3552766971115, \"count\": 2609, \"start_level\": 67.81388706140352, \"diff_start\": -82.54138963570797}, {\"year\": 2014, \"level\": 161.82497219836398, \"count\": 2309, \"start_level\": 67.81388706140352, \"diff_start\": -94.01108513696046}, {\"year\": 2015, \"level\": 187.94223483110684, \"count\": 1966, \"start_level\": 67.81388706140352, \"diff_start\": -120.12834776970332}, {\"year\": 2016, \"level\": 170.92495886653293, \"count\": 2176, \"start_level\": 67.81388706140352, \"diff_start\": -103.11107180512941}, {\"year\": 2017, \"level\": 171.6590750679182, \"count\": 2000, \"start_level\": 67.81388706140352, \"diff_start\": -103.84518800651468}, {\"year\": 2018, \"level\": 166.48778088258797, \"count\": 1887, \"start_level\": 67.81388706140352, \"diff_start\": -98.67389382118445}, {\"year\": 2019, \"level\": 161.64691577464166, \"count\": 2099, \"start_level\": 67.81388706140352, \"diff_start\": -93.83302871323814}, {\"year\": 2020, \"level\": 166.97649967610988, \"count\": 1654, \"start_level\": 67.81388706140352, \"diff_start\": -99.16261261470636}, {\"year\": 2021, \"level\": 172.28391070577015, \"count\": 1398, \"start_level\": 67.81388706140352, \"diff_start\": -104.47002364436663}]}}, {\"mode\": \"vega-lite\"});\n",
       "</script>"
      ],
      "text/plain": [
       "alt.Chart(...)"
      ]
     },
     "execution_count": 29,
     "metadata": {},
     "output_type": "execute_result"
    }
   ],
   "source": [
    "alt.Chart(overall_level_change_1950).mark_line().encode(\n",
    "    x='year:O',\n",
    "    y=alt.Y('diff_start:Q'),\n",
    "    tooltip=['year', 'diff_start']\n",
    ")"
   ]
  },
  {
   "cell_type": "markdown",
   "id": "3fc11056-1af8-419c-8a89-e0fe1c27eb68",
   "metadata": {
    "tags": []
   },
   "source": [
    "## Dry wells from 2020-2021 water level changes"
   ]
  },
  {
   "cell_type": "code",
   "execution_count": 30,
   "id": "dbfd51a4-c476-4e86-a983-fedd56bd9378",
   "metadata": {},
   "outputs": [],
   "source": [
    "# group spring measurements by range and year\n",
    "range_levels = levels.groupby(['TownshipRange','year']).agg({\n",
    "    'gse_gwe': ['mean'],\n",
    "}).reset_index()\n",
    "range_levels.columns = ['TownshipRange','year','gse_gwe']"
   ]
  },
  {
   "cell_type": "code",
   "execution_count": 33,
   "id": "8ea9ed23-0ee7-4914-8349-7062dd960cfe",
   "metadata": {},
   "outputs": [
    {
     "data": {
      "text/html": [
       "<div>\n",
       "<style scoped>\n",
       "    .dataframe tbody tr th:only-of-type {\n",
       "        vertical-align: middle;\n",
       "    }\n",
       "\n",
       "    .dataframe tbody tr th {\n",
       "        vertical-align: top;\n",
       "    }\n",
       "\n",
       "    .dataframe thead th {\n",
       "        text-align: right;\n",
       "    }\n",
       "</style>\n",
       "<table border=\"1\" class=\"dataframe\">\n",
       "  <thead>\n",
       "    <tr style=\"text-align: right;\">\n",
       "      <th></th>\n",
       "      <th>TownshipRange</th>\n",
       "      <th>year</th>\n",
       "      <th>gse_gwe</th>\n",
       "    </tr>\n",
       "  </thead>\n",
       "  <tbody>\n",
       "    <tr>\n",
       "      <th>1314</th>\n",
       "      <td>T02S R05E</td>\n",
       "      <td>2021</td>\n",
       "      <td>76.44875</td>\n",
       "    </tr>\n",
       "  </tbody>\n",
       "</table>\n",
       "</div>"
      ],
      "text/plain": [
       "     TownshipRange  year   gse_gwe\n",
       "1314     T02S R05E  2021  76.44875"
      ]
     },
     "execution_count": 33,
     "metadata": {},
     "output_type": "execute_result"
    }
   ],
   "source": [
    "# create datasets for each year\n",
    "range_levels_2020 = range_levels[range_levels['year'] == 2020]\n",
    "range_levels_2021 = range_levels[range_levels['year'] == 2021]\n",
    "range_levels_2021.sample()"
   ]
  },
  {
   "cell_type": "code",
   "execution_count": 34,
   "id": "1eb598cd-3c73-4c92-9eff-10083bc91d17",
   "metadata": {},
   "outputs": [
    {
     "data": {
      "text/html": [
       "<div>\n",
       "<style scoped>\n",
       "    .dataframe tbody tr th:only-of-type {\n",
       "        vertical-align: middle;\n",
       "    }\n",
       "\n",
       "    .dataframe tbody tr th {\n",
       "        vertical-align: top;\n",
       "    }\n",
       "\n",
       "    .dataframe thead th {\n",
       "        text-align: right;\n",
       "    }\n",
       "</style>\n",
       "<table border=\"1\" class=\"dataframe\">\n",
       "  <thead>\n",
       "    <tr style=\"text-align: right;\">\n",
       "      <th></th>\n",
       "      <th>wcr_no</th>\n",
       "      <th>TownshipRange</th>\n",
       "      <th>completed_depth_updated</th>\n",
       "      <th>year_work_ended</th>\n",
       "      <th>county</th>\n",
       "      <th>year</th>\n",
       "      <th>gse_gwe</th>\n",
       "    </tr>\n",
       "  </thead>\n",
       "  <tbody>\n",
       "    <tr>\n",
       "      <th>30544</th>\n",
       "      <td>WCR1984-005102</td>\n",
       "      <td>T13S R22E</td>\n",
       "      <td>124.0</td>\n",
       "      <td>1984.0</td>\n",
       "      <td>Fresno</td>\n",
       "      <td>2020.0</td>\n",
       "      <td>47.46875</td>\n",
       "    </tr>\n",
       "  </tbody>\n",
       "</table>\n",
       "</div>"
      ],
      "text/plain": [
       "               wcr_no TownshipRange  completed_depth_updated  year_work_ended  \\\n",
       "30544  WCR1984-005102     T13S R22E                    124.0           1984.0   \n",
       "\n",
       "       county    year   gse_gwe  \n",
       "30544  Fresno  2020.0  47.46875  "
      ]
     },
     "execution_count": 34,
     "metadata": {},
     "output_type": "execute_result"
    }
   ],
   "source": [
    "# merge the wells data with the 2020 measurements data by township/range\n",
    "wells_depth = wells.loc[wells['use'] == 'domestic',['wcr_no','TownshipRange','completed_depth_updated','year_work_ended','county']]\n",
    "wells_depth = wells_depth.merge(range_levels_2020, on=[\"TownshipRange\"], how=\"left\")\n",
    "wells_depth = wells_depth.drop_duplicates(subset=\"wcr_no\")\n",
    "wells_depth.sample()"
   ]
  },
  {
   "cell_type": "code",
   "execution_count": 35,
   "id": "c270d10a-b863-4dee-8066-7b3f1af71975",
   "metadata": {},
   "outputs": [],
   "source": [
    "# categorize dry and not dry wells based on depth (allowing for 20 feet of pump placement)\n",
    "wells_depth['condition'] = 'not_dry'\n",
    "wells_depth.loc[pd.isna(wells_depth['completed_depth_updated']) | pd.isna(wells_depth['gse_gwe']), 'condition'] = 'unknown'\n",
    "wells_depth.loc[wells_depth['completed_depth_updated'] - 20 <= wells_depth['gse_gwe'], 'condition'] = 'dry'"
   ]
  },
  {
   "cell_type": "code",
   "execution_count": 36,
   "id": "f14589c5-51f6-4d83-9279-cb2f6a528fd5",
   "metadata": {},
   "outputs": [
    {
     "data": {
      "text/html": [
       "<div>\n",
       "<style scoped>\n",
       "    .dataframe tbody tr th:only-of-type {\n",
       "        vertical-align: middle;\n",
       "    }\n",
       "\n",
       "    .dataframe tbody tr th {\n",
       "        vertical-align: top;\n",
       "    }\n",
       "\n",
       "    .dataframe thead th {\n",
       "        text-align: right;\n",
       "    }\n",
       "</style>\n",
       "<table border=\"1\" class=\"dataframe\">\n",
       "  <thead>\n",
       "    <tr style=\"text-align: right;\">\n",
       "      <th></th>\n",
       "      <th>wcr_no</th>\n",
       "      <th>TownshipRange</th>\n",
       "      <th>completed_depth_updated</th>\n",
       "      <th>year_work_ended</th>\n",
       "      <th>county</th>\n",
       "      <th>year</th>\n",
       "      <th>gse_gwe</th>\n",
       "      <th>condition</th>\n",
       "    </tr>\n",
       "  </thead>\n",
       "  <tbody>\n",
       "    <tr>\n",
       "      <th>26738</th>\n",
       "      <td>WCR0175700</td>\n",
       "      <td>T10S R11E</td>\n",
       "      <td>125.0</td>\n",
       "      <td>1973.0</td>\n",
       "      <td>Merced</td>\n",
       "      <td>2020.0</td>\n",
       "      <td>14.7375</td>\n",
       "      <td>not_dry</td>\n",
       "    </tr>\n",
       "  </tbody>\n",
       "</table>\n",
       "</div>"
      ],
      "text/plain": [
       "           wcr_no TownshipRange  completed_depth_updated  year_work_ended  \\\n",
       "26738  WCR0175700     T10S R11E                    125.0           1973.0   \n",
       "\n",
       "       county    year  gse_gwe condition  \n",
       "26738  Merced  2020.0  14.7375   not_dry  "
      ]
     },
     "execution_count": 36,
     "metadata": {},
     "output_type": "execute_result"
    }
   ],
   "source": [
    "# get all of the 'not dry' 2020 wells\n",
    "not_dry_2020 = wells_depth.loc[wells_depth['condition'] == 'not_dry']\n",
    "not_dry_2020.sample()"
   ]
  },
  {
   "cell_type": "code",
   "execution_count": 490,
   "id": "eef5b265-451d-4464-9ba2-4718bf765b8c",
   "metadata": {},
   "outputs": [
    {
     "data": {
      "text/html": [
       "<div>\n",
       "<style scoped>\n",
       "    .dataframe tbody tr th:only-of-type {\n",
       "        vertical-align: middle;\n",
       "    }\n",
       "\n",
       "    .dataframe tbody tr th {\n",
       "        vertical-align: top;\n",
       "    }\n",
       "\n",
       "    .dataframe thead th {\n",
       "        text-align: right;\n",
       "    }\n",
       "</style>\n",
       "<table border=\"1\" class=\"dataframe\">\n",
       "  <thead>\n",
       "    <tr style=\"text-align: right;\">\n",
       "      <th></th>\n",
       "      <th>county</th>\n",
       "      <th>count</th>\n",
       "    </tr>\n",
       "  </thead>\n",
       "  <tbody>\n",
       "    <tr>\n",
       "      <th>0</th>\n",
       "      <td>Fresno</td>\n",
       "      <td>12358</td>\n",
       "    </tr>\n",
       "    <tr>\n",
       "      <th>1</th>\n",
       "      <td>Kern</td>\n",
       "      <td>1445</td>\n",
       "    </tr>\n",
       "    <tr>\n",
       "      <th>2</th>\n",
       "      <td>Kings</td>\n",
       "      <td>1938</td>\n",
       "    </tr>\n",
       "    <tr>\n",
       "      <th>3</th>\n",
       "      <td>Madera</td>\n",
       "      <td>2346</td>\n",
       "    </tr>\n",
       "    <tr>\n",
       "      <th>4</th>\n",
       "      <td>Merced</td>\n",
       "      <td>5897</td>\n",
       "    </tr>\n",
       "    <tr>\n",
       "      <th>5</th>\n",
       "      <td>San Joaquin</td>\n",
       "      <td>8122</td>\n",
       "    </tr>\n",
       "    <tr>\n",
       "      <th>6</th>\n",
       "      <td>Stanislaus</td>\n",
       "      <td>7546</td>\n",
       "    </tr>\n",
       "    <tr>\n",
       "      <th>7</th>\n",
       "      <td>Tulare</td>\n",
       "      <td>5365</td>\n",
       "    </tr>\n",
       "  </tbody>\n",
       "</table>\n",
       "</div>"
      ],
      "text/plain": [
       "        county  count\n",
       "0       Fresno  12358\n",
       "1         Kern   1445\n",
       "2        Kings   1938\n",
       "3       Madera   2346\n",
       "4       Merced   5897\n",
       "5  San Joaquin   8122\n",
       "6   Stanislaus   7546\n",
       "7       Tulare   5365"
      ]
     },
     "execution_count": 490,
     "metadata": {},
     "output_type": "execute_result"
    }
   ],
   "source": [
    "# how many not dry wells are in each county?\n",
    "not_dry_2020[not_dry_2020['county'].isin(main_counties)].groupby('county').size().reset_index(name='count')"
   ]
  },
  {
   "cell_type": "code",
   "execution_count": 37,
   "id": "ab4e1da1-530c-4c2f-8f8a-ba061beab0cd",
   "metadata": {},
   "outputs": [
    {
     "data": {
      "text/html": [
       "<div>\n",
       "<style scoped>\n",
       "    .dataframe tbody tr th:only-of-type {\n",
       "        vertical-align: middle;\n",
       "    }\n",
       "\n",
       "    .dataframe tbody tr th {\n",
       "        vertical-align: top;\n",
       "    }\n",
       "\n",
       "    .dataframe thead th {\n",
       "        text-align: right;\n",
       "    }\n",
       "</style>\n",
       "<table border=\"1\" class=\"dataframe\">\n",
       "  <thead>\n",
       "    <tr style=\"text-align: right;\">\n",
       "      <th></th>\n",
       "      <th>wcr_no</th>\n",
       "      <th>TownshipRange</th>\n",
       "      <th>completed_depth_updated</th>\n",
       "      <th>year_work_ended</th>\n",
       "      <th>county</th>\n",
       "      <th>level_2020</th>\n",
       "      <th>condition_2020</th>\n",
       "      <th>level_2021</th>\n",
       "    </tr>\n",
       "  </thead>\n",
       "  <tbody>\n",
       "    <tr>\n",
       "      <th>32981</th>\n",
       "      <td>WCR1979-002372</td>\n",
       "      <td>T13S R22E</td>\n",
       "      <td>140.0</td>\n",
       "      <td>1979.0</td>\n",
       "      <td>Fresno</td>\n",
       "      <td>47.46875</td>\n",
       "      <td>not_dry</td>\n",
       "      <td>50.327273</td>\n",
       "    </tr>\n",
       "  </tbody>\n",
       "</table>\n",
       "</div>"
      ],
      "text/plain": [
       "               wcr_no TownshipRange  completed_depth_updated  year_work_ended  \\\n",
       "32981  WCR1979-002372     T13S R22E                    140.0           1979.0   \n",
       "\n",
       "       county  level_2020 condition_2020  level_2021  \n",
       "32981  Fresno    47.46875        not_dry   50.327273  "
      ]
     },
     "execution_count": 37,
     "metadata": {},
     "output_type": "execute_result"
    }
   ],
   "source": [
    "# merge the not dry 2020 with the range 2021\n",
    "dry_wells_2021 = not_dry_2020.merge(range_levels_2021, on=[\"TownshipRange\"], how=\"left\")\n",
    "dry_wells_2021 = dry_wells_2021.drop_duplicates(subset=\"wcr_no\")\n",
    "dry_wells_2021.rename(columns={\"gse_gwe_x\":\"level_2020\", \"gse_gwe_y\":\"level_2021\", \"condition\":\"condition_2020\"}, inplace=True)\n",
    "dry_wells_2021.drop(columns=['year_x', 'year_y'], inplace=True)\n",
    "dry_wells_2021.sample()"
   ]
  },
  {
   "cell_type": "code",
   "execution_count": 38,
   "id": "06ac8023-5805-4a50-9a79-6ce8dddfe797",
   "metadata": {},
   "outputs": [
    {
     "data": {
      "text/html": [
       "<div>\n",
       "<style scoped>\n",
       "    .dataframe tbody tr th:only-of-type {\n",
       "        vertical-align: middle;\n",
       "    }\n",
       "\n",
       "    .dataframe tbody tr th {\n",
       "        vertical-align: top;\n",
       "    }\n",
       "\n",
       "    .dataframe thead th {\n",
       "        text-align: right;\n",
       "    }\n",
       "</style>\n",
       "<table border=\"1\" class=\"dataframe\">\n",
       "  <thead>\n",
       "    <tr style=\"text-align: right;\">\n",
       "      <th></th>\n",
       "      <th>wcr_no</th>\n",
       "      <th>TownshipRange</th>\n",
       "      <th>completed_depth_updated</th>\n",
       "      <th>year_work_ended</th>\n",
       "      <th>county</th>\n",
       "      <th>level_2020</th>\n",
       "      <th>condition_2020</th>\n",
       "      <th>level_2021</th>\n",
       "      <th>condition_2021</th>\n",
       "    </tr>\n",
       "  </thead>\n",
       "  <tbody>\n",
       "    <tr>\n",
       "      <th>3283</th>\n",
       "      <td>WCR1998-004245</td>\n",
       "      <td>T02S R07E</td>\n",
       "      <td>195.0</td>\n",
       "      <td>1998.0</td>\n",
       "      <td>San Joaquin</td>\n",
       "      <td>36.7</td>\n",
       "      <td>not_dry</td>\n",
       "      <td>10.0</td>\n",
       "      <td>not_dry</td>\n",
       "    </tr>\n",
       "  </tbody>\n",
       "</table>\n",
       "</div>"
      ],
      "text/plain": [
       "              wcr_no TownshipRange  completed_depth_updated  year_work_ended  \\\n",
       "3283  WCR1998-004245     T02S R07E                    195.0           1998.0   \n",
       "\n",
       "           county  level_2020 condition_2020  level_2021 condition_2021  \n",
       "3283  San Joaquin        36.7        not_dry        10.0        not_dry  "
      ]
     },
     "execution_count": 38,
     "metadata": {},
     "output_type": "execute_result"
    }
   ],
   "source": [
    "# categorize dry and not dry wells based on depth (allowing for 20 feet of pump placement)\n",
    "dry_wells_2021['condition_2021'] = 'not_dry'\n",
    "dry_wells_2021.loc[pd.isna(dry_wells_2021['completed_depth_updated']) | pd.isna(dry_wells_2021['level_2021']), 'condition_2021'] = 'unknown'\n",
    "dry_wells_2021.loc[dry_wells_2021['completed_depth_updated'] - 20 <= dry_wells_2021['level_2021'], 'condition_2021'] = 'dry'\n",
    "dry_wells_2021.sample()"
   ]
  },
  {
   "cell_type": "code",
   "execution_count": 39,
   "id": "47eb3d42-1d06-4b9e-8639-c37dddc9a63a",
   "metadata": {},
   "outputs": [],
   "source": [
    "dry_wells_2021_range = dry_wells_2021.groupby(['TownshipRange','condition_2021']).size().reset_index(name='count')\n",
    "dry_wells_2021_county = dry_wells_2021.groupby(['county','condition_2021']).size().reset_index(name='count')"
   ]
  },
  {
   "cell_type": "code",
   "execution_count": 40,
   "id": "d3e608c9-3718-4d2a-b4cb-faaf3b6b3c4d",
   "metadata": {},
   "outputs": [
    {
     "data": {
      "text/html": [
       "<div>\n",
       "<style scoped>\n",
       "    .dataframe tbody tr th:only-of-type {\n",
       "        vertical-align: middle;\n",
       "    }\n",
       "\n",
       "    .dataframe tbody tr th {\n",
       "        vertical-align: top;\n",
       "    }\n",
       "\n",
       "    .dataframe thead th {\n",
       "        text-align: right;\n",
       "    }\n",
       "</style>\n",
       "<table border=\"1\" class=\"dataframe\">\n",
       "  <thead>\n",
       "    <tr style=\"text-align: right;\">\n",
       "      <th>condition_2021</th>\n",
       "      <th>TownshipRange</th>\n",
       "      <th>dry</th>\n",
       "      <th>not_dry</th>\n",
       "      <th>unknown</th>\n",
       "    </tr>\n",
       "  </thead>\n",
       "  <tbody>\n",
       "    <tr>\n",
       "      <th>0</th>\n",
       "      <td>T01N R02E</td>\n",
       "      <td>5.0</td>\n",
       "      <td>204.0</td>\n",
       "      <td>0.0</td>\n",
       "    </tr>\n",
       "    <tr>\n",
       "      <th>1</th>\n",
       "      <td>T01N R03E</td>\n",
       "      <td>2.0</td>\n",
       "      <td>559.0</td>\n",
       "      <td>0.0</td>\n",
       "    </tr>\n",
       "    <tr>\n",
       "      <th>2</th>\n",
       "      <td>T01N R06E</td>\n",
       "      <td>6.0</td>\n",
       "      <td>140.0</td>\n",
       "      <td>0.0</td>\n",
       "    </tr>\n",
       "    <tr>\n",
       "      <th>3</th>\n",
       "      <td>T01N R07E</td>\n",
       "      <td>0.0</td>\n",
       "      <td>308.0</td>\n",
       "      <td>0.0</td>\n",
       "    </tr>\n",
       "    <tr>\n",
       "      <th>4</th>\n",
       "      <td>T01N R08E</td>\n",
       "      <td>0.0</td>\n",
       "      <td>205.0</td>\n",
       "      <td>0.0</td>\n",
       "    </tr>\n",
       "  </tbody>\n",
       "</table>\n",
       "</div>"
      ],
      "text/plain": [
       "condition_2021 TownshipRange  dry  not_dry  unknown\n",
       "0                  T01N R02E  5.0    204.0      0.0\n",
       "1                  T01N R03E  2.0    559.0      0.0\n",
       "2                  T01N R06E  6.0    140.0      0.0\n",
       "3                  T01N R07E  0.0    308.0      0.0\n",
       "4                  T01N R08E  0.0    205.0      0.0"
      ]
     },
     "execution_count": 40,
     "metadata": {},
     "output_type": "execute_result"
    }
   ],
   "source": [
    "dry_wells_2021_range = dry_wells_2021_range.pivot(index=['TownshipRange'], columns='condition_2021', values='count').reset_index()\n",
    "dry_wells_2021_range = dry_wells_2021_range.fillna(0)\n",
    "dry_wells_2021_range.head()"
   ]
  },
  {
   "cell_type": "code",
   "execution_count": 41,
   "id": "37d64dfa-15a2-4b10-ad86-316b3385b8bc",
   "metadata": {},
   "outputs": [
    {
     "data": {
      "text/plain": [
       "1010.0"
      ]
     },
     "execution_count": 41,
     "metadata": {},
     "output_type": "execute_result"
    }
   ],
   "source": [
    "dry_wells_2021_range['dry'].sum()"
   ]
  },
  {
   "cell_type": "markdown",
   "id": "01df10f9-14c1-4805-baeb-364d4cf6cac4",
   "metadata": {},
   "source": [
    "## Household water shortages by year"
   ]
  },
  {
   "cell_type": "code",
   "execution_count": 42,
   "id": "e97d9274-9ab4-4803-87bc-2a70b4f3fcdb",
   "metadata": {},
   "outputs": [],
   "source": [
    "shortage_by_year = shortage.groupby(by=['CreateDateYear']).size().reset_index(name='Count')\n",
    "shortage_by_year.rename(columns={'CreateDateYear':'Year'}, inplace=True)\n",
    "shortage_by_year['Year'] = shortage_by_year['Year'].astype('int')"
   ]
  },
  {
   "cell_type": "code",
   "execution_count": 43,
   "id": "2f553866-ba7b-4465-9a23-09263f3ae377",
   "metadata": {},
   "outputs": [
    {
     "data": {
      "text/html": [
       "<div>\n",
       "<style scoped>\n",
       "    .dataframe tbody tr th:only-of-type {\n",
       "        vertical-align: middle;\n",
       "    }\n",
       "\n",
       "    .dataframe tbody tr th {\n",
       "        vertical-align: top;\n",
       "    }\n",
       "\n",
       "    .dataframe thead th {\n",
       "        text-align: right;\n",
       "    }\n",
       "</style>\n",
       "<table border=\"1\" class=\"dataframe\">\n",
       "  <thead>\n",
       "    <tr style=\"text-align: right;\">\n",
       "      <th></th>\n",
       "      <th>Year</th>\n",
       "      <th>Count</th>\n",
       "    </tr>\n",
       "  </thead>\n",
       "  <tbody>\n",
       "    <tr>\n",
       "      <th>0</th>\n",
       "      <td>2012</td>\n",
       "      <td>1</td>\n",
       "    </tr>\n",
       "    <tr>\n",
       "      <th>1</th>\n",
       "      <td>2014</td>\n",
       "      <td>166</td>\n",
       "    </tr>\n",
       "    <tr>\n",
       "      <th>2</th>\n",
       "      <td>2015</td>\n",
       "      <td>297</td>\n",
       "    </tr>\n",
       "    <tr>\n",
       "      <th>3</th>\n",
       "      <td>2016</td>\n",
       "      <td>1334</td>\n",
       "    </tr>\n",
       "    <tr>\n",
       "      <th>4</th>\n",
       "      <td>2017</td>\n",
       "      <td>168</td>\n",
       "    </tr>\n",
       "    <tr>\n",
       "      <th>5</th>\n",
       "      <td>2018</td>\n",
       "      <td>30</td>\n",
       "    </tr>\n",
       "    <tr>\n",
       "      <th>6</th>\n",
       "      <td>2019</td>\n",
       "      <td>29</td>\n",
       "    </tr>\n",
       "    <tr>\n",
       "      <th>7</th>\n",
       "      <td>2020</td>\n",
       "      <td>29</td>\n",
       "    </tr>\n",
       "    <tr>\n",
       "      <th>8</th>\n",
       "      <td>2021</td>\n",
       "      <td>465</td>\n",
       "    </tr>\n",
       "  </tbody>\n",
       "</table>\n",
       "</div>"
      ],
      "text/plain": [
       "   Year  Count\n",
       "0  2012      1\n",
       "1  2014    166\n",
       "2  2015    297\n",
       "3  2016   1334\n",
       "4  2017    168\n",
       "5  2018     30\n",
       "6  2019     29\n",
       "7  2020     29\n",
       "8  2021    465"
      ]
     },
     "execution_count": 43,
     "metadata": {},
     "output_type": "execute_result"
    }
   ],
   "source": [
    "shortage_by_year"
   ]
  },
  {
   "cell_type": "code",
   "execution_count": 44,
   "id": "9451d2ca-b4b9-4cb4-bbb6-c21c604ea0fb",
   "metadata": {},
   "outputs": [
    {
     "data": {
      "text/plain": [
       "15.03448275862069"
      ]
     },
     "execution_count": 44,
     "metadata": {},
     "output_type": "execute_result"
    }
   ],
   "source": [
    "# percent change frpm 2020 to 2021\n",
    "(shortage_by_year['Count'].iloc[-1] -  shortage_by_year['Count'].iloc[-2]) / shortage_by_year['Count'].iloc[-2]"
   ]
  },
  {
   "cell_type": "markdown",
   "id": "81657787-ba5a-4575-b013-e5e9e85c4f94",
   "metadata": {},
   "source": [
    "## Shortages by year and county"
   ]
  },
  {
   "cell_type": "code",
   "execution_count": 46,
   "id": "461caba7-20b5-418b-a480-6ebe4d6bebb7",
   "metadata": {},
   "outputs": [],
   "source": [
    "shortage_by_year_county = shortage[shortage['County'].isin(main_counties)].groupby(by=['CreateDateYear', 'County']).size().reset_index(name='Count')\n",
    "shortage_by_year_county.rename(columns={'CreateDateYear':'Year'}, inplace=True)\n",
    "shortage_by_year_county['Year'] = shortage_by_year_county['Year'].astype('int')"
   ]
  },
  {
   "cell_type": "code",
   "execution_count": 54,
   "id": "ee957d2c-31ce-47dd-a4fe-dc73b31c0db3",
   "metadata": {},
   "outputs": [
    {
     "data": {
      "text/html": [
       "<div>\n",
       "<style scoped>\n",
       "    .dataframe tbody tr th:only-of-type {\n",
       "        vertical-align: middle;\n",
       "    }\n",
       "\n",
       "    .dataframe tbody tr th {\n",
       "        vertical-align: top;\n",
       "    }\n",
       "\n",
       "    .dataframe thead th {\n",
       "        text-align: right;\n",
       "    }\n",
       "</style>\n",
       "<table border=\"1\" class=\"dataframe\">\n",
       "  <thead>\n",
       "    <tr style=\"text-align: right;\">\n",
       "      <th></th>\n",
       "      <th>Year</th>\n",
       "      <th>County</th>\n",
       "      <th>Count</th>\n",
       "    </tr>\n",
       "  </thead>\n",
       "  <tbody>\n",
       "    <tr>\n",
       "      <th>42</th>\n",
       "      <td>2021</td>\n",
       "      <td>Fresno</td>\n",
       "      <td>113</td>\n",
       "    </tr>\n",
       "    <tr>\n",
       "      <th>43</th>\n",
       "      <td>2021</td>\n",
       "      <td>Kern</td>\n",
       "      <td>3</td>\n",
       "    </tr>\n",
       "    <tr>\n",
       "      <th>44</th>\n",
       "      <td>2021</td>\n",
       "      <td>Kings</td>\n",
       "      <td>15</td>\n",
       "    </tr>\n",
       "    <tr>\n",
       "      <th>45</th>\n",
       "      <td>2021</td>\n",
       "      <td>Madera</td>\n",
       "      <td>127</td>\n",
       "    </tr>\n",
       "    <tr>\n",
       "      <th>46</th>\n",
       "      <td>2021</td>\n",
       "      <td>Merced</td>\n",
       "      <td>44</td>\n",
       "    </tr>\n",
       "    <tr>\n",
       "      <th>47</th>\n",
       "      <td>2021</td>\n",
       "      <td>San Joaquin</td>\n",
       "      <td>19</td>\n",
       "    </tr>\n",
       "    <tr>\n",
       "      <th>48</th>\n",
       "      <td>2021</td>\n",
       "      <td>Stanislaus</td>\n",
       "      <td>9</td>\n",
       "    </tr>\n",
       "    <tr>\n",
       "      <th>49</th>\n",
       "      <td>2021</td>\n",
       "      <td>Tulare</td>\n",
       "      <td>133</td>\n",
       "    </tr>\n",
       "  </tbody>\n",
       "</table>\n",
       "</div>"
      ],
      "text/plain": [
       "    Year       County  Count\n",
       "42  2021       Fresno    113\n",
       "43  2021         Kern      3\n",
       "44  2021        Kings     15\n",
       "45  2021       Madera    127\n",
       "46  2021       Merced     44\n",
       "47  2021  San Joaquin     19\n",
       "48  2021   Stanislaus      9\n",
       "49  2021       Tulare    133"
      ]
     },
     "execution_count": 54,
     "metadata": {},
     "output_type": "execute_result"
    }
   ],
   "source": [
    "shortage_by_year_county[shortage_by_year_county['Year']==2021]"
   ]
  },
  {
   "cell_type": "code",
   "execution_count": 61,
   "id": "25e13011-691f-40c3-8391-f4000de1ffd8",
   "metadata": {},
   "outputs": [
    {
     "data": {
      "text/plain": [
       "0.2860215053763441"
      ]
     },
     "execution_count": 61,
     "metadata": {},
     "output_type": "execute_result"
    }
   ],
   "source": [
    "# Percent of shortages that are from Tulare County\n",
    "shortages_2021 = shortage_by_year[shortage_by_year['Year']==2021]['Count'].iloc[0]\n",
    "shortages_2021_Tulare = shortage_by_year_county[(shortage_by_year_county['Year']==2021) & (shortage_by_year_county['County']=='Tulare')]['Count'].iloc[0]\n",
    "shortages_2021_Tulare / shortages_2021"
   ]
  }
 ],
 "metadata": {
  "kernelspec": {
   "display_name": "Python 3 (ipykernel)",
   "language": "python",
   "name": "python3"
  },
  "language_info": {
   "codemirror_mode": {
    "name": "ipython",
    "version": 3
   },
   "file_extension": ".py",
   "mimetype": "text/x-python",
   "name": "python",
   "nbconvert_exporter": "python",
   "pygments_lexer": "ipython3",
   "version": "3.9.6"
  },
  "toc-showtags": false
 },
 "nbformat": 4,
 "nbformat_minor": 5
}
